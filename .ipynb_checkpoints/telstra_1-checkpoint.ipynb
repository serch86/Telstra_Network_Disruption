{
 "cells": [
  {
   "cell_type": "markdown",
   "metadata": {},
   "source": [
    "# Notebook Telstra Network Disruption\n",
    "\n",
    "Predecir la gravedad de la falla en 3 niveles"
   ]
  },
  {
   "cell_type": "markdown",
   "metadata": {},
   "source": [
    "The goal of the problem is to predict Telstra network's fault severity at a time at a particular location based on the log data available. Each row in the main dataset (train.csv, test.csv) represents a location and a time point. They are identified by the \"id\" column, which is the key \"id\" used in other data files. \n",
    "\n",
    "Fault severity has 3 categories: 0,1,2 (0 meaning no fault, 1 meaning only a few, and 2 meaning many). \n",
    "\n",
    "Different types of features are extracted from log files and other sources: event_type.csv, log_feature.csv, resource_type.csv, severity_type.csv. \n",
    "\n",
    "Note: “severity_type” is a feature extracted from the log files (in severity_type.csv). Often this is a severity type of a warning message coming from the log. \"severity_type\" is categorical. It does not have an ordering. “fault_severity” is a measurement of actual reported faults from users of the network and is the target variable (in train.csv).\n",
    "File descriptions\n",
    "\n",
    "    train.csv - the training set for fault severity\n",
    "    test.csv - the test set for fault severity\n",
    "    sample_submission.csv - a sample submission file in the correct format\n",
    "    event_type.csv - event type related to the main dataset\n",
    "    log_feature.csv - features extracted from log files\n",
    "    resource_type.csv - type of resource related to the main dataset\n",
    "    severity_type.csv -  severity type of a warning message coming from the log\n"
   ]
  },
  {
   "cell_type": "code",
   "execution_count": 1,
   "metadata": {},
   "outputs": [],
   "source": [
    "import pandas as pd\n",
    "import numpy as np\n",
    "import matplotlib.pyplot as plt\n",
    "import seaborn as sns\n",
    "import pandas_profiling\n",
    "\n",
    "font = {'family' : 'sans',\n",
    "        'weight' : 'bold',\n",
    "        'size'   : 20}\n",
    "plt.rc('font', **font)\n",
    "plt.rcParams['xtick.labelsize'] = 16\n",
    "plt.rcParams['ytick.labelsize'] = 16\n",
    "plt.rcParams[u'figure.figsize'] = (16,12)\n",
    "params = {'legend.fontsize': 'x-large',\n",
    "         'axes.labelsize': 'x-large',\n",
    "         }\n",
    "# plt.style.use('seaborn-poster')\n",
    "plt.style.use('ggplot')"
   ]
  },
  {
   "cell_type": "markdown",
   "metadata": {},
   "source": [
    "# Descripcion de tablas"
   ]
  },
  {
   "cell_type": "markdown",
   "metadata": {},
   "source": [
    "## Tabla Event_type\n",
    "\n",
    "Corresponde a la tabla de tipo de evento que se sucito, relacionado con el  dataset principal\n",
    "\n",
    "Se analizo por que habia en algunos casos 2 o 3 columnas y corresponde a eventos donde se susitaron dos eventos en el mismo id.\n",
    "\n",
    "<img src=\"event_type_exp.png\">\n",
    "\n",
    "Solo corresponde al 8% de los eventos registrados por lo que __no__ se tomaran esos registros."
   ]
  },
  {
   "cell_type": "code",
   "execution_count": 2,
   "metadata": {},
   "outputs": [],
   "source": [
    "event_type = pd.read_csv(\"event_type.csv\", error_bad_lines=False, warn_bad_lines=False)\n",
    "event_type.drop(31170,inplace=True) # se quita por que tiene un error\n",
    "event_type[\"id\"] = event_type[\"id\"].astype(int)\n",
    "event_type[\"event_type\"] = event_type.event_type.astype(\"category\")"
   ]
  },
  {
   "cell_type": "code",
   "execution_count": 3,
   "metadata": {},
   "outputs": [
    {
     "data": {
      "text/html": [
       "<div>\n",
       "<style scoped>\n",
       "    .dataframe tbody tr th:only-of-type {\n",
       "        vertical-align: middle;\n",
       "    }\n",
       "\n",
       "    .dataframe tbody tr th {\n",
       "        vertical-align: top;\n",
       "    }\n",
       "\n",
       "    .dataframe thead th {\n",
       "        text-align: right;\n",
       "    }\n",
       "</style>\n",
       "<table border=\"1\" class=\"dataframe\">\n",
       "  <thead>\n",
       "    <tr style=\"text-align: right;\">\n",
       "      <th></th>\n",
       "      <th>id</th>\n",
       "      <th>event_type</th>\n",
       "    </tr>\n",
       "  </thead>\n",
       "  <tbody>\n",
       "    <tr>\n",
       "      <th>0</th>\n",
       "      <td>6597</td>\n",
       "      <td>event_type 11</td>\n",
       "    </tr>\n",
       "    <tr>\n",
       "      <th>1</th>\n",
       "      <td>8011</td>\n",
       "      <td>event_type 15</td>\n",
       "    </tr>\n",
       "    <tr>\n",
       "      <th>2</th>\n",
       "      <td>2597</td>\n",
       "      <td>event_type 15</td>\n",
       "    </tr>\n",
       "    <tr>\n",
       "      <th>3</th>\n",
       "      <td>5022</td>\n",
       "      <td>event_type 15</td>\n",
       "    </tr>\n",
       "    <tr>\n",
       "      <th>4</th>\n",
       "      <td>5022</td>\n",
       "      <td>event_type 11</td>\n",
       "    </tr>\n",
       "  </tbody>\n",
       "</table>\n",
       "</div>"
      ],
      "text/plain": [
       "     id     event_type\n",
       "0  6597  event_type 11\n",
       "1  8011  event_type 15\n",
       "2  2597  event_type 15\n",
       "3  5022  event_type 15\n",
       "4  5022  event_type 11"
      ]
     },
     "execution_count": 3,
     "metadata": {},
     "output_type": "execute_result"
    }
   ],
   "source": [
    "event_type.head()"
   ]
  },
  {
   "cell_type": "code",
   "execution_count": 4,
   "metadata": {},
   "outputs": [
    {
     "data": {
      "text/html": [
       "<div>\n",
       "<style scoped>\n",
       "    .dataframe tbody tr th:only-of-type {\n",
       "        vertical-align: middle;\n",
       "    }\n",
       "\n",
       "    .dataframe tbody tr th {\n",
       "        vertical-align: top;\n",
       "    }\n",
       "\n",
       "    .dataframe thead th {\n",
       "        text-align: right;\n",
       "    }\n",
       "</style>\n",
       "<table border=\"1\" class=\"dataframe\">\n",
       "  <thead>\n",
       "    <tr style=\"text-align: right;\">\n",
       "      <th></th>\n",
       "      <th>id</th>\n",
       "      <th>event_type</th>\n",
       "    </tr>\n",
       "  </thead>\n",
       "  <tbody>\n",
       "    <tr>\n",
       "      <th>31165</th>\n",
       "      <td>3761</td>\n",
       "      <td>event_type 11</td>\n",
       "    </tr>\n",
       "    <tr>\n",
       "      <th>31166</th>\n",
       "      <td>8720</td>\n",
       "      <td>event_type 11</td>\n",
       "    </tr>\n",
       "    <tr>\n",
       "      <th>31167</th>\n",
       "      <td>6488</td>\n",
       "      <td>event_type 11</td>\n",
       "    </tr>\n",
       "    <tr>\n",
       "      <th>31168</th>\n",
       "      <td>878</td>\n",
       "      <td>event_type 11</td>\n",
       "    </tr>\n",
       "    <tr>\n",
       "      <th>31169</th>\n",
       "      <td>4464</td>\n",
       "      <td>event_type 11</td>\n",
       "    </tr>\n",
       "  </tbody>\n",
       "</table>\n",
       "</div>"
      ],
      "text/plain": [
       "         id     event_type\n",
       "31165  3761  event_type 11\n",
       "31166  8720  event_type 11\n",
       "31167  6488  event_type 11\n",
       "31168   878  event_type 11\n",
       "31169  4464  event_type 11"
      ]
     },
     "execution_count": 4,
     "metadata": {},
     "output_type": "execute_result"
    }
   ],
   "source": [
    "event_type.tail()"
   ]
  },
  {
   "cell_type": "code",
   "execution_count": 5,
   "metadata": {},
   "outputs": [
    {
     "data": {
      "text/html": [
       "\n",
       "        <iframe\n",
       "            width=\"100%\"\n",
       "            height=\"800px\"\n",
       "            src=\"ipynb_tmp/profile_4100834820.html\"\n",
       "            frameborder=\"0\"\n",
       "            allowfullscreen\n",
       "        ></iframe>\n",
       "        "
      ],
      "text/plain": [
       "<IPython.lib.display.IFrame at 0x7feb2609deb8>"
      ]
     },
     "metadata": {},
     "output_type": "display_data"
    },
    {
     "data": {
      "text/plain": []
     },
     "execution_count": 5,
     "metadata": {},
     "output_type": "execute_result"
    }
   ],
   "source": [
    "event_type.profile_report()"
   ]
  },
  {
   "cell_type": "markdown",
   "metadata": {},
   "source": [
    "## Se repiten algunos ID's ojo al hacer el merge por que generan duplicados."
   ]
  },
  {
   "cell_type": "markdown",
   "metadata": {},
   "source": [
    "### Transformaciones a tipo de evento\n",
    "Variable categorica nominal, se aplicara one hot encoding (pd.get_dummies)"
   ]
  },
  {
   "cell_type": "code",
   "execution_count": 6,
   "metadata": {},
   "outputs": [
    {
     "data": {
      "text/plain": [
       "event_type 11    0.253064\n",
       "event_type 35    0.212223\n",
       "event_type 34    0.190151\n",
       "event_type 15    0.141001\n",
       "event_type 20    0.046776\n",
       "event_type 54    0.021944\n",
       "event_type 13    0.018672\n",
       "event_type 42    0.015335\n",
       "event_type 44    0.014950\n",
       "event_type 23    0.013763\n",
       "event_type 14    0.010587\n",
       "event_type 43    0.009817\n",
       "event_type 22    0.007154\n",
       "event_type 50    0.004941\n",
       "event_type 10    0.004652\n",
       "event_type 21    0.004363\n",
       "event_type 18    0.002342\n",
       "event_type 47    0.002214\n",
       "event_type 26    0.002085\n",
       "event_type 32    0.002021\n",
       "event_type 30    0.001925\n",
       "event_type 45    0.001700\n",
       "event_type 24    0.001476\n",
       "event_type 27    0.001412\n",
       "event_type 29    0.001347\n",
       "event_type 40    0.001283\n",
       "event_type 46    0.001219\n",
       "event_type 2     0.001187\n",
       "event_type 28    0.001027\n",
       "event_type 8     0.000930\n",
       "event_type 6     0.000898\n",
       "event_type 5     0.000834\n",
       "event_type 7     0.000770\n",
       "event_type 3     0.000610\n",
       "event_type 38    0.000610\n",
       "event_type 36    0.000577\n",
       "event_type 39    0.000577\n",
       "event_type 53    0.000545\n",
       "event_type 49    0.000545\n",
       "event_type 19    0.000449\n",
       "event_type 9     0.000449\n",
       "event_type 31    0.000321\n",
       "event_type 37    0.000321\n",
       "event_type 12    0.000192\n",
       "event_type 25    0.000160\n",
       "event_type 51    0.000128\n",
       "event_type 1     0.000128\n",
       "event_type 17    0.000096\n",
       "event_type 41    0.000064\n",
       "event_type 48    0.000064\n",
       "event_type 33    0.000032\n",
       "event_type 4     0.000032\n",
       "event_type 52    0.000032\n",
       "Name: event_type, dtype: float64"
      ]
     },
     "execution_count": 6,
     "metadata": {},
     "output_type": "execute_result"
    }
   ],
   "source": [
    "event_type.event_type.value_counts(normalize=True)"
   ]
  },
  {
   "cell_type": "code",
   "execution_count": 7,
   "metadata": {},
   "outputs": [
    {
     "data": {
      "text/plain": [
       "<matplotlib.axes._subplots.AxesSubplot at 0x7feb25239978>"
      ]
     },
     "execution_count": 7,
     "metadata": {},
     "output_type": "execute_result"
    },
    {
     "data": {
      "image/png": "[encoded data removed]",
      "text/plain": [
       "<Figure size 720x576 with 1 Axes>"
      ]
     },
     "metadata": {
      "needs_background": "light"
     },
     "output_type": "display_data"
    }
   ],
   "source": [
    "event_type.event_type.value_counts(normalize=True).plot.barh(color='navy', figsize=(10,8), title='Porcentaje de tipos de eventos')"
   ]
  },
  {
   "cell_type": "markdown",
   "metadata": {},
   "source": [
    "Agruparemos los tipos de evento por que son un monton nos quedaremos con el top 20.\n",
    "\n",
    "Se podria tomar un decil pero se dejara para despues"
   ]
  },
  {
   "cell_type": "code",
   "execution_count": 8,
   "metadata": {},
   "outputs": [],
   "source": [
    "popular_events = event_type.event_type.value_counts().index.values[:20]\n",
    "\n",
    "event_type[\"event_type_grouped\"] = np.where(event_type.event_type.isin(popular_events),event_type.event_type,'others')"
   ]
  },
  {
   "cell_type": "code",
   "execution_count": 9,
   "metadata": {},
   "outputs": [
    {
     "data": {
      "text/plain": [
       "event_type 11    0.253064\n",
       "event_type 35    0.212223\n",
       "event_type 34    0.190151\n",
       "event_type 15    0.141001\n",
       "event_type 20    0.046776\n",
       "event_type 54    0.021944\n",
       "others           0.021944\n",
       "event_type 13    0.018672\n",
       "event_type 42    0.015335\n",
       "event_type 44    0.014950\n",
       "event_type 23    0.013763\n",
       "event_type 14    0.010587\n",
       "event_type 43    0.009817\n",
       "event_type 22    0.007154\n",
       "event_type 50    0.004941\n",
       "event_type 10    0.004652\n",
       "event_type 21    0.004363\n",
       "event_type 18    0.002342\n",
       "event_type 47    0.002214\n",
       "event_type 26    0.002085\n",
       "event_type 32    0.002021\n",
       "Name: event_type_grouped, dtype: float64"
      ]
     },
     "execution_count": 9,
     "metadata": {},
     "output_type": "execute_result"
    }
   ],
   "source": [
    "event_type.event_type_grouped.value_counts(normalize=True)"
   ]
  },
  {
   "cell_type": "code",
   "execution_count": 10,
   "metadata": {},
   "outputs": [
    {
     "data": {
      "text/plain": [
       "0.013763233878729547"
      ]
     },
     "execution_count": 10,
     "metadata": {},
     "output_type": "execute_result"
    }
   ],
   "source": [
    "event_type.event_type_grouped.value_counts(normalize=True).median()"
   ]
  },
  {
   "cell_type": "code",
   "execution_count": 11,
   "metadata": {},
   "outputs": [
    {
     "data": {
      "text/plain": [
       "Text(0.5,0,'Porcentaje %')"
      ]
     },
     "execution_count": 11,
     "metadata": {},
     "output_type": "execute_result"
    },
    {
     "data": {
      "image/png": "[encoded data removed]",
      "text/plain": [
       "<Figure size 720x360 with 1 Axes>"
      ]
     },
     "metadata": {
      "needs_background": "light"
     },
     "output_type": "display_data"
    }
   ],
   "source": [
    "event_type.event_type_grouped.value_counts(normalize=True).plot.barh(color='navy', figsize=(10,5), title='Porcentaje de tipos de eventos agrupados')\n",
    "plt.vlines(event_type.event_type_grouped.value_counts(normalize=True).median(),plt.ylim()[0],plt.ylim()[1], color='r')\n",
    "plt.legend(['mean','event_type',])\n",
    "plt.xlabel('Porcentaje %')"
   ]
  },
  {
   "cell_type": "code",
   "execution_count": 12,
   "metadata": {},
   "outputs": [
    {
     "data": {
      "text/html": [
       "<div>\n",
       "<style scoped>\n",
       "    .dataframe tbody tr th:only-of-type {\n",
       "        vertical-align: middle;\n",
       "    }\n",
       "\n",
       "    .dataframe tbody tr th {\n",
       "        vertical-align: top;\n",
       "    }\n",
       "\n",
       "    .dataframe thead th {\n",
       "        text-align: right;\n",
       "    }\n",
       "</style>\n",
       "<table border=\"1\" class=\"dataframe\">\n",
       "  <thead>\n",
       "    <tr style=\"text-align: right;\">\n",
       "      <th></th>\n",
       "      <th>id</th>\n",
       "      <th>event_type</th>\n",
       "      <th>event_type_grouped</th>\n",
       "    </tr>\n",
       "  </thead>\n",
       "  <tbody>\n",
       "    <tr>\n",
       "      <th>0</th>\n",
       "      <td>6597</td>\n",
       "      <td>event_type 11</td>\n",
       "      <td>event_type 11</td>\n",
       "    </tr>\n",
       "    <tr>\n",
       "      <th>1</th>\n",
       "      <td>8011</td>\n",
       "      <td>event_type 15</td>\n",
       "      <td>event_type 15</td>\n",
       "    </tr>\n",
       "    <tr>\n",
       "      <th>2</th>\n",
       "      <td>2597</td>\n",
       "      <td>event_type 15</td>\n",
       "      <td>event_type 15</td>\n",
       "    </tr>\n",
       "    <tr>\n",
       "      <th>3</th>\n",
       "      <td>5022</td>\n",
       "      <td>event_type 15</td>\n",
       "      <td>event_type 15</td>\n",
       "    </tr>\n",
       "    <tr>\n",
       "      <th>4</th>\n",
       "      <td>5022</td>\n",
       "      <td>event_type 11</td>\n",
       "      <td>event_type 11</td>\n",
       "    </tr>\n",
       "    <tr>\n",
       "      <th>31165</th>\n",
       "      <td>3761</td>\n",
       "      <td>event_type 11</td>\n",
       "      <td>event_type 11</td>\n",
       "    </tr>\n",
       "    <tr>\n",
       "      <th>31166</th>\n",
       "      <td>8720</td>\n",
       "      <td>event_type 11</td>\n",
       "      <td>event_type 11</td>\n",
       "    </tr>\n",
       "    <tr>\n",
       "      <th>31167</th>\n",
       "      <td>6488</td>\n",
       "      <td>event_type 11</td>\n",
       "      <td>event_type 11</td>\n",
       "    </tr>\n",
       "    <tr>\n",
       "      <th>31168</th>\n",
       "      <td>878</td>\n",
       "      <td>event_type 11</td>\n",
       "      <td>event_type 11</td>\n",
       "    </tr>\n",
       "    <tr>\n",
       "      <th>31169</th>\n",
       "      <td>4464</td>\n",
       "      <td>event_type 11</td>\n",
       "      <td>event_type 11</td>\n",
       "    </tr>\n",
       "  </tbody>\n",
       "</table>\n",
       "</div>"
      ],
      "text/plain": [
       "         id     event_type event_type_grouped\n",
       "0      6597  event_type 11      event_type 11\n",
       "1      8011  event_type 15      event_type 15\n",
       "2      2597  event_type 15      event_type 15\n",
       "3      5022  event_type 15      event_type 15\n",
       "4      5022  event_type 11      event_type 11\n",
       "31165  3761  event_type 11      event_type 11\n",
       "31166  8720  event_type 11      event_type 11\n",
       "31167  6488  event_type 11      event_type 11\n",
       "31168   878  event_type 11      event_type 11\n",
       "31169  4464  event_type 11      event_type 11"
      ]
     },
     "execution_count": 12,
     "metadata": {},
     "output_type": "execute_result"
    }
   ],
   "source": [
    "# check de datos # solo se hara el join de la columna event_type_grouped\n",
    "pd.concat([event_type.head(),event_type.tail()])"
   ]
  },
  {
   "cell_type": "markdown",
   "metadata": {},
   "source": [
    "## Tabla Train"
   ]
  },
  {
   "cell_type": "code",
   "execution_count": 13,
   "metadata": {},
   "outputs": [
    {
     "data": {
      "text/html": [
       "\n",
       "        <iframe\n",
       "            width=\"100%\"\n",
       "            height=\"800px\"\n",
       "            src=\"ipynb_tmp/profile_7191602930.html\"\n",
       "            frameborder=\"0\"\n",
       "            allowfullscreen\n",
       "        ></iframe>\n",
       "        "
      ],
      "text/plain": [
       "<IPython.lib.display.IFrame at 0x7feb25841320>"
      ]
     },
     "metadata": {},
     "output_type": "display_data"
    },
    {
     "data": {
      "text/plain": []
     },
     "execution_count": 13,
     "metadata": {},
     "output_type": "execute_result"
    }
   ],
   "source": [
    "train = pd.read_csv(\"train.csv\")\n",
    "train.profile_report()"
   ]
  },
  {
   "cell_type": "markdown",
   "metadata": {},
   "source": [
    "7300 registros....\n",
    "\n",
    "Como vimos aqui solo hay id's unicos y para colmo esta desbalanceado el problema... lo describiremos aqui abajo"
   ]
  },
  {
   "cell_type": "code",
   "execution_count": 14,
   "metadata": {},
   "outputs": [
    {
     "data": {
      "image/png": "[encoded data removed]",
      "text/plain": [
       "<Figure size 432x288 with 1 Axes>"
      ]
     },
     "metadata": {
      "needs_background": "light"
     },
     "output_type": "display_data"
    }
   ],
   "source": [
    "res = train.fault_severity.value_counts(normalize=True) * 100\n",
    "res.plot.bar(rot=0, color='orange', title='Porcentaje de fallas')\n",
    "plt.ylabel('Porcentaje %')\n",
    "for ind,i in enumerate(res.values):\n",
    "    plt.text(ind-0.1,i,str(round(i,2))+'%')"
   ]
  },
  {
   "cell_type": "markdown",
   "metadata": {},
   "source": [
    "Recordar que:\n",
    "+ 0 - leve\n",
    "+ 1 - grave\n",
    "+ 2 - Muy grave... casi explota o exploto :v\n",
    "\n",
    "Una diferencia del 30 y 50 porciento !!! \n",
    "\n",
    "Posible aplicar un SMOTE para generar mas registros al entrenar el modelo.\n",
    "\n",
    "\n",
    "    id:  identificador unico de lugar y tiempo\n",
    "    location: identificador unico de ubicacion\n",
    "    fault_severity: variable a predecir\n"
   ]
  },
  {
   "cell_type": "code",
   "execution_count": 15,
   "metadata": {},
   "outputs": [],
   "source": [
    "# puede que exista una pequenia probabilidad de que sean ligares contiguos, probabremos agregando la variable numerica de la ubicacion\n",
    "train[\"location_numeric\"] = train.location.str.split().str[1].astype(int)"
   ]
  },
  {
   "cell_type": "code",
   "execution_count": 16,
   "metadata": {},
   "outputs": [
    {
     "data": {
      "text/plain": [
       "<matplotlib.axes._subplots.AxesSubplot at 0x7feb257a2eb8>"
      ]
     },
     "execution_count": 16,
     "metadata": {},
     "output_type": "execute_result"
    },
    {
     "data": {
      "image/png": "[encoded data removed]",
      "text/plain": [
       "<Figure size 432x288 with 1 Axes>"
      ]
     },
     "metadata": {
      "needs_background": "light"
     },
     "output_type": "display_data"
    }
   ],
   "source": [
    "train.location_numeric.hist(bins=90)\n",
    "# Parece que si hay lugares donde se conglomeran las fallas."
   ]
  },
  {
   "cell_type": "code",
   "execution_count": 17,
   "metadata": {},
   "outputs": [
    {
     "data": {
      "text/plain": [
       "<matplotlib.axes._subplots.AxesSubplot at 0x7feb25883630>"
      ]
     },
     "execution_count": 17,
     "metadata": {},
     "output_type": "execute_result"
    },
    {
     "data": {
      "image/png": "[encoded data removed]",
      "text/plain": [
       "<Figure size 432x288 with 1 Axes>"
      ]
     },
     "metadata": {
      "needs_background": "light"
     },
     "output_type": "display_data"
    }
   ],
   "source": [
    "sns.kdeplot(train.location_numeric,train.fault_severity, shade=True)"
   ]
  },
  {
   "cell_type": "markdown",
   "metadata": {},
   "source": [
    "Se concentran las severidades, dependiendo de la locacion, entonces si es importante ponerla como numerica"
   ]
  },
  {
   "cell_type": "code",
   "execution_count": 18,
   "metadata": {},
   "outputs": [
    {
     "data": {
      "text/plain": [
       "<matplotlib.axes._subplots.AxesSubplot at 0x7feb257cccf8>"
      ]
     },
     "execution_count": 18,
     "metadata": {},
     "output_type": "execute_result"
    },
    {
     "data": {
      "image/png": "[encoded data removed]",
      "text/plain": [
       "<Figure size 432x288 with 1 Axes>"
      ]
     },
     "metadata": {
      "needs_background": "light"
     },
     "output_type": "display_data"
    }
   ],
   "source": [
    "sns.kdeplot(train.id,train.fault_severity, shade=True)"
   ]
  },
  {
   "cell_type": "markdown",
   "metadata": {},
   "source": [
    "Al parecer no hay relacion entre la severidad de la falla y el id."
   ]
  },
  {
   "cell_type": "code",
   "execution_count": 19,
   "metadata": {},
   "outputs": [
    {
     "data": {
      "text/html": [
       "<div>\n",
       "<style scoped>\n",
       "    .dataframe tbody tr th:only-of-type {\n",
       "        vertical-align: middle;\n",
       "    }\n",
       "\n",
       "    .dataframe tbody tr th {\n",
       "        vertical-align: top;\n",
       "    }\n",
       "\n",
       "    .dataframe thead th {\n",
       "        text-align: right;\n",
       "    }\n",
       "</style>\n",
       "<table border=\"1\" class=\"dataframe\">\n",
       "  <thead>\n",
       "    <tr style=\"text-align: right;\">\n",
       "      <th></th>\n",
       "      <th>id</th>\n",
       "      <th>location</th>\n",
       "      <th>fault_severity</th>\n",
       "      <th>location_numeric</th>\n",
       "    </tr>\n",
       "  </thead>\n",
       "  <tbody>\n",
       "    <tr>\n",
       "      <th>0</th>\n",
       "      <td>14121</td>\n",
       "      <td>location 118</td>\n",
       "      <td>1</td>\n",
       "      <td>118</td>\n",
       "    </tr>\n",
       "    <tr>\n",
       "      <th>1</th>\n",
       "      <td>9320</td>\n",
       "      <td>location 91</td>\n",
       "      <td>0</td>\n",
       "      <td>91</td>\n",
       "    </tr>\n",
       "    <tr>\n",
       "      <th>2</th>\n",
       "      <td>14394</td>\n",
       "      <td>location 152</td>\n",
       "      <td>1</td>\n",
       "      <td>152</td>\n",
       "    </tr>\n",
       "    <tr>\n",
       "      <th>3</th>\n",
       "      <td>8218</td>\n",
       "      <td>location 931</td>\n",
       "      <td>1</td>\n",
       "      <td>931</td>\n",
       "    </tr>\n",
       "    <tr>\n",
       "      <th>4</th>\n",
       "      <td>14804</td>\n",
       "      <td>location 120</td>\n",
       "      <td>0</td>\n",
       "      <td>120</td>\n",
       "    </tr>\n",
       "    <tr>\n",
       "      <th>5</th>\n",
       "      <td>1080</td>\n",
       "      <td>location 664</td>\n",
       "      <td>0</td>\n",
       "      <td>664</td>\n",
       "    </tr>\n",
       "    <tr>\n",
       "      <th>6</th>\n",
       "      <td>9731</td>\n",
       "      <td>location 640</td>\n",
       "      <td>0</td>\n",
       "      <td>640</td>\n",
       "    </tr>\n",
       "    <tr>\n",
       "      <th>7</th>\n",
       "      <td>15505</td>\n",
       "      <td>location 122</td>\n",
       "      <td>0</td>\n",
       "      <td>122</td>\n",
       "    </tr>\n",
       "    <tr>\n",
       "      <th>8</th>\n",
       "      <td>3443</td>\n",
       "      <td>location 263</td>\n",
       "      <td>1</td>\n",
       "      <td>263</td>\n",
       "    </tr>\n",
       "    <tr>\n",
       "      <th>9</th>\n",
       "      <td>13300</td>\n",
       "      <td>location 613</td>\n",
       "      <td>1</td>\n",
       "      <td>613</td>\n",
       "    </tr>\n",
       "    <tr>\n",
       "      <th>7371</th>\n",
       "      <td>4065</td>\n",
       "      <td>location 238</td>\n",
       "      <td>0</td>\n",
       "      <td>238</td>\n",
       "    </tr>\n",
       "    <tr>\n",
       "      <th>7372</th>\n",
       "      <td>1628</td>\n",
       "      <td>location 224</td>\n",
       "      <td>1</td>\n",
       "      <td>224</td>\n",
       "    </tr>\n",
       "    <tr>\n",
       "      <th>7373</th>\n",
       "      <td>16687</td>\n",
       "      <td>location 1090</td>\n",
       "      <td>1</td>\n",
       "      <td>1090</td>\n",
       "    </tr>\n",
       "    <tr>\n",
       "      <th>7374</th>\n",
       "      <td>6813</td>\n",
       "      <td>location 1115</td>\n",
       "      <td>1</td>\n",
       "      <td>1115</td>\n",
       "    </tr>\n",
       "    <tr>\n",
       "      <th>7375</th>\n",
       "      <td>10455</td>\n",
       "      <td>location 1075</td>\n",
       "      <td>2</td>\n",
       "      <td>1075</td>\n",
       "    </tr>\n",
       "    <tr>\n",
       "      <th>7376</th>\n",
       "      <td>870</td>\n",
       "      <td>location 167</td>\n",
       "      <td>0</td>\n",
       "      <td>167</td>\n",
       "    </tr>\n",
       "    <tr>\n",
       "      <th>7377</th>\n",
       "      <td>18068</td>\n",
       "      <td>location 106</td>\n",
       "      <td>0</td>\n",
       "      <td>106</td>\n",
       "    </tr>\n",
       "    <tr>\n",
       "      <th>7378</th>\n",
       "      <td>14111</td>\n",
       "      <td>location 1086</td>\n",
       "      <td>2</td>\n",
       "      <td>1086</td>\n",
       "    </tr>\n",
       "    <tr>\n",
       "      <th>7379</th>\n",
       "      <td>15189</td>\n",
       "      <td>location 7</td>\n",
       "      <td>0</td>\n",
       "      <td>7</td>\n",
       "    </tr>\n",
       "    <tr>\n",
       "      <th>7380</th>\n",
       "      <td>17067</td>\n",
       "      <td>location 885</td>\n",
       "      <td>0</td>\n",
       "      <td>885</td>\n",
       "    </tr>\n",
       "  </tbody>\n",
       "</table>\n",
       "</div>"
      ],
      "text/plain": [
       "         id       location  fault_severity  location_numeric\n",
       "0     14121   location 118               1               118\n",
       "1      9320    location 91               0                91\n",
       "2     14394   location 152               1               152\n",
       "3      8218   location 931               1               931\n",
       "4     14804   location 120               0               120\n",
       "5      1080   location 664               0               664\n",
       "6      9731   location 640               0               640\n",
       "7     15505   location 122               0               122\n",
       "8      3443   location 263               1               263\n",
       "9     13300   location 613               1               613\n",
       "7371   4065   location 238               0               238\n",
       "7372   1628   location 224               1               224\n",
       "7373  16687  location 1090               1              1090\n",
       "7374   6813  location 1115               1              1115\n",
       "7375  10455  location 1075               2              1075\n",
       "7376    870   location 167               0               167\n",
       "7377  18068   location 106               0               106\n",
       "7378  14111  location 1086               2              1086\n",
       "7379  15189     location 7               0                 7\n",
       "7380  17067   location 885               0               885"
      ]
     },
     "execution_count": 19,
     "metadata": {},
     "output_type": "execute_result"
    }
   ],
   "source": [
    "pd.concat([train.head(10),train.tail(10)])"
   ]
  },
  {
   "cell_type": "markdown",
   "metadata": {},
   "source": [
    "## severity_type"
   ]
  },
  {
   "cell_type": "code",
   "execution_count": 20,
   "metadata": {},
   "outputs": [
    {
     "data": {
      "text/html": [
       "<div>\n",
       "<style scoped>\n",
       "    .dataframe tbody tr th:only-of-type {\n",
       "        vertical-align: middle;\n",
       "    }\n",
       "\n",
       "    .dataframe tbody tr th {\n",
       "        vertical-align: top;\n",
       "    }\n",
       "\n",
       "    .dataframe thead th {\n",
       "        text-align: right;\n",
       "    }\n",
       "</style>\n",
       "<table border=\"1\" class=\"dataframe\">\n",
       "  <thead>\n",
       "    <tr style=\"text-align: right;\">\n",
       "      <th></th>\n",
       "      <th>id</th>\n",
       "      <th>severity_type</th>\n",
       "    </tr>\n",
       "  </thead>\n",
       "  <tbody>\n",
       "    <tr>\n",
       "      <th>0</th>\n",
       "      <td>6597</td>\n",
       "      <td>severity_type 2</td>\n",
       "    </tr>\n",
       "    <tr>\n",
       "      <th>1</th>\n",
       "      <td>8011</td>\n",
       "      <td>severity_type 2</td>\n",
       "    </tr>\n",
       "    <tr>\n",
       "      <th>2</th>\n",
       "      <td>2597</td>\n",
       "      <td>severity_type 2</td>\n",
       "    </tr>\n",
       "    <tr>\n",
       "      <th>3</th>\n",
       "      <td>5022</td>\n",
       "      <td>severity_type 1</td>\n",
       "    </tr>\n",
       "    <tr>\n",
       "      <th>4</th>\n",
       "      <td>6852</td>\n",
       "      <td>severity_type 1</td>\n",
       "    </tr>\n",
       "  </tbody>\n",
       "</table>\n",
       "</div>"
      ],
      "text/plain": [
       "     id    severity_type\n",
       "0  6597  severity_type 2\n",
       "1  8011  severity_type 2\n",
       "2  2597  severity_type 2\n",
       "3  5022  severity_type 1\n",
       "4  6852  severity_type 1"
      ]
     },
     "execution_count": 20,
     "metadata": {},
     "output_type": "execute_result"
    }
   ],
   "source": [
    "severity_type = pd.read_csv(\"severity_type.csv\")\n",
    "severity_type.head()"
   ]
  },
  {
   "cell_type": "code",
   "execution_count": 21,
   "metadata": {},
   "outputs": [
    {
     "data": {
      "text/html": [
       "\n",
       "        <iframe\n",
       "            width=\"100%\"\n",
       "            height=\"800px\"\n",
       "            src=\"ipynb_tmp/profile_6956026835.html\"\n",
       "            frameborder=\"0\"\n",
       "            allowfullscreen\n",
       "        ></iframe>\n",
       "        "
      ],
      "text/plain": [
       "<IPython.lib.display.IFrame at 0x7feb240a70b8>"
      ]
     },
     "metadata": {},
     "output_type": "display_data"
    },
    {
     "data": {
      "text/plain": []
     },
     "execution_count": 21,
     "metadata": {},
     "output_type": "execute_result"
    }
   ],
   "source": [
    "severity_type.profile_report()"
   ]
  },
  {
   "cell_type": "markdown",
   "metadata": {},
   "source": [
    "Por lo que veo solo hay 5 categorias y pondera la categoria 2 y 1. \n",
    "\n",
    "Podria intentar tratarla como variable ordinal o nominal... juuummm\n",
    "\n",
    "+ nominal one hot encoding (dummies)\n",
    "+ ordinal pues por el numero que tienen"
   ]
  },
  {
   "cell_type": "code",
   "execution_count": 22,
   "metadata": {},
   "outputs": [],
   "source": [
    "# ordinal\n",
    "severity_type[\"severety_type_ordinal\"] = severity_type.severity_type.str.split().str[1].astype(int)"
   ]
  },
  {
   "cell_type": "markdown",
   "metadata": {},
   "source": [
    "## Tabla log_feature"
   ]
  },
  {
   "cell_type": "code",
   "execution_count": 23,
   "metadata": {},
   "outputs": [],
   "source": [
    "log_feature = pd.read_csv(\"log_feature.csv\")"
   ]
  },
  {
   "cell_type": "code",
   "execution_count": 24,
   "metadata": {},
   "outputs": [
    {
     "data": {
      "text/html": [
       "\n",
       "        <iframe\n",
       "            width=\"100%\"\n",
       "            height=\"800px\"\n",
       "            src=\"ipynb_tmp/profile_5765488710.html\"\n",
       "            frameborder=\"0\"\n",
       "            allowfullscreen\n",
       "        ></iframe>\n",
       "        "
      ],
      "text/plain": [
       "<IPython.lib.display.IFrame at 0x7feb2407a9b0>"
      ]
     },
     "metadata": {},
     "output_type": "display_data"
    },
    {
     "data": {
      "text/plain": []
     },
     "execution_count": 24,
     "metadata": {},
     "output_type": "execute_result"
    }
   ],
   "source": [
    "log_feature.profile_report()"
   ]
  },
  {
   "cell_type": "markdown",
   "metadata": {},
   "source": [
    "+ son un buen de log_features, tambien agruparlas en el top 20.\n",
    "+ en volumne en el histograma vemos que hay outliers, re quitaran esos registros respetando el quantil 0.999"
   ]
  },
  {
   "cell_type": "code",
   "execution_count": 25,
   "metadata": {},
   "outputs": [
    {
     "name": "stderr",
     "output_type": "stream",
     "text": [
      "/home/serch/anaconda3/lib/python3.6/site-packages/matplotlib/cbook/deprecation.py:107: MatplotlibDeprecationWarning: Adding an axes using the same arguments as a previous axes currently reuses the earlier instance.  In a future version, a new instance will always be created and returned.  Meanwhile, this warning can be suppressed, and the future behavior ensured, by passing a unique label to each axes instance.\n",
      "  warnings.warn(message, mplDeprecation, stacklevel=1)\n"
     ]
    },
    {
     "data": {
      "text/plain": [
       "<matplotlib.legend.Legend at 0x7feb240c86d8>"
      ]
     },
     "execution_count": 25,
     "metadata": {},
     "output_type": "execute_result"
    },
    {
     "data": {
      "image/png": "[encoded data removed]",
      "text/plain": [
       "<Figure size 432x288 with 1 Axes>"
      ]
     },
     "metadata": {
      "needs_background": "light"
     },
     "output_type": "display_data"
    }
   ],
   "source": [
    "plt.subplot()\n",
    "log_feature.volume.hist(bins=20)\n",
    "plt.subplot()\n",
    "log_feature[log_feature.volume < log_feature.volume.quantile(0.999)].volume.hist(bins=20)\n",
    "plt.legend(['con filtro','sin filtro'])"
   ]
  },
  {
   "cell_type": "code",
   "execution_count": 26,
   "metadata": {},
   "outputs": [],
   "source": [
    "log_feature = log_feature[log_feature.volume < log_feature.volume.quantile(0.999)]"
   ]
  },
  {
   "cell_type": "code",
   "execution_count": 27,
   "metadata": {},
   "outputs": [],
   "source": [
    "log_feature['log_volume'] = 1 + np.log(log_feature.volume)"
   ]
  },
  {
   "cell_type": "code",
   "execution_count": 28,
   "metadata": {},
   "outputs": [],
   "source": [
    "popular_log_features = log_feature.log_feature.value_counts().index.values[:25]\n",
    "\n",
    "log_feature[\"log_features_grouped\"] = np.where(log_feature.log_feature.isin(popular_log_features), log_feature.log_feature,'others')"
   ]
  },
  {
   "cell_type": "code",
   "execution_count": 29,
   "metadata": {},
   "outputs": [
    {
     "data": {
      "text/plain": [
       "Text(0.5,0,'Porcentaje %')"
      ]
     },
     "execution_count": 29,
     "metadata": {},
     "output_type": "execute_result"
    },
    {
     "data": {
      "image/png": "[encoded data removed]",
      "text/plain": [
       "<Figure size 720x576 with 1 Axes>"
      ]
     },
     "metadata": {
      "needs_background": "light"
     },
     "output_type": "display_data"
    }
   ],
   "source": [
    "log_feature.log_features_grouped.value_counts(normalize=True).plot.barh(color='navy', figsize=(10,8), title='Porcentaje de tipos de log_features agrupados')\n",
    "plt.vlines(log_feature.log_features_grouped.value_counts(normalize=True).median(),plt.ylim()[0],plt.ylim()[1], color='r')\n",
    "plt.legend(['mean','log_feature',])\n",
    "plt.xlabel('Porcentaje %')"
   ]
  },
  {
   "cell_type": "markdown",
   "metadata": {},
   "source": [
    "se ve horrible pero llega hasta 300 si se reduce el valor maximo."
   ]
  },
  {
   "cell_type": "markdown",
   "metadata": {},
   "source": [
    "Podemos obtener estadisticos sobre el volumen como el valor promedio con respecto al que tiene.\n",
    "\n",
    "Asi como otras metricas. Como la diferencia del volumen con respecto al promedio de su feature."
   ]
  },
  {
   "cell_type": "code",
   "execution_count": 30,
   "metadata": {},
   "outputs": [],
   "source": [
    "# se quita el minimo por que no cambia con respecto a los demas\n",
    "log_feature_stats = log_feature.groupby('log_features_grouped').volume.describe().drop('min',1)"
   ]
  },
  {
   "cell_type": "code",
   "execution_count": 31,
   "metadata": {},
   "outputs": [
    {
     "data": {
      "text/html": [
       "<div>\n",
       "<style scoped>\n",
       "    .dataframe tbody tr th:only-of-type {\n",
       "        vertical-align: middle;\n",
       "    }\n",
       "\n",
       "    .dataframe tbody tr th {\n",
       "        vertical-align: top;\n",
       "    }\n",
       "\n",
       "    .dataframe thead th {\n",
       "        text-align: right;\n",
       "    }\n",
       "</style>\n",
       "<table border=\"1\" class=\"dataframe\">\n",
       "  <thead>\n",
       "    <tr style=\"text-align: right;\">\n",
       "      <th></th>\n",
       "      <th>count</th>\n",
       "      <th>mean</th>\n",
       "      <th>std</th>\n",
       "      <th>25%</th>\n",
       "      <th>50%</th>\n",
       "      <th>75%</th>\n",
       "      <th>max</th>\n",
       "    </tr>\n",
       "    <tr>\n",
       "      <th>log_features_grouped</th>\n",
       "      <th></th>\n",
       "      <th></th>\n",
       "      <th></th>\n",
       "      <th></th>\n",
       "      <th></th>\n",
       "      <th></th>\n",
       "      <th></th>\n",
       "    </tr>\n",
       "  </thead>\n",
       "  <tbody>\n",
       "    <tr>\n",
       "      <th>feature 134</th>\n",
       "      <td>1419.0</td>\n",
       "      <td>1.328400</td>\n",
       "      <td>1.441126</td>\n",
       "      <td>1.00</td>\n",
       "      <td>1.0</td>\n",
       "      <td>1.0</td>\n",
       "      <td>23.0</td>\n",
       "    </tr>\n",
       "    <tr>\n",
       "      <th>feature 170</th>\n",
       "      <td>1526.0</td>\n",
       "      <td>7.665138</td>\n",
       "      <td>17.059854</td>\n",
       "      <td>1.00</td>\n",
       "      <td>2.0</td>\n",
       "      <td>6.0</td>\n",
       "      <td>161.0</td>\n",
       "    </tr>\n",
       "    <tr>\n",
       "      <th>feature 193</th>\n",
       "      <td>1160.0</td>\n",
       "      <td>4.803448</td>\n",
       "      <td>8.545528</td>\n",
       "      <td>1.00</td>\n",
       "      <td>2.0</td>\n",
       "      <td>5.0</td>\n",
       "      <td>145.0</td>\n",
       "    </tr>\n",
       "    <tr>\n",
       "      <th>feature 195</th>\n",
       "      <td>783.0</td>\n",
       "      <td>8.553001</td>\n",
       "      <td>16.496592</td>\n",
       "      <td>2.00</td>\n",
       "      <td>3.0</td>\n",
       "      <td>8.0</td>\n",
       "      <td>180.0</td>\n",
       "    </tr>\n",
       "    <tr>\n",
       "      <th>feature 201</th>\n",
       "      <td>902.0</td>\n",
       "      <td>4.388027</td>\n",
       "      <td>12.746055</td>\n",
       "      <td>1.00</td>\n",
       "      <td>2.0</td>\n",
       "      <td>4.0</td>\n",
       "      <td>299.0</td>\n",
       "    </tr>\n",
       "    <tr>\n",
       "      <th>feature 203</th>\n",
       "      <td>2823.0</td>\n",
       "      <td>9.498406</td>\n",
       "      <td>10.275713</td>\n",
       "      <td>3.00</td>\n",
       "      <td>6.0</td>\n",
       "      <td>12.0</td>\n",
       "      <td>132.0</td>\n",
       "    </tr>\n",
       "    <tr>\n",
       "      <th>feature 219</th>\n",
       "      <td>1152.0</td>\n",
       "      <td>1.339410</td>\n",
       "      <td>1.419821</td>\n",
       "      <td>1.00</td>\n",
       "      <td>1.0</td>\n",
       "      <td>1.0</td>\n",
       "      <td>22.0</td>\n",
       "    </tr>\n",
       "    <tr>\n",
       "      <th>feature 227</th>\n",
       "      <td>1080.0</td>\n",
       "      <td>2.344444</td>\n",
       "      <td>4.997856</td>\n",
       "      <td>1.00</td>\n",
       "      <td>1.0</td>\n",
       "      <td>2.0</td>\n",
       "      <td>98.0</td>\n",
       "    </tr>\n",
       "    <tr>\n",
       "      <th>feature 232</th>\n",
       "      <td>4754.0</td>\n",
       "      <td>12.196045</td>\n",
       "      <td>24.519010</td>\n",
       "      <td>1.00</td>\n",
       "      <td>3.0</td>\n",
       "      <td>10.0</td>\n",
       "      <td>263.0</td>\n",
       "    </tr>\n",
       "    <tr>\n",
       "      <th>feature 233</th>\n",
       "      <td>1901.0</td>\n",
       "      <td>8.970016</td>\n",
       "      <td>16.166718</td>\n",
       "      <td>1.00</td>\n",
       "      <td>3.0</td>\n",
       "      <td>7.0</td>\n",
       "      <td>111.0</td>\n",
       "    </tr>\n",
       "    <tr>\n",
       "      <th>feature 234</th>\n",
       "      <td>882.0</td>\n",
       "      <td>19.015873</td>\n",
       "      <td>20.647239</td>\n",
       "      <td>2.00</td>\n",
       "      <td>12.0</td>\n",
       "      <td>29.0</td>\n",
       "      <td>151.0</td>\n",
       "    </tr>\n",
       "    <tr>\n",
       "      <th>feature 235</th>\n",
       "      <td>1293.0</td>\n",
       "      <td>11.913380</td>\n",
       "      <td>40.937299</td>\n",
       "      <td>1.00</td>\n",
       "      <td>2.0</td>\n",
       "      <td>4.0</td>\n",
       "      <td>335.0</td>\n",
       "    </tr>\n",
       "    <tr>\n",
       "      <th>feature 301</th>\n",
       "      <td>707.0</td>\n",
       "      <td>1.452617</td>\n",
       "      <td>1.066595</td>\n",
       "      <td>1.00</td>\n",
       "      <td>1.0</td>\n",
       "      <td>2.0</td>\n",
       "      <td>12.0</td>\n",
       "    </tr>\n",
       "    <tr>\n",
       "      <th>feature 307</th>\n",
       "      <td>1597.0</td>\n",
       "      <td>2.455229</td>\n",
       "      <td>4.027323</td>\n",
       "      <td>1.00</td>\n",
       "      <td>1.0</td>\n",
       "      <td>2.0</td>\n",
       "      <td>61.0</td>\n",
       "    </tr>\n",
       "    <tr>\n",
       "      <th>feature 309</th>\n",
       "      <td>627.0</td>\n",
       "      <td>18.843700</td>\n",
       "      <td>22.160058</td>\n",
       "      <td>2.00</td>\n",
       "      <td>9.0</td>\n",
       "      <td>30.5</td>\n",
       "      <td>152.0</td>\n",
       "    </tr>\n",
       "    <tr>\n",
       "      <th>feature 312</th>\n",
       "      <td>5267.0</td>\n",
       "      <td>11.191380</td>\n",
       "      <td>21.038022</td>\n",
       "      <td>1.00</td>\n",
       "      <td>3.0</td>\n",
       "      <td>10.0</td>\n",
       "      <td>212.0</td>\n",
       "    </tr>\n",
       "    <tr>\n",
       "      <th>feature 313</th>\n",
       "      <td>2145.0</td>\n",
       "      <td>8.632634</td>\n",
       "      <td>15.409832</td>\n",
       "      <td>1.00</td>\n",
       "      <td>3.0</td>\n",
       "      <td>7.0</td>\n",
       "      <td>110.0</td>\n",
       "    </tr>\n",
       "    <tr>\n",
       "      <th>feature 314</th>\n",
       "      <td>950.0</td>\n",
       "      <td>21.018947</td>\n",
       "      <td>22.978610</td>\n",
       "      <td>2.00</td>\n",
       "      <td>12.0</td>\n",
       "      <td>34.0</td>\n",
       "      <td>161.0</td>\n",
       "    </tr>\n",
       "    <tr>\n",
       "      <th>feature 315</th>\n",
       "      <td>1494.0</td>\n",
       "      <td>13.825301</td>\n",
       "      <td>46.857978</td>\n",
       "      <td>1.00</td>\n",
       "      <td>2.0</td>\n",
       "      <td>5.0</td>\n",
       "      <td>334.0</td>\n",
       "    </tr>\n",
       "    <tr>\n",
       "      <th>feature 54</th>\n",
       "      <td>1555.0</td>\n",
       "      <td>8.025723</td>\n",
       "      <td>24.758434</td>\n",
       "      <td>1.00</td>\n",
       "      <td>2.0</td>\n",
       "      <td>5.0</td>\n",
       "      <td>320.0</td>\n",
       "    </tr>\n",
       "    <tr>\n",
       "      <th>feature 68</th>\n",
       "      <td>1093.0</td>\n",
       "      <td>3.617566</td>\n",
       "      <td>8.368359</td>\n",
       "      <td>1.00</td>\n",
       "      <td>2.0</td>\n",
       "      <td>3.0</td>\n",
       "      <td>133.0</td>\n",
       "    </tr>\n",
       "    <tr>\n",
       "      <th>feature 71</th>\n",
       "      <td>1514.0</td>\n",
       "      <td>6.184280</td>\n",
       "      <td>12.921584</td>\n",
       "      <td>1.25</td>\n",
       "      <td>3.0</td>\n",
       "      <td>6.0</td>\n",
       "      <td>189.0</td>\n",
       "    </tr>\n",
       "    <tr>\n",
       "      <th>feature 73</th>\n",
       "      <td>866.0</td>\n",
       "      <td>13.572748</td>\n",
       "      <td>29.514372</td>\n",
       "      <td>2.00</td>\n",
       "      <td>4.0</td>\n",
       "      <td>11.0</td>\n",
       "      <td>337.0</td>\n",
       "    </tr>\n",
       "    <tr>\n",
       "      <th>feature 80</th>\n",
       "      <td>1335.0</td>\n",
       "      <td>5.295131</td>\n",
       "      <td>16.694713</td>\n",
       "      <td>1.00</td>\n",
       "      <td>2.0</td>\n",
       "      <td>4.5</td>\n",
       "      <td>296.0</td>\n",
       "    </tr>\n",
       "    <tr>\n",
       "      <th>feature 82</th>\n",
       "      <td>3470.0</td>\n",
       "      <td>21.596254</td>\n",
       "      <td>24.483370</td>\n",
       "      <td>8.00</td>\n",
       "      <td>14.0</td>\n",
       "      <td>28.0</td>\n",
       "      <td>342.0</td>\n",
       "    </tr>\n",
       "    <tr>\n",
       "      <th>others</th>\n",
       "      <td>16317.0</td>\n",
       "      <td>7.146350</td>\n",
       "      <td>22.363506</td>\n",
       "      <td>1.00</td>\n",
       "      <td>2.0</td>\n",
       "      <td>4.0</td>\n",
       "      <td>336.0</td>\n",
       "    </tr>\n",
       "  </tbody>\n",
       "</table>\n",
       "</div>"
      ],
      "text/plain": [
       "                        count       mean        std   25%   50%   75%    max\n",
       "log_features_grouped                                                        \n",
       "feature 134            1419.0   1.328400   1.441126  1.00   1.0   1.0   23.0\n",
       "feature 170            1526.0   7.665138  17.059854  1.00   2.0   6.0  161.0\n",
       "feature 193            1160.0   4.803448   8.545528  1.00   2.0   5.0  145.0\n",
       "feature 195             783.0   8.553001  16.496592  2.00   3.0   8.0  180.0\n",
       "feature 201             902.0   4.388027  12.746055  1.00   2.0   4.0  299.0\n",
       "feature 203            2823.0   9.498406  10.275713  3.00   6.0  12.0  132.0\n",
       "feature 219            1152.0   1.339410   1.419821  1.00   1.0   1.0   22.0\n",
       "feature 227            1080.0   2.344444   4.997856  1.00   1.0   2.0   98.0\n",
       "feature 232            4754.0  12.196045  24.519010  1.00   3.0  10.0  263.0\n",
       "feature 233            1901.0   8.970016  16.166718  1.00   3.0   7.0  111.0\n",
       "feature 234             882.0  19.015873  20.647239  2.00  12.0  29.0  151.0\n",
       "feature 235            1293.0  11.913380  40.937299  1.00   2.0   4.0  335.0\n",
       "feature 301             707.0   1.452617   1.066595  1.00   1.0   2.0   12.0\n",
       "feature 307            1597.0   2.455229   4.027323  1.00   1.0   2.0   61.0\n",
       "feature 309             627.0  18.843700  22.160058  2.00   9.0  30.5  152.0\n",
       "feature 312            5267.0  11.191380  21.038022  1.00   3.0  10.0  212.0\n",
       "feature 313            2145.0   8.632634  15.409832  1.00   3.0   7.0  110.0\n",
       "feature 314             950.0  21.018947  22.978610  2.00  12.0  34.0  161.0\n",
       "feature 315            1494.0  13.825301  46.857978  1.00   2.0   5.0  334.0\n",
       "feature 54             1555.0   8.025723  24.758434  1.00   2.0   5.0  320.0\n",
       "feature 68             1093.0   3.617566   8.368359  1.00   2.0   3.0  133.0\n",
       "feature 71             1514.0   6.184280  12.921584  1.25   3.0   6.0  189.0\n",
       "feature 73              866.0  13.572748  29.514372  2.00   4.0  11.0  337.0\n",
       "feature 80             1335.0   5.295131  16.694713  1.00   2.0   4.5  296.0\n",
       "feature 82             3470.0  21.596254  24.483370  8.00  14.0  28.0  342.0\n",
       "others                16317.0   7.146350  22.363506  1.00   2.0   4.0  336.0"
      ]
     },
     "execution_count": 31,
     "metadata": {},
     "output_type": "execute_result"
    }
   ],
   "source": [
    "log_feature_stats"
   ]
  },
  {
   "cell_type": "markdown",
   "metadata": {},
   "source": [
    "Caracteristicas del feature"
   ]
  },
  {
   "cell_type": "markdown",
   "metadata": {},
   "source": [
    "## Tabla test\n",
    "Lo mismo que train pero simplemente que no tiene la variable a predecir"
   ]
  },
  {
   "cell_type": "code",
   "execution_count": 32,
   "metadata": {},
   "outputs": [],
   "source": [
    "test = pd.read_csv(\"test.csv\")"
   ]
  },
  {
   "cell_type": "code",
   "execution_count": 33,
   "metadata": {},
   "outputs": [
    {
     "data": {
      "text/html": [
       "<div>\n",
       "<style scoped>\n",
       "    .dataframe tbody tr th:only-of-type {\n",
       "        vertical-align: middle;\n",
       "    }\n",
       "\n",
       "    .dataframe tbody tr th {\n",
       "        vertical-align: top;\n",
       "    }\n",
       "\n",
       "    .dataframe thead th {\n",
       "        text-align: right;\n",
       "    }\n",
       "</style>\n",
       "<table border=\"1\" class=\"dataframe\">\n",
       "  <thead>\n",
       "    <tr style=\"text-align: right;\">\n",
       "      <th></th>\n",
       "      <th>id</th>\n",
       "      <th>location</th>\n",
       "    </tr>\n",
       "  </thead>\n",
       "  <tbody>\n",
       "    <tr>\n",
       "      <th>0</th>\n",
       "      <td>11066</td>\n",
       "      <td>location 481</td>\n",
       "    </tr>\n",
       "    <tr>\n",
       "      <th>1</th>\n",
       "      <td>18000</td>\n",
       "      <td>location 962</td>\n",
       "    </tr>\n",
       "    <tr>\n",
       "      <th>2</th>\n",
       "      <td>16964</td>\n",
       "      <td>location 491</td>\n",
       "    </tr>\n",
       "    <tr>\n",
       "      <th>3</th>\n",
       "      <td>4795</td>\n",
       "      <td>location 532</td>\n",
       "    </tr>\n",
       "    <tr>\n",
       "      <th>4</th>\n",
       "      <td>3392</td>\n",
       "      <td>location 600</td>\n",
       "    </tr>\n",
       "  </tbody>\n",
       "</table>\n",
       "</div>"
      ],
      "text/plain": [
       "      id      location\n",
       "0  11066  location 481\n",
       "1  18000  location 962\n",
       "2  16964  location 491\n",
       "3   4795  location 532\n",
       "4   3392  location 600"
      ]
     },
     "execution_count": 33,
     "metadata": {},
     "output_type": "execute_result"
    }
   ],
   "source": [
    "test.head()"
   ]
  },
  {
   "cell_type": "markdown",
   "metadata": {},
   "source": [
    "## Tabla resource_type\n",
    "\n",
    "Esta tabla tiene columnas de mas en algunos registros que corresponde solo al 7% por lo que se eliminaran esos registros"
   ]
  },
  {
   "cell_type": "code",
   "execution_count": 34,
   "metadata": {},
   "outputs": [
    {
     "data": {
      "text/html": [
       "<div>\n",
       "<style scoped>\n",
       "    .dataframe tbody tr th:only-of-type {\n",
       "        vertical-align: middle;\n",
       "    }\n",
       "\n",
       "    .dataframe tbody tr th {\n",
       "        vertical-align: top;\n",
       "    }\n",
       "\n",
       "    .dataframe thead th {\n",
       "        text-align: right;\n",
       "    }\n",
       "</style>\n",
       "<table border=\"1\" class=\"dataframe\">\n",
       "  <thead>\n",
       "    <tr style=\"text-align: right;\">\n",
       "      <th></th>\n",
       "      <th>id</th>\n",
       "      <th>resource_type</th>\n",
       "    </tr>\n",
       "  </thead>\n",
       "  <tbody>\n",
       "    <tr>\n",
       "      <th>0</th>\n",
       "      <td>6597</td>\n",
       "      <td>resource_type 8</td>\n",
       "    </tr>\n",
       "    <tr>\n",
       "      <th>1</th>\n",
       "      <td>8011</td>\n",
       "      <td>resource_type 8</td>\n",
       "    </tr>\n",
       "    <tr>\n",
       "      <th>2</th>\n",
       "      <td>2597</td>\n",
       "      <td>resource_type 8</td>\n",
       "    </tr>\n",
       "    <tr>\n",
       "      <th>3</th>\n",
       "      <td>5022</td>\n",
       "      <td>resource_type 8</td>\n",
       "    </tr>\n",
       "    <tr>\n",
       "      <th>4</th>\n",
       "      <td>6852</td>\n",
       "      <td>resource_type 8</td>\n",
       "    </tr>\n",
       "  </tbody>\n",
       "</table>\n",
       "</div>"
      ],
      "text/plain": [
       "     id    resource_type\n",
       "0  6597  resource_type 8\n",
       "1  8011  resource_type 8\n",
       "2  2597  resource_type 8\n",
       "3  5022  resource_type 8\n",
       "4  6852  resource_type 8"
      ]
     },
     "execution_count": 34,
     "metadata": {},
     "output_type": "execute_result"
    }
   ],
   "source": [
    "resource_type = pd.read_csv(\"resource_type.csv\", error_bad_lines=False, warn_bad_lines=False)\n",
    "resource_type.drop(21076,inplace=True) # se quita por que tiene un error\n",
    "resource_type.head()"
   ]
  },
  {
   "cell_type": "code",
   "execution_count": 35,
   "metadata": {},
   "outputs": [
    {
     "data": {
      "text/html": [
       "\n",
       "        <iframe\n",
       "            width=\"100%\"\n",
       "            height=\"800px\"\n",
       "            src=\"ipynb_tmp/profile_2741116960.html\"\n",
       "            frameborder=\"0\"\n",
       "            allowfullscreen\n",
       "        ></iframe>\n",
       "        "
      ],
      "text/plain": [
       "<IPython.lib.display.IFrame at 0x7feb171acf60>"
      ]
     },
     "metadata": {},
     "output_type": "display_data"
    },
    {
     "data": {
      "text/plain": []
     },
     "execution_count": 35,
     "metadata": {},
     "output_type": "execute_result"
    }
   ],
   "source": [
    "resource_type.profile_report()"
   ]
  },
  {
   "cell_type": "markdown",
   "metadata": {},
   "source": [
    "Hay solo 10 tipos de recursos. Por lo que pueden utilizarse variables nominales, Se trataran como one hot encoding"
   ]
  },
  {
   "cell_type": "markdown",
   "metadata": {},
   "source": [
    "## Tabla sample_submission\n",
    "Simplemente es como tiene que venir la tabla de prediccion del test data"
   ]
  },
  {
   "cell_type": "code",
   "execution_count": 36,
   "metadata": {},
   "outputs": [
    {
     "data": {
      "text/html": [
       "<div>\n",
       "<style scoped>\n",
       "    .dataframe tbody tr th:only-of-type {\n",
       "        vertical-align: middle;\n",
       "    }\n",
       "\n",
       "    .dataframe tbody tr th {\n",
       "        vertical-align: top;\n",
       "    }\n",
       "\n",
       "    .dataframe thead th {\n",
       "        text-align: right;\n",
       "    }\n",
       "</style>\n",
       "<table border=\"1\" class=\"dataframe\">\n",
       "  <thead>\n",
       "    <tr style=\"text-align: right;\">\n",
       "      <th></th>\n",
       "      <th>id</th>\n",
       "      <th>predict_0</th>\n",
       "      <th>predict_1</th>\n",
       "      <th>predict_2</th>\n",
       "    </tr>\n",
       "  </thead>\n",
       "  <tbody>\n",
       "    <tr>\n",
       "      <th>0</th>\n",
       "      <td>11066</td>\n",
       "      <td>0</td>\n",
       "      <td>1</td>\n",
       "      <td>0</td>\n",
       "    </tr>\n",
       "    <tr>\n",
       "      <th>1</th>\n",
       "      <td>18000</td>\n",
       "      <td>0</td>\n",
       "      <td>1</td>\n",
       "      <td>0</td>\n",
       "    </tr>\n",
       "    <tr>\n",
       "      <th>2</th>\n",
       "      <td>16964</td>\n",
       "      <td>0</td>\n",
       "      <td>1</td>\n",
       "      <td>0</td>\n",
       "    </tr>\n",
       "    <tr>\n",
       "      <th>3</th>\n",
       "      <td>4795</td>\n",
       "      <td>0</td>\n",
       "      <td>1</td>\n",
       "      <td>0</td>\n",
       "    </tr>\n",
       "    <tr>\n",
       "      <th>4</th>\n",
       "      <td>3392</td>\n",
       "      <td>0</td>\n",
       "      <td>1</td>\n",
       "      <td>0</td>\n",
       "    </tr>\n",
       "  </tbody>\n",
       "</table>\n",
       "</div>"
      ],
      "text/plain": [
       "      id  predict_0  predict_1  predict_2\n",
       "0  11066          0          1          0\n",
       "1  18000          0          1          0\n",
       "2  16964          0          1          0\n",
       "3   4795          0          1          0\n",
       "4   3392          0          1          0"
      ]
     },
     "execution_count": 36,
     "metadata": {},
     "output_type": "execute_result"
    }
   ],
   "source": [
    "sample_submission = pd.read_csv(\"sample_submission.csv\")\n",
    "sample_submission.head()"
   ]
  },
  {
   "cell_type": "markdown",
   "metadata": {},
   "source": [
    "# Preprocesamiento de datos y analisis subsecuente\n",
    "Ahora si va el despapaye de datos a generar los joins y no tener duplicados OJO!!!! \n",
    "\n",
    "Por que aaaaa como son esos joins\n",
    "\n",
    "    train.csv - the training set for fault severity\n",
    "    event_type.csv - event type related to the main dataset LISTA\n",
    "    log_feature.csv - features extracted from log files\n",
    "    resource_type.csv - type of resource related to the main dataset\n",
    "    severity_type.csv -  severity type of a warning message coming from the log\n",
    "    \n",
    "Ahi estan las tablas y las cruzaras todas por id\n",
    "\n",
    "para las dummies tienes que agruparlas por id si no se friega por los duplicados"
   ]
  },
  {
   "cell_type": "code",
   "execution_count": 37,
   "metadata": {},
   "outputs": [],
   "source": [
    "# se hara una funcion por que se repetira 3 veces\n",
    "def get_dumi_dumi(df, col, idx):\n",
    "    df_temp = pd.get_dummies(df, columns=[col]).groupby(idx).max()\n",
    "    return df_temp"
   ]
  },
  {
   "cell_type": "code",
   "execution_count": 38,
   "metadata": {},
   "outputs": [],
   "source": [
    "def check_inicio_final(df,n=5):\n",
    "    return pd.concat([df.head(n),df.tail(n)])"
   ]
  },
  {
   "cell_type": "code",
   "execution_count": 39,
   "metadata": {},
   "outputs": [],
   "source": [
    "\n",
    "# COn max por que queremos solo la dummies\n",
    "## PRUEBA ###\n",
    "# temp = pd.get_dummies(b, columns=['event_type_grouped']).groupby(['id'], as_index = False).max()\n",
    "# temp.set_index('id',inplace=True)\n",
    "# temp\n",
    "\n",
    "# te devuelve los id sorteados\n",
    "\n",
    "# event_type_dummies = pd.get_dummies(event_type, columns=['event_type_grouped']).groupby(['id'], as_index = False).max()\n",
    "# event_type_dummies.set_index('id',inplace=True)\n",
    "# event_type_dummies.head()\n",
    "\n",
    "## PRUEBA ###\n"
   ]
  },
  {
   "cell_type": "markdown",
   "metadata": {},
   "source": [
    "+ dummies de tipos de evento"
   ]
  },
  {
   "cell_type": "code",
   "execution_count": 40,
   "metadata": {},
   "outputs": [
    {
     "name": "stdout",
     "output_type": "stream",
     "text": [
      "CPU times: user 38.5 s, sys: 292 ms, total: 38.8 s\n",
      "Wall time: 38.2 s\n"
     ]
    }
   ],
   "source": [
    "%%time\n",
    "event_type_dummies = get_dumi_dumi(event_type,'event_type_grouped','id')"
   ]
  },
  {
   "cell_type": "code",
   "execution_count": 41,
   "metadata": {},
   "outputs": [
    {
     "data": {
      "text/html": [
       "<div>\n",
       "<style scoped>\n",
       "    .dataframe tbody tr th:only-of-type {\n",
       "        vertical-align: middle;\n",
       "    }\n",
       "\n",
       "    .dataframe tbody tr th {\n",
       "        vertical-align: top;\n",
       "    }\n",
       "\n",
       "    .dataframe thead th {\n",
       "        text-align: right;\n",
       "    }\n",
       "</style>\n",
       "<table border=\"1\" class=\"dataframe\">\n",
       "  <thead>\n",
       "    <tr style=\"text-align: right;\">\n",
       "      <th></th>\n",
       "      <th>event_type_grouped_event_type 10</th>\n",
       "      <th>event_type_grouped_event_type 11</th>\n",
       "      <th>event_type_grouped_event_type 13</th>\n",
       "      <th>event_type_grouped_event_type 14</th>\n",
       "      <th>event_type_grouped_event_type 15</th>\n",
       "      <th>event_type_grouped_event_type 18</th>\n",
       "      <th>event_type_grouped_event_type 20</th>\n",
       "      <th>event_type_grouped_event_type 21</th>\n",
       "      <th>event_type_grouped_event_type 22</th>\n",
       "      <th>event_type_grouped_event_type 23</th>\n",
       "      <th>...</th>\n",
       "      <th>event_type_grouped_event_type 32</th>\n",
       "      <th>event_type_grouped_event_type 34</th>\n",
       "      <th>event_type_grouped_event_type 35</th>\n",
       "      <th>event_type_grouped_event_type 42</th>\n",
       "      <th>event_type_grouped_event_type 43</th>\n",
       "      <th>event_type_grouped_event_type 44</th>\n",
       "      <th>event_type_grouped_event_type 47</th>\n",
       "      <th>event_type_grouped_event_type 50</th>\n",
       "      <th>event_type_grouped_event_type 54</th>\n",
       "      <th>event_type_grouped_others</th>\n",
       "    </tr>\n",
       "    <tr>\n",
       "      <th>id</th>\n",
       "      <th></th>\n",
       "      <th></th>\n",
       "      <th></th>\n",
       "      <th></th>\n",
       "      <th></th>\n",
       "      <th></th>\n",
       "      <th></th>\n",
       "      <th></th>\n",
       "      <th></th>\n",
       "      <th></th>\n",
       "      <th></th>\n",
       "      <th></th>\n",
       "      <th></th>\n",
       "      <th></th>\n",
       "      <th></th>\n",
       "      <th></th>\n",
       "      <th></th>\n",
       "      <th></th>\n",
       "      <th></th>\n",
       "      <th></th>\n",
       "      <th></th>\n",
       "    </tr>\n",
       "  </thead>\n",
       "  <tbody>\n",
       "    <tr>\n",
       "      <th>1</th>\n",
       "      <td>0</td>\n",
       "      <td>1</td>\n",
       "      <td>1</td>\n",
       "      <td>0</td>\n",
       "      <td>0</td>\n",
       "      <td>0</td>\n",
       "      <td>0</td>\n",
       "      <td>0</td>\n",
       "      <td>0</td>\n",
       "      <td>0</td>\n",
       "      <td>...</td>\n",
       "      <td>0</td>\n",
       "      <td>0</td>\n",
       "      <td>0</td>\n",
       "      <td>0</td>\n",
       "      <td>0</td>\n",
       "      <td>0</td>\n",
       "      <td>0</td>\n",
       "      <td>0</td>\n",
       "      <td>0</td>\n",
       "      <td>0</td>\n",
       "    </tr>\n",
       "    <tr>\n",
       "      <th>2</th>\n",
       "      <td>0</td>\n",
       "      <td>0</td>\n",
       "      <td>0</td>\n",
       "      <td>0</td>\n",
       "      <td>0</td>\n",
       "      <td>0</td>\n",
       "      <td>0</td>\n",
       "      <td>0</td>\n",
       "      <td>0</td>\n",
       "      <td>0</td>\n",
       "      <td>...</td>\n",
       "      <td>0</td>\n",
       "      <td>1</td>\n",
       "      <td>1</td>\n",
       "      <td>0</td>\n",
       "      <td>0</td>\n",
       "      <td>0</td>\n",
       "      <td>0</td>\n",
       "      <td>0</td>\n",
       "      <td>0</td>\n",
       "      <td>0</td>\n",
       "    </tr>\n",
       "    <tr>\n",
       "      <th>3</th>\n",
       "      <td>0</td>\n",
       "      <td>1</td>\n",
       "      <td>0</td>\n",
       "      <td>0</td>\n",
       "      <td>0</td>\n",
       "      <td>0</td>\n",
       "      <td>0</td>\n",
       "      <td>0</td>\n",
       "      <td>0</td>\n",
       "      <td>0</td>\n",
       "      <td>...</td>\n",
       "      <td>0</td>\n",
       "      <td>0</td>\n",
       "      <td>0</td>\n",
       "      <td>0</td>\n",
       "      <td>0</td>\n",
       "      <td>0</td>\n",
       "      <td>0</td>\n",
       "      <td>0</td>\n",
       "      <td>0</td>\n",
       "      <td>0</td>\n",
       "    </tr>\n",
       "    <tr>\n",
       "      <th>4</th>\n",
       "      <td>0</td>\n",
       "      <td>0</td>\n",
       "      <td>0</td>\n",
       "      <td>0</td>\n",
       "      <td>0</td>\n",
       "      <td>0</td>\n",
       "      <td>0</td>\n",
       "      <td>0</td>\n",
       "      <td>0</td>\n",
       "      <td>0</td>\n",
       "      <td>...</td>\n",
       "      <td>0</td>\n",
       "      <td>0</td>\n",
       "      <td>0</td>\n",
       "      <td>0</td>\n",
       "      <td>0</td>\n",
       "      <td>0</td>\n",
       "      <td>1</td>\n",
       "      <td>0</td>\n",
       "      <td>0</td>\n",
       "      <td>0</td>\n",
       "    </tr>\n",
       "    <tr>\n",
       "      <th>5</th>\n",
       "      <td>0</td>\n",
       "      <td>0</td>\n",
       "      <td>0</td>\n",
       "      <td>0</td>\n",
       "      <td>0</td>\n",
       "      <td>0</td>\n",
       "      <td>0</td>\n",
       "      <td>0</td>\n",
       "      <td>0</td>\n",
       "      <td>0</td>\n",
       "      <td>...</td>\n",
       "      <td>0</td>\n",
       "      <td>1</td>\n",
       "      <td>1</td>\n",
       "      <td>0</td>\n",
       "      <td>0</td>\n",
       "      <td>0</td>\n",
       "      <td>0</td>\n",
       "      <td>0</td>\n",
       "      <td>0</td>\n",
       "      <td>0</td>\n",
       "    </tr>\n",
       "    <tr>\n",
       "      <th>18548</th>\n",
       "      <td>0</td>\n",
       "      <td>0</td>\n",
       "      <td>0</td>\n",
       "      <td>0</td>\n",
       "      <td>0</td>\n",
       "      <td>0</td>\n",
       "      <td>0</td>\n",
       "      <td>0</td>\n",
       "      <td>0</td>\n",
       "      <td>0</td>\n",
       "      <td>...</td>\n",
       "      <td>0</td>\n",
       "      <td>1</td>\n",
       "      <td>1</td>\n",
       "      <td>0</td>\n",
       "      <td>0</td>\n",
       "      <td>0</td>\n",
       "      <td>0</td>\n",
       "      <td>0</td>\n",
       "      <td>0</td>\n",
       "      <td>0</td>\n",
       "    </tr>\n",
       "    <tr>\n",
       "      <th>18549</th>\n",
       "      <td>0</td>\n",
       "      <td>0</td>\n",
       "      <td>0</td>\n",
       "      <td>0</td>\n",
       "      <td>0</td>\n",
       "      <td>0</td>\n",
       "      <td>1</td>\n",
       "      <td>0</td>\n",
       "      <td>0</td>\n",
       "      <td>0</td>\n",
       "      <td>...</td>\n",
       "      <td>0</td>\n",
       "      <td>1</td>\n",
       "      <td>1</td>\n",
       "      <td>0</td>\n",
       "      <td>0</td>\n",
       "      <td>0</td>\n",
       "      <td>0</td>\n",
       "      <td>0</td>\n",
       "      <td>0</td>\n",
       "      <td>0</td>\n",
       "    </tr>\n",
       "    <tr>\n",
       "      <th>18550</th>\n",
       "      <td>0</td>\n",
       "      <td>1</td>\n",
       "      <td>0</td>\n",
       "      <td>0</td>\n",
       "      <td>0</td>\n",
       "      <td>0</td>\n",
       "      <td>0</td>\n",
       "      <td>0</td>\n",
       "      <td>0</td>\n",
       "      <td>0</td>\n",
       "      <td>...</td>\n",
       "      <td>0</td>\n",
       "      <td>0</td>\n",
       "      <td>0</td>\n",
       "      <td>0</td>\n",
       "      <td>0</td>\n",
       "      <td>0</td>\n",
       "      <td>0</td>\n",
       "      <td>0</td>\n",
       "      <td>0</td>\n",
       "      <td>0</td>\n",
       "    </tr>\n",
       "    <tr>\n",
       "      <th>18551</th>\n",
       "      <td>0</td>\n",
       "      <td>1</td>\n",
       "      <td>0</td>\n",
       "      <td>0</td>\n",
       "      <td>0</td>\n",
       "      <td>0</td>\n",
       "      <td>0</td>\n",
       "      <td>0</td>\n",
       "      <td>0</td>\n",
       "      <td>0</td>\n",
       "      <td>...</td>\n",
       "      <td>0</td>\n",
       "      <td>0</td>\n",
       "      <td>0</td>\n",
       "      <td>0</td>\n",
       "      <td>0</td>\n",
       "      <td>0</td>\n",
       "      <td>0</td>\n",
       "      <td>0</td>\n",
       "      <td>0</td>\n",
       "      <td>0</td>\n",
       "    </tr>\n",
       "    <tr>\n",
       "      <th>18552</th>\n",
       "      <td>0</td>\n",
       "      <td>0</td>\n",
       "      <td>0</td>\n",
       "      <td>0</td>\n",
       "      <td>0</td>\n",
       "      <td>0</td>\n",
       "      <td>0</td>\n",
       "      <td>0</td>\n",
       "      <td>0</td>\n",
       "      <td>0</td>\n",
       "      <td>...</td>\n",
       "      <td>0</td>\n",
       "      <td>1</td>\n",
       "      <td>1</td>\n",
       "      <td>0</td>\n",
       "      <td>0</td>\n",
       "      <td>0</td>\n",
       "      <td>0</td>\n",
       "      <td>0</td>\n",
       "      <td>0</td>\n",
       "      <td>0</td>\n",
       "    </tr>\n",
       "  </tbody>\n",
       "</table>\n",
       "<p>10 rows × 21 columns</p>\n",
       "</div>"
      ],
      "text/plain": [
       "       event_type_grouped_event_type 10  event_type_grouped_event_type 11  \\\n",
       "id                                                                          \n",
       "1                                     0                                 1   \n",
       "2                                     0                                 0   \n",
       "3                                     0                                 1   \n",
       "4                                     0                                 0   \n",
       "5                                     0                                 0   \n",
       "18548                                 0                                 0   \n",
       "18549                                 0                                 0   \n",
       "18550                                 0                                 1   \n",
       "18551                                 0                                 1   \n",
       "18552                                 0                                 0   \n",
       "\n",
       "       event_type_grouped_event_type 13  event_type_grouped_event_type 14  \\\n",
       "id                                                                          \n",
       "1                                     1                                 0   \n",
       "2                                     0                                 0   \n",
       "3                                     0                                 0   \n",
       "4                                     0                                 0   \n",
       "5                                     0                                 0   \n",
       "18548                                 0                                 0   \n",
       "18549                                 0                                 0   \n",
       "18550                                 0                                 0   \n",
       "18551                                 0                                 0   \n",
       "18552                                 0                                 0   \n",
       "\n",
       "       event_type_grouped_event_type 15  event_type_grouped_event_type 18  \\\n",
       "id                                                                          \n",
       "1                                     0                                 0   \n",
       "2                                     0                                 0   \n",
       "3                                     0                                 0   \n",
       "4                                     0                                 0   \n",
       "5                                     0                                 0   \n",
       "18548                                 0                                 0   \n",
       "18549                                 0                                 0   \n",
       "18550                                 0                                 0   \n",
       "18551                                 0                                 0   \n",
       "18552                                 0                                 0   \n",
       "\n",
       "       event_type_grouped_event_type 20  event_type_grouped_event_type 21  \\\n",
       "id                                                                          \n",
       "1                                     0                                 0   \n",
       "2                                     0                                 0   \n",
       "3                                     0                                 0   \n",
       "4                                     0                                 0   \n",
       "5                                     0                                 0   \n",
       "18548                                 0                                 0   \n",
       "18549                                 1                                 0   \n",
       "18550                                 0                                 0   \n",
       "18551                                 0                                 0   \n",
       "18552                                 0                                 0   \n",
       "\n",
       "       event_type_grouped_event_type 22  event_type_grouped_event_type 23  \\\n",
       "id                                                                          \n",
       "1                                     0                                 0   \n",
       "2                                     0                                 0   \n",
       "3                                     0                                 0   \n",
       "4                                     0                                 0   \n",
       "5                                     0                                 0   \n",
       "18548                                 0                                 0   \n",
       "18549                                 0                                 0   \n",
       "18550                                 0                                 0   \n",
       "18551                                 0                                 0   \n",
       "18552                                 0                                 0   \n",
       "\n",
       "                 ...              event_type_grouped_event_type 32  \\\n",
       "id               ...                                                 \n",
       "1                ...                                             0   \n",
       "2                ...                                             0   \n",
       "3                ...                                             0   \n",
       "4                ...                                             0   \n",
       "5                ...                                             0   \n",
       "18548            ...                                             0   \n",
       "18549            ...                                             0   \n",
       "18550            ...                                             0   \n",
       "18551            ...                                             0   \n",
       "18552            ...                                             0   \n",
       "\n",
       "       event_type_grouped_event_type 34  event_type_grouped_event_type 35  \\\n",
       "id                                                                          \n",
       "1                                     0                                 0   \n",
       "2                                     1                                 1   \n",
       "3                                     0                                 0   \n",
       "4                                     0                                 0   \n",
       "5                                     1                                 1   \n",
       "18548                                 1                                 1   \n",
       "18549                                 1                                 1   \n",
       "18550                                 0                                 0   \n",
       "18551                                 0                                 0   \n",
       "18552                                 1                                 1   \n",
       "\n",
       "       event_type_grouped_event_type 42  event_type_grouped_event_type 43  \\\n",
       "id                                                                          \n",
       "1                                     0                                 0   \n",
       "2                                     0                                 0   \n",
       "3                                     0                                 0   \n",
       "4                                     0                                 0   \n",
       "5                                     0                                 0   \n",
       "18548                                 0                                 0   \n",
       "18549                                 0                                 0   \n",
       "18550                                 0                                 0   \n",
       "18551                                 0                                 0   \n",
       "18552                                 0                                 0   \n",
       "\n",
       "       event_type_grouped_event_type 44  event_type_grouped_event_type 47  \\\n",
       "id                                                                          \n",
       "1                                     0                                 0   \n",
       "2                                     0                                 0   \n",
       "3                                     0                                 0   \n",
       "4                                     0                                 1   \n",
       "5                                     0                                 0   \n",
       "18548                                 0                                 0   \n",
       "18549                                 0                                 0   \n",
       "18550                                 0                                 0   \n",
       "18551                                 0                                 0   \n",
       "18552                                 0                                 0   \n",
       "\n",
       "       event_type_grouped_event_type 50  event_type_grouped_event_type 54  \\\n",
       "id                                                                          \n",
       "1                                     0                                 0   \n",
       "2                                     0                                 0   \n",
       "3                                     0                                 0   \n",
       "4                                     0                                 0   \n",
       "5                                     0                                 0   \n",
       "18548                                 0                                 0   \n",
       "18549                                 0                                 0   \n",
       "18550                                 0                                 0   \n",
       "18551                                 0                                 0   \n",
       "18552                                 0                                 0   \n",
       "\n",
       "       event_type_grouped_others  \n",
       "id                                \n",
       "1                              0  \n",
       "2                              0  \n",
       "3                              0  \n",
       "4                              0  \n",
       "5                              0  \n",
       "18548                          0  \n",
       "18549                          0  \n",
       "18550                          0  \n",
       "18551                          0  \n",
       "18552                          0  \n",
       "\n",
       "[10 rows x 21 columns]"
      ]
     },
     "execution_count": 41,
     "metadata": {},
     "output_type": "execute_result"
    }
   ],
   "source": [
    "check_inicio_final(event_type_dummies)"
   ]
  },
  {
   "cell_type": "markdown",
   "metadata": {},
   "source": [
    "+ numero de eventos en el mismo id"
   ]
  },
  {
   "cell_type": "code",
   "execution_count": 42,
   "metadata": {},
   "outputs": [
    {
     "data": {
      "text/html": [
       "<div>\n",
       "<style scoped>\n",
       "    .dataframe tbody tr th:only-of-type {\n",
       "        vertical-align: middle;\n",
       "    }\n",
       "\n",
       "    .dataframe tbody tr th {\n",
       "        vertical-align: top;\n",
       "    }\n",
       "\n",
       "    .dataframe thead th {\n",
       "        text-align: right;\n",
       "    }\n",
       "</style>\n",
       "<table border=\"1\" class=\"dataframe\">\n",
       "  <thead>\n",
       "    <tr style=\"text-align: right;\">\n",
       "      <th></th>\n",
       "      <th>id</th>\n",
       "      <th>number_of_event_types</th>\n",
       "    </tr>\n",
       "  </thead>\n",
       "  <tbody>\n",
       "    <tr>\n",
       "      <th>0</th>\n",
       "      <td>1</td>\n",
       "      <td>2</td>\n",
       "    </tr>\n",
       "    <tr>\n",
       "      <th>1</th>\n",
       "      <td>2</td>\n",
       "      <td>2</td>\n",
       "    </tr>\n",
       "    <tr>\n",
       "      <th>2</th>\n",
       "      <td>3</td>\n",
       "      <td>1</td>\n",
       "    </tr>\n",
       "    <tr>\n",
       "      <th>3</th>\n",
       "      <td>4</td>\n",
       "      <td>1</td>\n",
       "    </tr>\n",
       "    <tr>\n",
       "      <th>4</th>\n",
       "      <td>5</td>\n",
       "      <td>2</td>\n",
       "    </tr>\n",
       "  </tbody>\n",
       "</table>\n",
       "</div>"
      ],
      "text/plain": [
       "   id  number_of_event_types\n",
       "0   1                      2\n",
       "1   2                      2\n",
       "2   3                      1\n",
       "3   4                      1\n",
       "4   5                      2"
      ]
     },
     "execution_count": 42,
     "metadata": {},
     "output_type": "execute_result"
    }
   ],
   "source": [
    "event_type_count = event_type.groupby('id').event_type.count().reset_index()\n",
    "event_type_count.columns = ['id','number_of_event_types']\n",
    "event_type_count.head()"
   ]
  },
  {
   "cell_type": "markdown",
   "metadata": {},
   "source": [
    "ya quedaron para hacer el merge. OJO al ponerle el nombre de las columnas "
   ]
  },
  {
   "cell_type": "markdown",
   "metadata": {},
   "source": [
    "+ dummie tipos de recursos"
   ]
  },
  {
   "cell_type": "code",
   "execution_count": 43,
   "metadata": {},
   "outputs": [],
   "source": [
    "resource_type_dummies = get_dumi_dumi(resource_type,'resource_type','id')"
   ]
  },
  {
   "cell_type": "code",
   "execution_count": 44,
   "metadata": {},
   "outputs": [
    {
     "data": {
      "text/html": [
       "<div>\n",
       "<style scoped>\n",
       "    .dataframe tbody tr th:only-of-type {\n",
       "        vertical-align: middle;\n",
       "    }\n",
       "\n",
       "    .dataframe tbody tr th {\n",
       "        vertical-align: top;\n",
       "    }\n",
       "\n",
       "    .dataframe thead th {\n",
       "        text-align: right;\n",
       "    }\n",
       "</style>\n",
       "<table border=\"1\" class=\"dataframe\">\n",
       "  <thead>\n",
       "    <tr style=\"text-align: right;\">\n",
       "      <th></th>\n",
       "      <th>resource_type_resource_type 1</th>\n",
       "      <th>resource_type_resource_type 10</th>\n",
       "      <th>resource_type_resource_type 2</th>\n",
       "      <th>resource_type_resource_type 3</th>\n",
       "      <th>resource_type_resource_type 4</th>\n",
       "      <th>resource_type_resource_type 5</th>\n",
       "      <th>resource_type_resource_type 6</th>\n",
       "      <th>resource_type_resource_type 7</th>\n",
       "      <th>resource_type_resource_type 8</th>\n",
       "      <th>resource_type_resource_type 9</th>\n",
       "    </tr>\n",
       "    <tr>\n",
       "      <th>id</th>\n",
       "      <th></th>\n",
       "      <th></th>\n",
       "      <th></th>\n",
       "      <th></th>\n",
       "      <th></th>\n",
       "      <th></th>\n",
       "      <th></th>\n",
       "      <th></th>\n",
       "      <th></th>\n",
       "      <th></th>\n",
       "    </tr>\n",
       "  </thead>\n",
       "  <tbody>\n",
       "    <tr>\n",
       "      <th>1</th>\n",
       "      <td>0</td>\n",
       "      <td>0</td>\n",
       "      <td>0</td>\n",
       "      <td>0</td>\n",
       "      <td>0</td>\n",
       "      <td>0</td>\n",
       "      <td>1</td>\n",
       "      <td>0</td>\n",
       "      <td>1</td>\n",
       "      <td>0</td>\n",
       "    </tr>\n",
       "    <tr>\n",
       "      <th>2</th>\n",
       "      <td>0</td>\n",
       "      <td>0</td>\n",
       "      <td>1</td>\n",
       "      <td>0</td>\n",
       "      <td>0</td>\n",
       "      <td>0</td>\n",
       "      <td>0</td>\n",
       "      <td>0</td>\n",
       "      <td>0</td>\n",
       "      <td>0</td>\n",
       "    </tr>\n",
       "    <tr>\n",
       "      <th>3</th>\n",
       "      <td>0</td>\n",
       "      <td>0</td>\n",
       "      <td>0</td>\n",
       "      <td>0</td>\n",
       "      <td>0</td>\n",
       "      <td>0</td>\n",
       "      <td>0</td>\n",
       "      <td>0</td>\n",
       "      <td>1</td>\n",
       "      <td>0</td>\n",
       "    </tr>\n",
       "    <tr>\n",
       "      <th>4</th>\n",
       "      <td>0</td>\n",
       "      <td>0</td>\n",
       "      <td>1</td>\n",
       "      <td>0</td>\n",
       "      <td>0</td>\n",
       "      <td>0</td>\n",
       "      <td>0</td>\n",
       "      <td>0</td>\n",
       "      <td>0</td>\n",
       "      <td>0</td>\n",
       "    </tr>\n",
       "    <tr>\n",
       "      <th>5</th>\n",
       "      <td>0</td>\n",
       "      <td>0</td>\n",
       "      <td>1</td>\n",
       "      <td>0</td>\n",
       "      <td>0</td>\n",
       "      <td>0</td>\n",
       "      <td>0</td>\n",
       "      <td>0</td>\n",
       "      <td>0</td>\n",
       "      <td>0</td>\n",
       "    </tr>\n",
       "    <tr>\n",
       "      <th>18548</th>\n",
       "      <td>0</td>\n",
       "      <td>0</td>\n",
       "      <td>1</td>\n",
       "      <td>0</td>\n",
       "      <td>0</td>\n",
       "      <td>0</td>\n",
       "      <td>0</td>\n",
       "      <td>0</td>\n",
       "      <td>0</td>\n",
       "      <td>0</td>\n",
       "    </tr>\n",
       "    <tr>\n",
       "      <th>18549</th>\n",
       "      <td>0</td>\n",
       "      <td>0</td>\n",
       "      <td>1</td>\n",
       "      <td>0</td>\n",
       "      <td>0</td>\n",
       "      <td>0</td>\n",
       "      <td>0</td>\n",
       "      <td>0</td>\n",
       "      <td>0</td>\n",
       "      <td>0</td>\n",
       "    </tr>\n",
       "    <tr>\n",
       "      <th>18550</th>\n",
       "      <td>0</td>\n",
       "      <td>0</td>\n",
       "      <td>0</td>\n",
       "      <td>0</td>\n",
       "      <td>0</td>\n",
       "      <td>0</td>\n",
       "      <td>0</td>\n",
       "      <td>0</td>\n",
       "      <td>1</td>\n",
       "      <td>0</td>\n",
       "    </tr>\n",
       "    <tr>\n",
       "      <th>18551</th>\n",
       "      <td>0</td>\n",
       "      <td>0</td>\n",
       "      <td>0</td>\n",
       "      <td>0</td>\n",
       "      <td>0</td>\n",
       "      <td>0</td>\n",
       "      <td>0</td>\n",
       "      <td>0</td>\n",
       "      <td>1</td>\n",
       "      <td>0</td>\n",
       "    </tr>\n",
       "    <tr>\n",
       "      <th>18552</th>\n",
       "      <td>0</td>\n",
       "      <td>0</td>\n",
       "      <td>1</td>\n",
       "      <td>0</td>\n",
       "      <td>0</td>\n",
       "      <td>0</td>\n",
       "      <td>0</td>\n",
       "      <td>0</td>\n",
       "      <td>0</td>\n",
       "      <td>0</td>\n",
       "    </tr>\n",
       "  </tbody>\n",
       "</table>\n",
       "</div>"
      ],
      "text/plain": [
       "       resource_type_resource_type 1  resource_type_resource_type 10  \\\n",
       "id                                                                     \n",
       "1                                  0                               0   \n",
       "2                                  0                               0   \n",
       "3                                  0                               0   \n",
       "4                                  0                               0   \n",
       "5                                  0                               0   \n",
       "18548                              0                               0   \n",
       "18549                              0                               0   \n",
       "18550                              0                               0   \n",
       "18551                              0                               0   \n",
       "18552                              0                               0   \n",
       "\n",
       "       resource_type_resource_type 2  resource_type_resource_type 3  \\\n",
       "id                                                                    \n",
       "1                                  0                              0   \n",
       "2                                  1                              0   \n",
       "3                                  0                              0   \n",
       "4                                  1                              0   \n",
       "5                                  1                              0   \n",
       "18548                              1                              0   \n",
       "18549                              1                              0   \n",
       "18550                              0                              0   \n",
       "18551                              0                              0   \n",
       "18552                              1                              0   \n",
       "\n",
       "       resource_type_resource_type 4  resource_type_resource_type 5  \\\n",
       "id                                                                    \n",
       "1                                  0                              0   \n",
       "2                                  0                              0   \n",
       "3                                  0                              0   \n",
       "4                                  0                              0   \n",
       "5                                  0                              0   \n",
       "18548                              0                              0   \n",
       "18549                              0                              0   \n",
       "18550                              0                              0   \n",
       "18551                              0                              0   \n",
       "18552                              0                              0   \n",
       "\n",
       "       resource_type_resource_type 6  resource_type_resource_type 7  \\\n",
       "id                                                                    \n",
       "1                                  1                              0   \n",
       "2                                  0                              0   \n",
       "3                                  0                              0   \n",
       "4                                  0                              0   \n",
       "5                                  0                              0   \n",
       "18548                              0                              0   \n",
       "18549                              0                              0   \n",
       "18550                              0                              0   \n",
       "18551                              0                              0   \n",
       "18552                              0                              0   \n",
       "\n",
       "       resource_type_resource_type 8  resource_type_resource_type 9  \n",
       "id                                                                   \n",
       "1                                  1                              0  \n",
       "2                                  0                              0  \n",
       "3                                  1                              0  \n",
       "4                                  0                              0  \n",
       "5                                  0                              0  \n",
       "18548                              0                              0  \n",
       "18549                              0                              0  \n",
       "18550                              1                              0  \n",
       "18551                              1                              0  \n",
       "18552                              0                              0  "
      ]
     },
     "execution_count": 44,
     "metadata": {},
     "output_type": "execute_result"
    }
   ],
   "source": [
    "check_inicio_final(resource_type_dummies)"
   ]
  },
  {
   "cell_type": "markdown",
   "metadata": {},
   "source": [
    "+ numero de recursos"
   ]
  },
  {
   "cell_type": "code",
   "execution_count": 45,
   "metadata": {},
   "outputs": [
    {
     "data": {
      "text/html": [
       "<div>\n",
       "<style scoped>\n",
       "    .dataframe tbody tr th:only-of-type {\n",
       "        vertical-align: middle;\n",
       "    }\n",
       "\n",
       "    .dataframe tbody tr th {\n",
       "        vertical-align: top;\n",
       "    }\n",
       "\n",
       "    .dataframe thead th {\n",
       "        text-align: right;\n",
       "    }\n",
       "</style>\n",
       "<table border=\"1\" class=\"dataframe\">\n",
       "  <thead>\n",
       "    <tr style=\"text-align: right;\">\n",
       "      <th></th>\n",
       "      <th>id</th>\n",
       "      <th>number_of_resource_type</th>\n",
       "    </tr>\n",
       "  </thead>\n",
       "  <tbody>\n",
       "    <tr>\n",
       "      <th>0</th>\n",
       "      <td>1</td>\n",
       "      <td>2</td>\n",
       "    </tr>\n",
       "    <tr>\n",
       "      <th>1</th>\n",
       "      <td>2</td>\n",
       "      <td>1</td>\n",
       "    </tr>\n",
       "    <tr>\n",
       "      <th>2</th>\n",
       "      <td>3</td>\n",
       "      <td>1</td>\n",
       "    </tr>\n",
       "    <tr>\n",
       "      <th>3</th>\n",
       "      <td>4</td>\n",
       "      <td>1</td>\n",
       "    </tr>\n",
       "    <tr>\n",
       "      <th>4</th>\n",
       "      <td>5</td>\n",
       "      <td>1</td>\n",
       "    </tr>\n",
       "  </tbody>\n",
       "</table>\n",
       "</div>"
      ],
      "text/plain": [
       "   id  number_of_resource_type\n",
       "0   1                        2\n",
       "1   2                        1\n",
       "2   3                        1\n",
       "3   4                        1\n",
       "4   5                        1"
      ]
     },
     "execution_count": 45,
     "metadata": {},
     "output_type": "execute_result"
    }
   ],
   "source": [
    "resource_type_count = resource_type.groupby('id').resource_type.count().reset_index()\n",
    "resource_type_count.columns = ['id','number_of_resource_type']\n",
    "resource_type_count.head()"
   ]
  },
  {
   "cell_type": "markdown",
   "metadata": {},
   "source": [
    "+ Gravedad de la falla en logs categorica Ordinal"
   ]
  },
  {
   "cell_type": "code",
   "execution_count": 46,
   "metadata": {},
   "outputs": [
    {
     "data": {
      "text/plain": [
       "0    2\n",
       "1    2\n",
       "2    2\n",
       "3    1\n",
       "4    1\n",
       "Name: severety_type_ordinal, dtype: int64"
      ]
     },
     "execution_count": 46,
     "metadata": {},
     "output_type": "execute_result"
    }
   ],
   "source": [
    "# solo copiaremos esta\n",
    "severity_type.severety_type_ordinal.head()"
   ]
  },
  {
   "cell_type": "markdown",
   "metadata": {},
   "source": [
    "+ dummie log_features_agrupado"
   ]
  },
  {
   "cell_type": "code",
   "execution_count": 93,
   "metadata": {},
   "outputs": [],
   "source": [
    "log_feature_dummi = get_dumi_dumi(log_feature,'log_features_grouped','id').drop([\n",
    "    'volume','log_volume','log_feature'], 1)"
   ]
  },
  {
   "cell_type": "code",
   "execution_count": 94,
   "metadata": {},
   "outputs": [
    {
     "data": {
      "text/html": [
       "<div>\n",
       "<style scoped>\n",
       "    .dataframe tbody tr th:only-of-type {\n",
       "        vertical-align: middle;\n",
       "    }\n",
       "\n",
       "    .dataframe tbody tr th {\n",
       "        vertical-align: top;\n",
       "    }\n",
       "\n",
       "    .dataframe thead th {\n",
       "        text-align: right;\n",
       "    }\n",
       "</style>\n",
       "<table border=\"1\" class=\"dataframe\">\n",
       "  <thead>\n",
       "    <tr style=\"text-align: right;\">\n",
       "      <th></th>\n",
       "      <th>log_features_grouped_feature 134</th>\n",
       "      <th>log_features_grouped_feature 170</th>\n",
       "      <th>log_features_grouped_feature 193</th>\n",
       "      <th>log_features_grouped_feature 195</th>\n",
       "      <th>log_features_grouped_feature 201</th>\n",
       "      <th>log_features_grouped_feature 203</th>\n",
       "      <th>log_features_grouped_feature 219</th>\n",
       "      <th>log_features_grouped_feature 227</th>\n",
       "      <th>log_features_grouped_feature 232</th>\n",
       "      <th>log_features_grouped_feature 233</th>\n",
       "      <th>...</th>\n",
       "      <th>log_features_grouped_feature 313</th>\n",
       "      <th>log_features_grouped_feature 314</th>\n",
       "      <th>log_features_grouped_feature 315</th>\n",
       "      <th>log_features_grouped_feature 54</th>\n",
       "      <th>log_features_grouped_feature 68</th>\n",
       "      <th>log_features_grouped_feature 71</th>\n",
       "      <th>log_features_grouped_feature 73</th>\n",
       "      <th>log_features_grouped_feature 80</th>\n",
       "      <th>log_features_grouped_feature 82</th>\n",
       "      <th>log_features_grouped_others</th>\n",
       "    </tr>\n",
       "    <tr>\n",
       "      <th>id</th>\n",
       "      <th></th>\n",
       "      <th></th>\n",
       "      <th></th>\n",
       "      <th></th>\n",
       "      <th></th>\n",
       "      <th></th>\n",
       "      <th></th>\n",
       "      <th></th>\n",
       "      <th></th>\n",
       "      <th></th>\n",
       "      <th></th>\n",
       "      <th></th>\n",
       "      <th></th>\n",
       "      <th></th>\n",
       "      <th></th>\n",
       "      <th></th>\n",
       "      <th></th>\n",
       "      <th></th>\n",
       "      <th></th>\n",
       "      <th></th>\n",
       "      <th></th>\n",
       "    </tr>\n",
       "  </thead>\n",
       "  <tbody>\n",
       "    <tr>\n",
       "      <th>1</th>\n",
       "      <td>0</td>\n",
       "      <td>0</td>\n",
       "      <td>0</td>\n",
       "      <td>0</td>\n",
       "      <td>0</td>\n",
       "      <td>0</td>\n",
       "      <td>0</td>\n",
       "      <td>0</td>\n",
       "      <td>0</td>\n",
       "      <td>0</td>\n",
       "      <td>...</td>\n",
       "      <td>0</td>\n",
       "      <td>0</td>\n",
       "      <td>0</td>\n",
       "      <td>0</td>\n",
       "      <td>1</td>\n",
       "      <td>0</td>\n",
       "      <td>0</td>\n",
       "      <td>0</td>\n",
       "      <td>0</td>\n",
       "      <td>1</td>\n",
       "    </tr>\n",
       "    <tr>\n",
       "      <th>2</th>\n",
       "      <td>0</td>\n",
       "      <td>0</td>\n",
       "      <td>0</td>\n",
       "      <td>0</td>\n",
       "      <td>0</td>\n",
       "      <td>0</td>\n",
       "      <td>0</td>\n",
       "      <td>0</td>\n",
       "      <td>0</td>\n",
       "      <td>1</td>\n",
       "      <td>...</td>\n",
       "      <td>1</td>\n",
       "      <td>0</td>\n",
       "      <td>1</td>\n",
       "      <td>0</td>\n",
       "      <td>0</td>\n",
       "      <td>0</td>\n",
       "      <td>0</td>\n",
       "      <td>0</td>\n",
       "      <td>0</td>\n",
       "      <td>0</td>\n",
       "    </tr>\n",
       "    <tr>\n",
       "      <th>3</th>\n",
       "      <td>0</td>\n",
       "      <td>0</td>\n",
       "      <td>0</td>\n",
       "      <td>0</td>\n",
       "      <td>0</td>\n",
       "      <td>0</td>\n",
       "      <td>0</td>\n",
       "      <td>0</td>\n",
       "      <td>0</td>\n",
       "      <td>0</td>\n",
       "      <td>...</td>\n",
       "      <td>0</td>\n",
       "      <td>0</td>\n",
       "      <td>0</td>\n",
       "      <td>0</td>\n",
       "      <td>0</td>\n",
       "      <td>0</td>\n",
       "      <td>0</td>\n",
       "      <td>0</td>\n",
       "      <td>0</td>\n",
       "      <td>1</td>\n",
       "    </tr>\n",
       "    <tr>\n",
       "      <th>4</th>\n",
       "      <td>0</td>\n",
       "      <td>0</td>\n",
       "      <td>0</td>\n",
       "      <td>0</td>\n",
       "      <td>0</td>\n",
       "      <td>0</td>\n",
       "      <td>0</td>\n",
       "      <td>0</td>\n",
       "      <td>0</td>\n",
       "      <td>0</td>\n",
       "      <td>...</td>\n",
       "      <td>0</td>\n",
       "      <td>0</td>\n",
       "      <td>0</td>\n",
       "      <td>0</td>\n",
       "      <td>0</td>\n",
       "      <td>0</td>\n",
       "      <td>0</td>\n",
       "      <td>0</td>\n",
       "      <td>0</td>\n",
       "      <td>1</td>\n",
       "    </tr>\n",
       "    <tr>\n",
       "      <th>5</th>\n",
       "      <td>0</td>\n",
       "      <td>0</td>\n",
       "      <td>0</td>\n",
       "      <td>0</td>\n",
       "      <td>0</td>\n",
       "      <td>0</td>\n",
       "      <td>0</td>\n",
       "      <td>0</td>\n",
       "      <td>1</td>\n",
       "      <td>0</td>\n",
       "      <td>...</td>\n",
       "      <td>0</td>\n",
       "      <td>0</td>\n",
       "      <td>0</td>\n",
       "      <td>0</td>\n",
       "      <td>0</td>\n",
       "      <td>0</td>\n",
       "      <td>0</td>\n",
       "      <td>0</td>\n",
       "      <td>0</td>\n",
       "      <td>0</td>\n",
       "    </tr>\n",
       "    <tr>\n",
       "      <th>18548</th>\n",
       "      <td>0</td>\n",
       "      <td>0</td>\n",
       "      <td>0</td>\n",
       "      <td>0</td>\n",
       "      <td>0</td>\n",
       "      <td>0</td>\n",
       "      <td>0</td>\n",
       "      <td>0</td>\n",
       "      <td>1</td>\n",
       "      <td>1</td>\n",
       "      <td>...</td>\n",
       "      <td>1</td>\n",
       "      <td>0</td>\n",
       "      <td>1</td>\n",
       "      <td>0</td>\n",
       "      <td>0</td>\n",
       "      <td>0</td>\n",
       "      <td>0</td>\n",
       "      <td>0</td>\n",
       "      <td>0</td>\n",
       "      <td>0</td>\n",
       "    </tr>\n",
       "    <tr>\n",
       "      <th>18549</th>\n",
       "      <td>1</td>\n",
       "      <td>0</td>\n",
       "      <td>0</td>\n",
       "      <td>0</td>\n",
       "      <td>0</td>\n",
       "      <td>0</td>\n",
       "      <td>1</td>\n",
       "      <td>0</td>\n",
       "      <td>1</td>\n",
       "      <td>0</td>\n",
       "      <td>...</td>\n",
       "      <td>0</td>\n",
       "      <td>0</td>\n",
       "      <td>0</td>\n",
       "      <td>0</td>\n",
       "      <td>0</td>\n",
       "      <td>0</td>\n",
       "      <td>0</td>\n",
       "      <td>0</td>\n",
       "      <td>0</td>\n",
       "      <td>1</td>\n",
       "    </tr>\n",
       "    <tr>\n",
       "      <th>18550</th>\n",
       "      <td>0</td>\n",
       "      <td>0</td>\n",
       "      <td>0</td>\n",
       "      <td>0</td>\n",
       "      <td>0</td>\n",
       "      <td>0</td>\n",
       "      <td>0</td>\n",
       "      <td>0</td>\n",
       "      <td>0</td>\n",
       "      <td>0</td>\n",
       "      <td>...</td>\n",
       "      <td>0</td>\n",
       "      <td>0</td>\n",
       "      <td>0</td>\n",
       "      <td>0</td>\n",
       "      <td>0</td>\n",
       "      <td>0</td>\n",
       "      <td>0</td>\n",
       "      <td>0</td>\n",
       "      <td>0</td>\n",
       "      <td>1</td>\n",
       "    </tr>\n",
       "    <tr>\n",
       "      <th>18551</th>\n",
       "      <td>0</td>\n",
       "      <td>0</td>\n",
       "      <td>0</td>\n",
       "      <td>1</td>\n",
       "      <td>0</td>\n",
       "      <td>0</td>\n",
       "      <td>0</td>\n",
       "      <td>0</td>\n",
       "      <td>0</td>\n",
       "      <td>0</td>\n",
       "      <td>...</td>\n",
       "      <td>0</td>\n",
       "      <td>0</td>\n",
       "      <td>0</td>\n",
       "      <td>0</td>\n",
       "      <td>0</td>\n",
       "      <td>0</td>\n",
       "      <td>1</td>\n",
       "      <td>0</td>\n",
       "      <td>0</td>\n",
       "      <td>0</td>\n",
       "    </tr>\n",
       "    <tr>\n",
       "      <th>18552</th>\n",
       "      <td>0</td>\n",
       "      <td>0</td>\n",
       "      <td>0</td>\n",
       "      <td>0</td>\n",
       "      <td>0</td>\n",
       "      <td>0</td>\n",
       "      <td>0</td>\n",
       "      <td>0</td>\n",
       "      <td>1</td>\n",
       "      <td>0</td>\n",
       "      <td>...</td>\n",
       "      <td>0</td>\n",
       "      <td>0</td>\n",
       "      <td>0</td>\n",
       "      <td>0</td>\n",
       "      <td>0</td>\n",
       "      <td>0</td>\n",
       "      <td>0</td>\n",
       "      <td>0</td>\n",
       "      <td>0</td>\n",
       "      <td>0</td>\n",
       "    </tr>\n",
       "  </tbody>\n",
       "</table>\n",
       "<p>10 rows × 26 columns</p>\n",
       "</div>"
      ],
      "text/plain": [
       "       log_features_grouped_feature 134  log_features_grouped_feature 170  \\\n",
       "id                                                                          \n",
       "1                                     0                                 0   \n",
       "2                                     0                                 0   \n",
       "3                                     0                                 0   \n",
       "4                                     0                                 0   \n",
       "5                                     0                                 0   \n",
       "18548                                 0                                 0   \n",
       "18549                                 1                                 0   \n",
       "18550                                 0                                 0   \n",
       "18551                                 0                                 0   \n",
       "18552                                 0                                 0   \n",
       "\n",
       "       log_features_grouped_feature 193  log_features_grouped_feature 195  \\\n",
       "id                                                                          \n",
       "1                                     0                                 0   \n",
       "2                                     0                                 0   \n",
       "3                                     0                                 0   \n",
       "4                                     0                                 0   \n",
       "5                                     0                                 0   \n",
       "18548                                 0                                 0   \n",
       "18549                                 0                                 0   \n",
       "18550                                 0                                 0   \n",
       "18551                                 0                                 1   \n",
       "18552                                 0                                 0   \n",
       "\n",
       "       log_features_grouped_feature 201  log_features_grouped_feature 203  \\\n",
       "id                                                                          \n",
       "1                                     0                                 0   \n",
       "2                                     0                                 0   \n",
       "3                                     0                                 0   \n",
       "4                                     0                                 0   \n",
       "5                                     0                                 0   \n",
       "18548                                 0                                 0   \n",
       "18549                                 0                                 0   \n",
       "18550                                 0                                 0   \n",
       "18551                                 0                                 0   \n",
       "18552                                 0                                 0   \n",
       "\n",
       "       log_features_grouped_feature 219  log_features_grouped_feature 227  \\\n",
       "id                                                                          \n",
       "1                                     0                                 0   \n",
       "2                                     0                                 0   \n",
       "3                                     0                                 0   \n",
       "4                                     0                                 0   \n",
       "5                                     0                                 0   \n",
       "18548                                 0                                 0   \n",
       "18549                                 1                                 0   \n",
       "18550                                 0                                 0   \n",
       "18551                                 0                                 0   \n",
       "18552                                 0                                 0   \n",
       "\n",
       "       log_features_grouped_feature 232  log_features_grouped_feature 233  \\\n",
       "id                                                                          \n",
       "1                                     0                                 0   \n",
       "2                                     0                                 1   \n",
       "3                                     0                                 0   \n",
       "4                                     0                                 0   \n",
       "5                                     1                                 0   \n",
       "18548                                 1                                 1   \n",
       "18549                                 1                                 0   \n",
       "18550                                 0                                 0   \n",
       "18551                                 0                                 0   \n",
       "18552                                 1                                 0   \n",
       "\n",
       "                  ...               log_features_grouped_feature 313  \\\n",
       "id                ...                                                  \n",
       "1                 ...                                              0   \n",
       "2                 ...                                              1   \n",
       "3                 ...                                              0   \n",
       "4                 ...                                              0   \n",
       "5                 ...                                              0   \n",
       "18548             ...                                              1   \n",
       "18549             ...                                              0   \n",
       "18550             ...                                              0   \n",
       "18551             ...                                              0   \n",
       "18552             ...                                              0   \n",
       "\n",
       "       log_features_grouped_feature 314  log_features_grouped_feature 315  \\\n",
       "id                                                                          \n",
       "1                                     0                                 0   \n",
       "2                                     0                                 1   \n",
       "3                                     0                                 0   \n",
       "4                                     0                                 0   \n",
       "5                                     0                                 0   \n",
       "18548                                 0                                 1   \n",
       "18549                                 0                                 0   \n",
       "18550                                 0                                 0   \n",
       "18551                                 0                                 0   \n",
       "18552                                 0                                 0   \n",
       "\n",
       "       log_features_grouped_feature 54  log_features_grouped_feature 68  \\\n",
       "id                                                                        \n",
       "1                                    0                                1   \n",
       "2                                    0                                0   \n",
       "3                                    0                                0   \n",
       "4                                    0                                0   \n",
       "5                                    0                                0   \n",
       "18548                                0                                0   \n",
       "18549                                0                                0   \n",
       "18550                                0                                0   \n",
       "18551                                0                                0   \n",
       "18552                                0                                0   \n",
       "\n",
       "       log_features_grouped_feature 71  log_features_grouped_feature 73  \\\n",
       "id                                                                        \n",
       "1                                    0                                0   \n",
       "2                                    0                                0   \n",
       "3                                    0                                0   \n",
       "4                                    0                                0   \n",
       "5                                    0                                0   \n",
       "18548                                0                                0   \n",
       "18549                                0                                0   \n",
       "18550                                0                                0   \n",
       "18551                                0                                1   \n",
       "18552                                0                                0   \n",
       "\n",
       "       log_features_grouped_feature 80  log_features_grouped_feature 82  \\\n",
       "id                                                                        \n",
       "1                                    0                                0   \n",
       "2                                    0                                0   \n",
       "3                                    0                                0   \n",
       "4                                    0                                0   \n",
       "5                                    0                                0   \n",
       "18548                                0                                0   \n",
       "18549                                0                                0   \n",
       "18550                                0                                0   \n",
       "18551                                0                                0   \n",
       "18552                                0                                0   \n",
       "\n",
       "       log_features_grouped_others  \n",
       "id                                  \n",
       "1                                1  \n",
       "2                                0  \n",
       "3                                1  \n",
       "4                                1  \n",
       "5                                0  \n",
       "18548                            0  \n",
       "18549                            1  \n",
       "18550                            1  \n",
       "18551                            0  \n",
       "18552                            0  \n",
       "\n",
       "[10 rows x 26 columns]"
      ]
     },
     "execution_count": 94,
     "metadata": {},
     "output_type": "execute_result"
    }
   ],
   "source": [
    "check_inicio_final(log_feature_dummi)"
   ]
  },
  {
   "cell_type": "markdown",
   "metadata": {},
   "source": [
    "+ Conteo de log_features"
   ]
  },
  {
   "cell_type": "code",
   "execution_count": 49,
   "metadata": {},
   "outputs": [
    {
     "data": {
      "text/html": [
       "<div>\n",
       "<style scoped>\n",
       "    .dataframe tbody tr th:only-of-type {\n",
       "        vertical-align: middle;\n",
       "    }\n",
       "\n",
       "    .dataframe tbody tr th {\n",
       "        vertical-align: top;\n",
       "    }\n",
       "\n",
       "    .dataframe thead th {\n",
       "        text-align: right;\n",
       "    }\n",
       "</style>\n",
       "<table border=\"1\" class=\"dataframe\">\n",
       "  <thead>\n",
       "    <tr style=\"text-align: right;\">\n",
       "      <th></th>\n",
       "      <th>id</th>\n",
       "      <th>number_of_log_feature</th>\n",
       "    </tr>\n",
       "  </thead>\n",
       "  <tbody>\n",
       "    <tr>\n",
       "      <th>0</th>\n",
       "      <td>1</td>\n",
       "      <td>3</td>\n",
       "    </tr>\n",
       "    <tr>\n",
       "      <th>1</th>\n",
       "      <td>2</td>\n",
       "      <td>5</td>\n",
       "    </tr>\n",
       "    <tr>\n",
       "      <th>2</th>\n",
       "      <td>3</td>\n",
       "      <td>1</td>\n",
       "    </tr>\n",
       "    <tr>\n",
       "      <th>3</th>\n",
       "      <td>4</td>\n",
       "      <td>1</td>\n",
       "    </tr>\n",
       "    <tr>\n",
       "      <th>4</th>\n",
       "      <td>5</td>\n",
       "      <td>2</td>\n",
       "    </tr>\n",
       "  </tbody>\n",
       "</table>\n",
       "</div>"
      ],
      "text/plain": [
       "   id  number_of_log_feature\n",
       "0   1                      3\n",
       "1   2                      5\n",
       "2   3                      1\n",
       "3   4                      1\n",
       "4   5                      2"
      ]
     },
     "execution_count": 49,
     "metadata": {},
     "output_type": "execute_result"
    }
   ],
   "source": [
    "log_feature_type_count = log_feature.groupby('id').log_feature.count().reset_index()\n",
    "log_feature_type_count.columns = ['id','number_of_log_feature']\n",
    "log_feature_type_count.head()"
   ]
  },
  {
   "cell_type": "markdown",
   "metadata": {},
   "source": [
    "+  Estadisticos de volumen"
   ]
  },
  {
   "cell_type": "code",
   "execution_count": 50,
   "metadata": {},
   "outputs": [],
   "source": [
    "feature_vol_stats = log_feature.groupby('id').volume.describe()"
   ]
  },
  {
   "cell_type": "code",
   "execution_count": 51,
   "metadata": {},
   "outputs": [],
   "source": [
    "feature_vol_stats.columns = ['log_feature_vol_count', 'log_feature_vol_mean', \n",
    "                                 'log_feature_vol_std', 'log_feature_vol_min', 'log_feature_vol_25%', \n",
    "                                 'log_feature_vol_50%', 'log_feature_vol_75%', 'log_feature_vol_max']"
   ]
  },
  {
   "cell_type": "code",
   "execution_count": 52,
   "metadata": {},
   "outputs": [
    {
     "data": {
      "text/html": [
       "<div>\n",
       "<style scoped>\n",
       "    .dataframe tbody tr th:only-of-type {\n",
       "        vertical-align: middle;\n",
       "    }\n",
       "\n",
       "    .dataframe tbody tr th {\n",
       "        vertical-align: top;\n",
       "    }\n",
       "\n",
       "    .dataframe thead th {\n",
       "        text-align: right;\n",
       "    }\n",
       "</style>\n",
       "<table border=\"1\" class=\"dataframe\">\n",
       "  <thead>\n",
       "    <tr style=\"text-align: right;\">\n",
       "      <th></th>\n",
       "      <th>log_feature_vol_count</th>\n",
       "      <th>log_feature_vol_mean</th>\n",
       "      <th>log_feature_vol_std</th>\n",
       "      <th>log_feature_vol_min</th>\n",
       "      <th>log_feature_vol_25%</th>\n",
       "      <th>log_feature_vol_50%</th>\n",
       "      <th>log_feature_vol_75%</th>\n",
       "      <th>log_feature_vol_max</th>\n",
       "    </tr>\n",
       "    <tr>\n",
       "      <th>id</th>\n",
       "      <th></th>\n",
       "      <th></th>\n",
       "      <th></th>\n",
       "      <th></th>\n",
       "      <th></th>\n",
       "      <th></th>\n",
       "      <th></th>\n",
       "      <th></th>\n",
       "    </tr>\n",
       "  </thead>\n",
       "  <tbody>\n",
       "    <tr>\n",
       "      <th>1</th>\n",
       "      <td>3.0</td>\n",
       "      <td>1.666667</td>\n",
       "      <td>0.577350</td>\n",
       "      <td>1.0</td>\n",
       "      <td>1.50</td>\n",
       "      <td>2.0</td>\n",
       "      <td>2.00</td>\n",
       "      <td>2.0</td>\n",
       "    </tr>\n",
       "    <tr>\n",
       "      <th>2</th>\n",
       "      <td>5.0</td>\n",
       "      <td>1.000000</td>\n",
       "      <td>0.000000</td>\n",
       "      <td>1.0</td>\n",
       "      <td>1.00</td>\n",
       "      <td>1.0</td>\n",
       "      <td>1.00</td>\n",
       "      <td>1.0</td>\n",
       "    </tr>\n",
       "    <tr>\n",
       "      <th>3</th>\n",
       "      <td>1.0</td>\n",
       "      <td>2.000000</td>\n",
       "      <td>NaN</td>\n",
       "      <td>2.0</td>\n",
       "      <td>2.00</td>\n",
       "      <td>2.0</td>\n",
       "      <td>2.00</td>\n",
       "      <td>2.0</td>\n",
       "    </tr>\n",
       "    <tr>\n",
       "      <th>4</th>\n",
       "      <td>1.0</td>\n",
       "      <td>3.000000</td>\n",
       "      <td>NaN</td>\n",
       "      <td>3.0</td>\n",
       "      <td>3.00</td>\n",
       "      <td>3.0</td>\n",
       "      <td>3.00</td>\n",
       "      <td>3.0</td>\n",
       "    </tr>\n",
       "    <tr>\n",
       "      <th>5</th>\n",
       "      <td>2.0</td>\n",
       "      <td>8.500000</td>\n",
       "      <td>3.535534</td>\n",
       "      <td>6.0</td>\n",
       "      <td>7.25</td>\n",
       "      <td>8.5</td>\n",
       "      <td>9.75</td>\n",
       "      <td>11.0</td>\n",
       "    </tr>\n",
       "    <tr>\n",
       "      <th>18548</th>\n",
       "      <td>6.0</td>\n",
       "      <td>3.666667</td>\n",
       "      <td>0.516398</td>\n",
       "      <td>3.0</td>\n",
       "      <td>3.25</td>\n",
       "      <td>4.0</td>\n",
       "      <td>4.00</td>\n",
       "      <td>4.0</td>\n",
       "    </tr>\n",
       "    <tr>\n",
       "      <th>18549</th>\n",
       "      <td>6.0</td>\n",
       "      <td>1.333333</td>\n",
       "      <td>0.516398</td>\n",
       "      <td>1.0</td>\n",
       "      <td>1.00</td>\n",
       "      <td>1.0</td>\n",
       "      <td>1.75</td>\n",
       "      <td>2.0</td>\n",
       "    </tr>\n",
       "    <tr>\n",
       "      <th>18550</th>\n",
       "      <td>2.0</td>\n",
       "      <td>3.000000</td>\n",
       "      <td>0.000000</td>\n",
       "      <td>3.0</td>\n",
       "      <td>3.00</td>\n",
       "      <td>3.0</td>\n",
       "      <td>3.00</td>\n",
       "      <td>3.0</td>\n",
       "    </tr>\n",
       "    <tr>\n",
       "      <th>18551</th>\n",
       "      <td>2.0</td>\n",
       "      <td>3.500000</td>\n",
       "      <td>3.535534</td>\n",
       "      <td>1.0</td>\n",
       "      <td>2.25</td>\n",
       "      <td>3.5</td>\n",
       "      <td>4.75</td>\n",
       "      <td>6.0</td>\n",
       "    </tr>\n",
       "    <tr>\n",
       "      <th>18552</th>\n",
       "      <td>2.0</td>\n",
       "      <td>24.000000</td>\n",
       "      <td>1.414214</td>\n",
       "      <td>23.0</td>\n",
       "      <td>23.50</td>\n",
       "      <td>24.0</td>\n",
       "      <td>24.50</td>\n",
       "      <td>25.0</td>\n",
       "    </tr>\n",
       "  </tbody>\n",
       "</table>\n",
       "</div>"
      ],
      "text/plain": [
       "       log_feature_vol_count  log_feature_vol_mean  log_feature_vol_std  \\\n",
       "id                                                                        \n",
       "1                        3.0              1.666667             0.577350   \n",
       "2                        5.0              1.000000             0.000000   \n",
       "3                        1.0              2.000000                  NaN   \n",
       "4                        1.0              3.000000                  NaN   \n",
       "5                        2.0              8.500000             3.535534   \n",
       "18548                    6.0              3.666667             0.516398   \n",
       "18549                    6.0              1.333333             0.516398   \n",
       "18550                    2.0              3.000000             0.000000   \n",
       "18551                    2.0              3.500000             3.535534   \n",
       "18552                    2.0             24.000000             1.414214   \n",
       "\n",
       "       log_feature_vol_min  log_feature_vol_25%  log_feature_vol_50%  \\\n",
       "id                                                                     \n",
       "1                      1.0                 1.50                  2.0   \n",
       "2                      1.0                 1.00                  1.0   \n",
       "3                      2.0                 2.00                  2.0   \n",
       "4                      3.0                 3.00                  3.0   \n",
       "5                      6.0                 7.25                  8.5   \n",
       "18548                  3.0                 3.25                  4.0   \n",
       "18549                  1.0                 1.00                  1.0   \n",
       "18550                  3.0                 3.00                  3.0   \n",
       "18551                  1.0                 2.25                  3.5   \n",
       "18552                 23.0                23.50                 24.0   \n",
       "\n",
       "       log_feature_vol_75%  log_feature_vol_max  \n",
       "id                                               \n",
       "1                     2.00                  2.0  \n",
       "2                     1.00                  1.0  \n",
       "3                     2.00                  2.0  \n",
       "4                     3.00                  3.0  \n",
       "5                     9.75                 11.0  \n",
       "18548                 4.00                  4.0  \n",
       "18549                 1.75                  2.0  \n",
       "18550                 3.00                  3.0  \n",
       "18551                 4.75                  6.0  \n",
       "18552                24.50                 25.0  "
      ]
     },
     "execution_count": 52,
     "metadata": {},
     "output_type": "execute_result"
    }
   ],
   "source": [
    "check_inicio_final(feature_vol_stats)"
   ]
  },
  {
   "cell_type": "markdown",
   "metadata": {},
   "source": [
    "+ Estadisticos de $Ln(1+volumne)$"
   ]
  },
  {
   "cell_type": "code",
   "execution_count": 53,
   "metadata": {},
   "outputs": [],
   "source": [
    "feature_log_vol_stats = log_feature.groupby('id').log_volume.describe()"
   ]
  },
  {
   "cell_type": "code",
   "execution_count": 54,
   "metadata": {},
   "outputs": [],
   "source": [
    "feature_log_vol_stats.columns = ['log_feature_logvol_count', 'log_feature_logvol_mean', \n",
    "                                 'log_feature_logvol_std', 'log_feature_logvol_min', 'log_feature_logvol_25%', \n",
    "                                 'log_feature_logvol_50%', 'log_feature_logvol_75%', 'log_feature_logvol_max']"
   ]
  },
  {
   "cell_type": "code",
   "execution_count": 56,
   "metadata": {},
   "outputs": [
    {
     "data": {
      "text/html": [
       "<div>\n",
       "<style scoped>\n",
       "    .dataframe tbody tr th:only-of-type {\n",
       "        vertical-align: middle;\n",
       "    }\n",
       "\n",
       "    .dataframe tbody tr th {\n",
       "        vertical-align: top;\n",
       "    }\n",
       "\n",
       "    .dataframe thead th {\n",
       "        text-align: right;\n",
       "    }\n",
       "</style>\n",
       "<table border=\"1\" class=\"dataframe\">\n",
       "  <thead>\n",
       "    <tr style=\"text-align: right;\">\n",
       "      <th></th>\n",
       "      <th>log_feature_logvol_count</th>\n",
       "      <th>log_feature_logvol_mean</th>\n",
       "      <th>log_feature_logvol_std</th>\n",
       "      <th>log_feature_logvol_min</th>\n",
       "      <th>log_feature_logvol_25%</th>\n",
       "      <th>log_feature_logvol_50%</th>\n",
       "      <th>log_feature_logvol_75%</th>\n",
       "      <th>log_feature_logvol_max</th>\n",
       "    </tr>\n",
       "    <tr>\n",
       "      <th>id</th>\n",
       "      <th></th>\n",
       "      <th></th>\n",
       "      <th></th>\n",
       "      <th></th>\n",
       "      <th></th>\n",
       "      <th></th>\n",
       "      <th></th>\n",
       "      <th></th>\n",
       "    </tr>\n",
       "  </thead>\n",
       "  <tbody>\n",
       "    <tr>\n",
       "      <th>1</th>\n",
       "      <td>3.0</td>\n",
       "      <td>1.462098</td>\n",
       "      <td>0.400189</td>\n",
       "      <td>1.000000</td>\n",
       "      <td>1.346574</td>\n",
       "      <td>1.693147</td>\n",
       "      <td>1.693147</td>\n",
       "      <td>1.693147</td>\n",
       "    </tr>\n",
       "    <tr>\n",
       "      <th>2</th>\n",
       "      <td>5.0</td>\n",
       "      <td>1.000000</td>\n",
       "      <td>0.000000</td>\n",
       "      <td>1.000000</td>\n",
       "      <td>1.000000</td>\n",
       "      <td>1.000000</td>\n",
       "      <td>1.000000</td>\n",
       "      <td>1.000000</td>\n",
       "    </tr>\n",
       "    <tr>\n",
       "      <th>3</th>\n",
       "      <td>1.0</td>\n",
       "      <td>1.693147</td>\n",
       "      <td>NaN</td>\n",
       "      <td>1.693147</td>\n",
       "      <td>1.693147</td>\n",
       "      <td>1.693147</td>\n",
       "      <td>1.693147</td>\n",
       "      <td>1.693147</td>\n",
       "    </tr>\n",
       "    <tr>\n",
       "      <th>4</th>\n",
       "      <td>1.0</td>\n",
       "      <td>2.098612</td>\n",
       "      <td>NaN</td>\n",
       "      <td>2.098612</td>\n",
       "      <td>2.098612</td>\n",
       "      <td>2.098612</td>\n",
       "      <td>2.098612</td>\n",
       "      <td>2.098612</td>\n",
       "    </tr>\n",
       "    <tr>\n",
       "      <th>5</th>\n",
       "      <td>2.0</td>\n",
       "      <td>3.094827</td>\n",
       "      <td>0.428603</td>\n",
       "      <td>2.791759</td>\n",
       "      <td>2.943293</td>\n",
       "      <td>3.094827</td>\n",
       "      <td>3.246361</td>\n",
       "      <td>3.397895</td>\n",
       "    </tr>\n",
       "    <tr>\n",
       "      <th>18548</th>\n",
       "      <td>6.0</td>\n",
       "      <td>2.290400</td>\n",
       "      <td>0.148558</td>\n",
       "      <td>2.098612</td>\n",
       "      <td>2.170533</td>\n",
       "      <td>2.386294</td>\n",
       "      <td>2.386294</td>\n",
       "      <td>2.386294</td>\n",
       "    </tr>\n",
       "    <tr>\n",
       "      <th>18549</th>\n",
       "      <td>6.0</td>\n",
       "      <td>1.231049</td>\n",
       "      <td>0.357940</td>\n",
       "      <td>1.000000</td>\n",
       "      <td>1.000000</td>\n",
       "      <td>1.000000</td>\n",
       "      <td>1.519860</td>\n",
       "      <td>1.693147</td>\n",
       "    </tr>\n",
       "    <tr>\n",
       "      <th>18550</th>\n",
       "      <td>2.0</td>\n",
       "      <td>2.098612</td>\n",
       "      <td>0.000000</td>\n",
       "      <td>2.098612</td>\n",
       "      <td>2.098612</td>\n",
       "      <td>2.098612</td>\n",
       "      <td>2.098612</td>\n",
       "      <td>2.098612</td>\n",
       "    </tr>\n",
       "    <tr>\n",
       "      <th>18551</th>\n",
       "      <td>2.0</td>\n",
       "      <td>1.895880</td>\n",
       "      <td>1.266965</td>\n",
       "      <td>1.000000</td>\n",
       "      <td>1.447940</td>\n",
       "      <td>1.895880</td>\n",
       "      <td>2.343820</td>\n",
       "      <td>2.791759</td>\n",
       "    </tr>\n",
       "    <tr>\n",
       "      <th>18552</th>\n",
       "      <td>2.0</td>\n",
       "      <td>4.177185</td>\n",
       "      <td>0.058960</td>\n",
       "      <td>4.135494</td>\n",
       "      <td>4.156340</td>\n",
       "      <td>4.177185</td>\n",
       "      <td>4.198030</td>\n",
       "      <td>4.218876</td>\n",
       "    </tr>\n",
       "  </tbody>\n",
       "</table>\n",
       "</div>"
      ],
      "text/plain": [
       "       log_feature_logvol_count  log_feature_logvol_mean  \\\n",
       "id                                                         \n",
       "1                           3.0                 1.462098   \n",
       "2                           5.0                 1.000000   \n",
       "3                           1.0                 1.693147   \n",
       "4                           1.0                 2.098612   \n",
       "5                           2.0                 3.094827   \n",
       "18548                       6.0                 2.290400   \n",
       "18549                       6.0                 1.231049   \n",
       "18550                       2.0                 2.098612   \n",
       "18551                       2.0                 1.895880   \n",
       "18552                       2.0                 4.177185   \n",
       "\n",
       "       log_feature_logvol_std  log_feature_logvol_min  log_feature_logvol_25%  \\\n",
       "id                                                                              \n",
       "1                    0.400189                1.000000                1.346574   \n",
       "2                    0.000000                1.000000                1.000000   \n",
       "3                         NaN                1.693147                1.693147   \n",
       "4                         NaN                2.098612                2.098612   \n",
       "5                    0.428603                2.791759                2.943293   \n",
       "18548                0.148558                2.098612                2.170533   \n",
       "18549                0.357940                1.000000                1.000000   \n",
       "18550                0.000000                2.098612                2.098612   \n",
       "18551                1.266965                1.000000                1.447940   \n",
       "18552                0.058960                4.135494                4.156340   \n",
       "\n",
       "       log_feature_logvol_50%  log_feature_logvol_75%  log_feature_logvol_max  \n",
       "id                                                                             \n",
       "1                    1.693147                1.693147                1.693147  \n",
       "2                    1.000000                1.000000                1.000000  \n",
       "3                    1.693147                1.693147                1.693147  \n",
       "4                    2.098612                2.098612                2.098612  \n",
       "5                    3.094827                3.246361                3.397895  \n",
       "18548                2.386294                2.386294                2.386294  \n",
       "18549                1.000000                1.519860                1.693147  \n",
       "18550                2.098612                2.098612                2.098612  \n",
       "18551                1.895880                2.343820                2.791759  \n",
       "18552                4.177185                4.198030                4.218876  "
      ]
     },
     "execution_count": 56,
     "metadata": {},
     "output_type": "execute_result"
    }
   ],
   "source": [
    "check_inicio_final(feature_log_vol_stats)"
   ]
  },
  {
   "cell_type": "code",
   "execution_count": 123,
   "metadata": {},
   "outputs": [
    {
     "data": {
      "text/plain": [
       "0.13460916442048518"
      ]
     },
     "execution_count": 123,
     "metadata": {},
     "output_type": "execute_result"
    }
   ],
   "source": []
  },
  {
   "cell_type": "markdown",
   "metadata": {},
   "source": [
    "# Hora de unir las tablas y analizar si hay patrones entre las nuevas variables\n",
    "\n",
    "Merge dummies event type y train = df"
   ]
  },
  {
   "cell_type": "code",
   "execution_count": 95,
   "metadata": {},
   "outputs": [],
   "source": [
    "df = None #por si la riegas regresas aqui"
   ]
  },
  {
   "cell_type": "code",
   "execution_count": 96,
   "metadata": {},
   "outputs": [],
   "source": [
    "df = train.merge(event_type_dummies, on='id', how='left')"
   ]
  },
  {
   "cell_type": "code",
   "execution_count": 97,
   "metadata": {},
   "outputs": [
    {
     "name": "stdout",
     "output_type": "stream",
     "text": [
      "7381\n"
     ]
    },
    {
     "data": {
      "text/plain": [
       "7381"
      ]
     },
     "execution_count": 97,
     "metadata": {},
     "output_type": "execute_result"
    }
   ],
   "source": [
    "print(len(train))\n",
    "len(df)"
   ]
  },
  {
   "cell_type": "code",
   "execution_count": 98,
   "metadata": {},
   "outputs": [
    {
     "data": {
      "text/html": [
       "<div>\n",
       "<style scoped>\n",
       "    .dataframe tbody tr th:only-of-type {\n",
       "        vertical-align: middle;\n",
       "    }\n",
       "\n",
       "    .dataframe tbody tr th {\n",
       "        vertical-align: top;\n",
       "    }\n",
       "\n",
       "    .dataframe thead th {\n",
       "        text-align: right;\n",
       "    }\n",
       "</style>\n",
       "<table border=\"1\" class=\"dataframe\">\n",
       "  <thead>\n",
       "    <tr style=\"text-align: right;\">\n",
       "      <th></th>\n",
       "      <th>id</th>\n",
       "      <th>location</th>\n",
       "      <th>fault_severity</th>\n",
       "      <th>location_numeric</th>\n",
       "      <th>event_type_grouped_event_type 10</th>\n",
       "      <th>event_type_grouped_event_type 11</th>\n",
       "      <th>event_type_grouped_event_type 13</th>\n",
       "      <th>event_type_grouped_event_type 14</th>\n",
       "      <th>event_type_grouped_event_type 15</th>\n",
       "      <th>event_type_grouped_event_type 18</th>\n",
       "      <th>...</th>\n",
       "      <th>event_type_grouped_event_type 32</th>\n",
       "      <th>event_type_grouped_event_type 34</th>\n",
       "      <th>event_type_grouped_event_type 35</th>\n",
       "      <th>event_type_grouped_event_type 42</th>\n",
       "      <th>event_type_grouped_event_type 43</th>\n",
       "      <th>event_type_grouped_event_type 44</th>\n",
       "      <th>event_type_grouped_event_type 47</th>\n",
       "      <th>event_type_grouped_event_type 50</th>\n",
       "      <th>event_type_grouped_event_type 54</th>\n",
       "      <th>event_type_grouped_others</th>\n",
       "    </tr>\n",
       "  </thead>\n",
       "  <tbody>\n",
       "    <tr>\n",
       "      <th>0</th>\n",
       "      <td>14121</td>\n",
       "      <td>location 118</td>\n",
       "      <td>1</td>\n",
       "      <td>118</td>\n",
       "      <td>0</td>\n",
       "      <td>0</td>\n",
       "      <td>0</td>\n",
       "      <td>0</td>\n",
       "      <td>0</td>\n",
       "      <td>0</td>\n",
       "      <td>...</td>\n",
       "      <td>0</td>\n",
       "      <td>1</td>\n",
       "      <td>1</td>\n",
       "      <td>0</td>\n",
       "      <td>0</td>\n",
       "      <td>0</td>\n",
       "      <td>0</td>\n",
       "      <td>0</td>\n",
       "      <td>0</td>\n",
       "      <td>0</td>\n",
       "    </tr>\n",
       "    <tr>\n",
       "      <th>1</th>\n",
       "      <td>9320</td>\n",
       "      <td>location 91</td>\n",
       "      <td>0</td>\n",
       "      <td>91</td>\n",
       "      <td>0</td>\n",
       "      <td>0</td>\n",
       "      <td>0</td>\n",
       "      <td>0</td>\n",
       "      <td>0</td>\n",
       "      <td>0</td>\n",
       "      <td>...</td>\n",
       "      <td>0</td>\n",
       "      <td>1</td>\n",
       "      <td>1</td>\n",
       "      <td>0</td>\n",
       "      <td>0</td>\n",
       "      <td>0</td>\n",
       "      <td>0</td>\n",
       "      <td>0</td>\n",
       "      <td>0</td>\n",
       "      <td>0</td>\n",
       "    </tr>\n",
       "  </tbody>\n",
       "</table>\n",
       "<p>2 rows × 25 columns</p>\n",
       "</div>"
      ],
      "text/plain": [
       "      id      location  fault_severity  location_numeric  \\\n",
       "0  14121  location 118               1               118   \n",
       "1   9320   location 91               0                91   \n",
       "\n",
       "   event_type_grouped_event_type 10  event_type_grouped_event_type 11  \\\n",
       "0                                 0                                 0   \n",
       "1                                 0                                 0   \n",
       "\n",
       "   event_type_grouped_event_type 13  event_type_grouped_event_type 14  \\\n",
       "0                                 0                                 0   \n",
       "1                                 0                                 0   \n",
       "\n",
       "   event_type_grouped_event_type 15  event_type_grouped_event_type 18  \\\n",
       "0                                 0                                 0   \n",
       "1                                 0                                 0   \n",
       "\n",
       "             ...              event_type_grouped_event_type 32  \\\n",
       "0            ...                                             0   \n",
       "1            ...                                             0   \n",
       "\n",
       "   event_type_grouped_event_type 34  event_type_grouped_event_type 35  \\\n",
       "0                                 1                                 1   \n",
       "1                                 1                                 1   \n",
       "\n",
       "   event_type_grouped_event_type 42  event_type_grouped_event_type 43  \\\n",
       "0                                 0                                 0   \n",
       "1                                 0                                 0   \n",
       "\n",
       "   event_type_grouped_event_type 44  event_type_grouped_event_type 47  \\\n",
       "0                                 0                                 0   \n",
       "1                                 0                                 0   \n",
       "\n",
       "   event_type_grouped_event_type 50  event_type_grouped_event_type 54  \\\n",
       "0                                 0                                 0   \n",
       "1                                 0                                 0   \n",
       "\n",
       "   event_type_grouped_others  \n",
       "0                          0  \n",
       "1                          0  \n",
       "\n",
       "[2 rows x 25 columns]"
      ]
     },
     "execution_count": 98,
     "metadata": {},
     "output_type": "execute_result"
    }
   ],
   "source": [
    "df.head(2)"
   ]
  },
  {
   "cell_type": "markdown",
   "metadata": {},
   "source": [
    "Merge numero de event type y df = df"
   ]
  },
  {
   "cell_type": "code",
   "execution_count": 99,
   "metadata": {},
   "outputs": [],
   "source": [
    "df = df.merge(event_type_count, on='id', how='left')"
   ]
  },
  {
   "cell_type": "code",
   "execution_count": 100,
   "metadata": {},
   "outputs": [
    {
     "name": "stdout",
     "output_type": "stream",
     "text": [
      "7381\n"
     ]
    },
    {
     "data": {
      "text/plain": [
       "7381"
      ]
     },
     "execution_count": 100,
     "metadata": {},
     "output_type": "execute_result"
    }
   ],
   "source": [
    "print(len(train))\n",
    "len(df)"
   ]
  },
  {
   "cell_type": "markdown",
   "metadata": {},
   "source": [
    "Merge resource_type_dummies con df = df"
   ]
  },
  {
   "cell_type": "code",
   "execution_count": 101,
   "metadata": {},
   "outputs": [],
   "source": [
    "df = df.merge(resource_type_dummies, on='id', how='left')"
   ]
  },
  {
   "cell_type": "code",
   "execution_count": 102,
   "metadata": {},
   "outputs": [
    {
     "name": "stdout",
     "output_type": "stream",
     "text": [
      "7381\n"
     ]
    },
    {
     "data": {
      "text/plain": [
       "7381"
      ]
     },
     "execution_count": 102,
     "metadata": {},
     "output_type": "execute_result"
    }
   ],
   "source": [
    "print(len(train))\n",
    "len(df)"
   ]
  },
  {
   "cell_type": "markdown",
   "metadata": {},
   "source": [
    "Merge resource_type_count con df = df"
   ]
  },
  {
   "cell_type": "code",
   "execution_count": 103,
   "metadata": {},
   "outputs": [],
   "source": [
    "df = df.merge(resource_type_count, on='id', how='left')"
   ]
  },
  {
   "cell_type": "code",
   "execution_count": 104,
   "metadata": {},
   "outputs": [
    {
     "name": "stdout",
     "output_type": "stream",
     "text": [
      "7381\n"
     ]
    },
    {
     "data": {
      "text/plain": [
       "7381"
      ]
     },
     "execution_count": 104,
     "metadata": {},
     "output_type": "execute_result"
    }
   ],
   "source": [
    "print(len(train))\n",
    "len(df)"
   ]
  },
  {
   "cell_type": "markdown",
   "metadata": {},
   "source": [
    "Merge severery type ordinal con df = df"
   ]
  },
  {
   "cell_type": "code",
   "execution_count": 105,
   "metadata": {},
   "outputs": [
    {
     "data": {
      "text/html": [
       "<div>\n",
       "<style scoped>\n",
       "    .dataframe tbody tr th:only-of-type {\n",
       "        vertical-align: middle;\n",
       "    }\n",
       "\n",
       "    .dataframe tbody tr th {\n",
       "        vertical-align: top;\n",
       "    }\n",
       "\n",
       "    .dataframe thead th {\n",
       "        text-align: right;\n",
       "    }\n",
       "</style>\n",
       "<table border=\"1\" class=\"dataframe\">\n",
       "  <thead>\n",
       "    <tr style=\"text-align: right;\">\n",
       "      <th></th>\n",
       "      <th>id</th>\n",
       "      <th>severity_type</th>\n",
       "      <th>severety_type_ordinal</th>\n",
       "    </tr>\n",
       "  </thead>\n",
       "  <tbody>\n",
       "    <tr>\n",
       "      <th>0</th>\n",
       "      <td>6597</td>\n",
       "      <td>severity_type 2</td>\n",
       "      <td>2</td>\n",
       "    </tr>\n",
       "    <tr>\n",
       "      <th>1</th>\n",
       "      <td>8011</td>\n",
       "      <td>severity_type 2</td>\n",
       "      <td>2</td>\n",
       "    </tr>\n",
       "    <tr>\n",
       "      <th>2</th>\n",
       "      <td>2597</td>\n",
       "      <td>severity_type 2</td>\n",
       "      <td>2</td>\n",
       "    </tr>\n",
       "    <tr>\n",
       "      <th>3</th>\n",
       "      <td>5022</td>\n",
       "      <td>severity_type 1</td>\n",
       "      <td>1</td>\n",
       "    </tr>\n",
       "    <tr>\n",
       "      <th>4</th>\n",
       "      <td>6852</td>\n",
       "      <td>severity_type 1</td>\n",
       "      <td>1</td>\n",
       "    </tr>\n",
       "  </tbody>\n",
       "</table>\n",
       "</div>"
      ],
      "text/plain": [
       "     id    severity_type  severety_type_ordinal\n",
       "0  6597  severity_type 2                      2\n",
       "1  8011  severity_type 2                      2\n",
       "2  2597  severity_type 2                      2\n",
       "3  5022  severity_type 1                      1\n",
       "4  6852  severity_type 1                      1"
      ]
     },
     "execution_count": 105,
     "metadata": {},
     "output_type": "execute_result"
    }
   ],
   "source": [
    "severity_type.head()"
   ]
  },
  {
   "cell_type": "code",
   "execution_count": 106,
   "metadata": {},
   "outputs": [],
   "source": [
    "df = df.merge(severity_type[['id', 'severety_type_ordinal']], on='id', how='left')"
   ]
  },
  {
   "cell_type": "code",
   "execution_count": 107,
   "metadata": {},
   "outputs": [
    {
     "name": "stdout",
     "output_type": "stream",
     "text": [
      "7381\n"
     ]
    },
    {
     "data": {
      "text/plain": [
       "7381"
      ]
     },
     "execution_count": 107,
     "metadata": {},
     "output_type": "execute_result"
    }
   ],
   "source": [
    "print(len(train))\n",
    "len(df)"
   ]
  },
  {
   "cell_type": "markdown",
   "metadata": {},
   "source": [
    "Merge log_feature_dummies con df = df"
   ]
  },
  {
   "cell_type": "code",
   "execution_count": 108,
   "metadata": {},
   "outputs": [],
   "source": [
    "df = df.merge(log_feature_dummi, on='id', how='left')"
   ]
  },
  {
   "cell_type": "code",
   "execution_count": 109,
   "metadata": {},
   "outputs": [
    {
     "name": "stdout",
     "output_type": "stream",
     "text": [
      "7381\n"
     ]
    },
    {
     "data": {
      "text/plain": [
       "7381"
      ]
     },
     "execution_count": 109,
     "metadata": {},
     "output_type": "execute_result"
    }
   ],
   "source": [
    "print(len(train))\n",
    "len(df)"
   ]
  },
  {
   "cell_type": "markdown",
   "metadata": {},
   "source": [
    "Merge log_feature_type_count con df = df"
   ]
  },
  {
   "cell_type": "code",
   "execution_count": 112,
   "metadata": {},
   "outputs": [],
   "source": [
    "df = df.merge(log_feature_type_count, on='id', how='left')"
   ]
  },
  {
   "cell_type": "code",
   "execution_count": 114,
   "metadata": {},
   "outputs": [],
   "source": [
    "df = df.merge(feature_log_vol_stats, on='id', how='left')"
   ]
  },
  {
   "cell_type": "code",
   "execution_count": 117,
   "metadata": {},
   "outputs": [
    {
     "name": "stdout",
     "output_type": "stream",
     "text": [
      "<class 'pandas.core.frame.DataFrame'>\n",
      "Int64Index: 7381 entries, 0 to 7380\n",
      "Data columns (total 73 columns):\n",
      "id                                  7381 non-null int64\n",
      "location                            7381 non-null object\n",
      "fault_severity                      7381 non-null int64\n",
      "location_numeric                    7381 non-null int64\n",
      "event_type_grouped_event_type 10    7381 non-null uint8\n",
      "event_type_grouped_event_type 11    7381 non-null uint8\n",
      "event_type_grouped_event_type 13    7381 non-null uint8\n",
      "event_type_grouped_event_type 14    7381 non-null uint8\n",
      "event_type_grouped_event_type 15    7381 non-null uint8\n",
      "event_type_grouped_event_type 18    7381 non-null uint8\n",
      "event_type_grouped_event_type 20    7381 non-null uint8\n",
      "event_type_grouped_event_type 21    7381 non-null uint8\n",
      "event_type_grouped_event_type 22    7381 non-null uint8\n",
      "event_type_grouped_event_type 23    7381 non-null uint8\n",
      "event_type_grouped_event_type 26    7381 non-null uint8\n",
      "event_type_grouped_event_type 32    7381 non-null uint8\n",
      "event_type_grouped_event_type 34    7381 non-null uint8\n",
      "event_type_grouped_event_type 35    7381 non-null uint8\n",
      "event_type_grouped_event_type 42    7381 non-null uint8\n",
      "event_type_grouped_event_type 43    7381 non-null uint8\n",
      "event_type_grouped_event_type 44    7381 non-null uint8\n",
      "event_type_grouped_event_type 47    7381 non-null uint8\n",
      "event_type_grouped_event_type 50    7381 non-null uint8\n",
      "event_type_grouped_event_type 54    7381 non-null uint8\n",
      "event_type_grouped_others           7381 non-null uint8\n",
      "number_of_event_types               7381 non-null int64\n",
      "resource_type_resource_type 1       7381 non-null uint8\n",
      "resource_type_resource_type 10      7381 non-null uint8\n",
      "resource_type_resource_type 2       7381 non-null uint8\n",
      "resource_type_resource_type 3       7381 non-null uint8\n",
      "resource_type_resource_type 4       7381 non-null uint8\n",
      "resource_type_resource_type 5       7381 non-null uint8\n",
      "resource_type_resource_type 6       7381 non-null uint8\n",
      "resource_type_resource_type 7       7381 non-null uint8\n",
      "resource_type_resource_type 8       7381 non-null uint8\n",
      "resource_type_resource_type 9       7381 non-null uint8\n",
      "number_of_resource_type             7381 non-null int64\n",
      "severety_type_ordinal               7381 non-null int64\n",
      "log_features_grouped_feature 134    7380 non-null float64\n",
      "log_features_grouped_feature 170    7380 non-null float64\n",
      "log_features_grouped_feature 193    7380 non-null float64\n",
      "log_features_grouped_feature 195    7380 non-null float64\n",
      "log_features_grouped_feature 201    7380 non-null float64\n",
      "log_features_grouped_feature 203    7380 non-null float64\n",
      "log_features_grouped_feature 219    7380 non-null float64\n",
      "log_features_grouped_feature 227    7380 non-null float64\n",
      "log_features_grouped_feature 232    7380 non-null float64\n",
      "log_features_grouped_feature 233    7380 non-null float64\n",
      "log_features_grouped_feature 234    7380 non-null float64\n",
      "log_features_grouped_feature 235    7380 non-null float64\n",
      "log_features_grouped_feature 301    7380 non-null float64\n",
      "log_features_grouped_feature 307    7380 non-null float64\n",
      "log_features_grouped_feature 309    7380 non-null float64\n",
      "log_features_grouped_feature 312    7380 non-null float64\n",
      "log_features_grouped_feature 313    7380 non-null float64\n",
      "log_features_grouped_feature 314    7380 non-null float64\n",
      "log_features_grouped_feature 315    7380 non-null float64\n",
      "log_features_grouped_feature 54     7380 non-null float64\n",
      "log_features_grouped_feature 68     7380 non-null float64\n",
      "log_features_grouped_feature 71     7380 non-null float64\n",
      "log_features_grouped_feature 73     7380 non-null float64\n",
      "log_features_grouped_feature 80     7380 non-null float64\n",
      "log_features_grouped_feature 82     7380 non-null float64\n",
      "log_features_grouped_others         7380 non-null float64\n",
      "number_of_log_feature               7380 non-null float64\n",
      "log_feature_logvol_count            7380 non-null float64\n",
      "log_feature_logvol_mean             7380 non-null float64\n",
      "log_feature_logvol_std              6392 non-null float64\n",
      "log_feature_logvol_min              7380 non-null float64\n",
      "log_feature_logvol_25%              7380 non-null float64\n",
      "log_feature_logvol_50%              7380 non-null float64\n",
      "log_feature_logvol_75%              7380 non-null float64\n",
      "log_feature_logvol_max              7380 non-null float64\n",
      "dtypes: float64(35), int64(6), object(1), uint8(31)\n",
      "memory usage: 2.6+ MB\n"
     ]
    }
   ],
   "source": [
    "df.info()"
   ]
  },
  {
   "cell_type": "code",
   "execution_count": 119,
   "metadata": {},
   "outputs": [
    {
     "data": {
      "text/plain": [
       "71"
      ]
     },
     "execution_count": 119,
     "metadata": {},
     "output_type": "execute_result"
    }
   ],
   "source": [
    "# numero de variables \n",
    "len(df.columns) - 2 "
   ]
  },
  {
   "cell_type": "markdown",
   "metadata": {},
   "source": [
    "check si pegaron bien, parace que si"
   ]
  },
  {
   "cell_type": "code",
   "execution_count": 132,
   "metadata": {},
   "outputs": [
    {
     "data": {
      "text/plain": [
       "log_feature_logvol_count    2.000000\n",
       "log_feature_logvol_mean     1.895880\n",
       "log_feature_logvol_std      0.286707\n",
       "log_feature_logvol_min      1.693147\n",
       "log_feature_logvol_25%      1.794513\n",
       "log_feature_logvol_50%      1.895880\n",
       "log_feature_logvol_75%      1.997246\n",
       "log_feature_logvol_max      2.098612\n",
       "Name: 409, dtype: float64"
      ]
     },
     "execution_count": 132,
     "metadata": {},
     "output_type": "execute_result"
    }
   ],
   "source": [
    "feature_log_vol_stats.loc[409]"
   ]
  },
  {
   "cell_type": "code",
   "execution_count": 133,
   "metadata": {},
   "outputs": [
    {
     "data": {
      "text/html": [
       "<div>\n",
       "<style scoped>\n",
       "    .dataframe tbody tr th:only-of-type {\n",
       "        vertical-align: middle;\n",
       "    }\n",
       "\n",
       "    .dataframe tbody tr th {\n",
       "        vertical-align: top;\n",
       "    }\n",
       "\n",
       "    .dataframe thead th {\n",
       "        text-align: right;\n",
       "    }\n",
       "</style>\n",
       "<table border=\"1\" class=\"dataframe\">\n",
       "  <thead>\n",
       "    <tr style=\"text-align: right;\">\n",
       "      <th></th>\n",
       "      <th>id</th>\n",
       "      <th>location</th>\n",
       "      <th>fault_severity</th>\n",
       "      <th>location_numeric</th>\n",
       "      <th>event_type_grouped_event_type_10</th>\n",
       "      <th>event_type_grouped_event_type_11</th>\n",
       "      <th>event_type_grouped_event_type_13</th>\n",
       "      <th>event_type_grouped_event_type_14</th>\n",
       "      <th>event_type_grouped_event_type_15</th>\n",
       "      <th>event_type_grouped_event_type_18</th>\n",
       "      <th>...</th>\n",
       "      <th>log_features_grouped_others</th>\n",
       "      <th>number_of_log_feature</th>\n",
       "      <th>log_feature_logvol_count</th>\n",
       "      <th>log_feature_logvol_mean</th>\n",
       "      <th>log_feature_logvol_std</th>\n",
       "      <th>log_feature_logvol_min</th>\n",
       "      <th>log_feature_logvol_25%</th>\n",
       "      <th>log_feature_logvol_50%</th>\n",
       "      <th>log_feature_logvol_75%</th>\n",
       "      <th>log_feature_logvol_max</th>\n",
       "    </tr>\n",
       "  </thead>\n",
       "  <tbody>\n",
       "    <tr>\n",
       "      <th>5550</th>\n",
       "      <td>409</td>\n",
       "      <td>location 808</td>\n",
       "      <td>0</td>\n",
       "      <td>808</td>\n",
       "      <td>0</td>\n",
       "      <td>1</td>\n",
       "      <td>0</td>\n",
       "      <td>0</td>\n",
       "      <td>1</td>\n",
       "      <td>0</td>\n",
       "      <td>...</td>\n",
       "      <td>0.0</td>\n",
       "      <td>2.0</td>\n",
       "      <td>2.0</td>\n",
       "      <td>1.89588</td>\n",
       "      <td>0.286707</td>\n",
       "      <td>1.693147</td>\n",
       "      <td>1.794513</td>\n",
       "      <td>1.89588</td>\n",
       "      <td>1.997246</td>\n",
       "      <td>2.098612</td>\n",
       "    </tr>\n",
       "  </tbody>\n",
       "</table>\n",
       "<p>1 rows × 73 columns</p>\n",
       "</div>"
      ],
      "text/plain": [
       "       id      location  fault_severity  location_numeric  \\\n",
       "5550  409  location 808               0               808   \n",
       "\n",
       "      event_type_grouped_event_type_10  event_type_grouped_event_type_11  \\\n",
       "5550                                 0                                 1   \n",
       "\n",
       "      event_type_grouped_event_type_13  event_type_grouped_event_type_14  \\\n",
       "5550                                 0                                 0   \n",
       "\n",
       "      event_type_grouped_event_type_15  event_type_grouped_event_type_18  \\\n",
       "5550                                 1                                 0   \n",
       "\n",
       "               ...            log_features_grouped_others  \\\n",
       "5550           ...                                    0.0   \n",
       "\n",
       "      number_of_log_feature  log_feature_logvol_count  \\\n",
       "5550                    2.0                       2.0   \n",
       "\n",
       "      log_feature_logvol_mean  log_feature_logvol_std  log_feature_logvol_min  \\\n",
       "5550                  1.89588                0.286707                1.693147   \n",
       "\n",
       "      log_feature_logvol_25%  log_feature_logvol_50%  log_feature_logvol_75%  \\\n",
       "5550                1.794513                 1.89588                1.997246   \n",
       "\n",
       "      log_feature_logvol_max  \n",
       "5550                2.098612  \n",
       "\n",
       "[1 rows x 73 columns]"
      ]
     },
     "execution_count": 133,
     "metadata": {},
     "output_type": "execute_result"
    }
   ],
   "source": [
    "df[df.id == 409]"
   ]
  },
  {
   "cell_type": "markdown",
   "metadata": {},
   "source": [
    "check de nulos"
   ]
  },
  {
   "cell_type": "code",
   "execution_count": 152,
   "metadata": {},
   "outputs": [
    {
     "data": {
      "text/plain": [
       "13.399268391816832"
      ]
     },
     "execution_count": 152,
     "metadata": {},
     "output_type": "execute_result"
    }
   ],
   "source": [
    "(1 - len(df.dropna()) / len(df))*100"
   ]
  },
  {
   "cell_type": "markdown",
   "metadata": {},
   "source": [
    "El 13% de las columnas tiene nulos. se checara cuales registros se quitan y cuales se dejan y se rellenan"
   ]
  },
  {
   "cell_type": "code",
   "execution_count": 154,
   "metadata": {},
   "outputs": [
    {
     "data": {
      "text/plain": [
       "log_features_grouped_feature_134      1\n",
       "log_features_grouped_feature_170      1\n",
       "log_features_grouped_feature_193      1\n",
       "log_features_grouped_feature_195      1\n",
       "log_features_grouped_feature_201      1\n",
       "log_features_grouped_feature_203      1\n",
       "log_features_grouped_feature_219      1\n",
       "log_features_grouped_feature_227      1\n",
       "log_features_grouped_feature_232      1\n",
       "log_features_grouped_feature_233      1\n",
       "log_features_grouped_feature_234      1\n",
       "log_features_grouped_feature_235      1\n",
       "log_features_grouped_feature_301      1\n",
       "log_features_grouped_feature_307      1\n",
       "log_features_grouped_feature_309      1\n",
       "log_features_grouped_feature_312      1\n",
       "log_features_grouped_feature_313      1\n",
       "log_features_grouped_feature_314      1\n",
       "log_features_grouped_feature_315      1\n",
       "log_features_grouped_feature_54       1\n",
       "log_features_grouped_feature_68       1\n",
       "log_features_grouped_feature_71       1\n",
       "log_features_grouped_feature_73       1\n",
       "log_features_grouped_feature_80       1\n",
       "log_features_grouped_feature_82       1\n",
       "log_features_grouped_others           1\n",
       "number_of_log_feature                 1\n",
       "log_feature_logvol_count              1\n",
       "log_feature_logvol_mean               1\n",
       "log_feature_logvol_std              989\n",
       "log_feature_logvol_min                1\n",
       "log_feature_logvol_25%                1\n",
       "log_feature_logvol_50%                1\n",
       "log_feature_logvol_75%                1\n",
       "log_feature_logvol_max                1\n",
       "dtype: int64"
      ]
     },
     "execution_count": 154,
     "metadata": {},
     "output_type": "execute_result"
    }
   ],
   "source": [
    "nul = df.isnull().sum()\n",
    "nul[nul !=0 ]"
   ]
  },
  {
   "cell_type": "code",
   "execution_count": 157,
   "metadata": {},
   "outputs": [
    {
     "data": {
      "text/html": [
       "<div>\n",
       "<style scoped>\n",
       "    .dataframe tbody tr th:only-of-type {\n",
       "        vertical-align: middle;\n",
       "    }\n",
       "\n",
       "    .dataframe tbody tr th {\n",
       "        vertical-align: top;\n",
       "    }\n",
       "\n",
       "    .dataframe thead th {\n",
       "        text-align: right;\n",
       "    }\n",
       "</style>\n",
       "<table border=\"1\" class=\"dataframe\">\n",
       "  <thead>\n",
       "    <tr style=\"text-align: right;\">\n",
       "      <th></th>\n",
       "      <th>id</th>\n",
       "      <th>location</th>\n",
       "      <th>fault_severity</th>\n",
       "      <th>location_numeric</th>\n",
       "      <th>event_type_grouped_event_type_10</th>\n",
       "      <th>event_type_grouped_event_type_11</th>\n",
       "      <th>event_type_grouped_event_type_13</th>\n",
       "      <th>event_type_grouped_event_type_14</th>\n",
       "      <th>event_type_grouped_event_type_15</th>\n",
       "      <th>event_type_grouped_event_type_18</th>\n",
       "      <th>...</th>\n",
       "      <th>log_features_grouped_others</th>\n",
       "      <th>number_of_log_feature</th>\n",
       "      <th>log_feature_logvol_count</th>\n",
       "      <th>log_feature_logvol_mean</th>\n",
       "      <th>log_feature_logvol_std</th>\n",
       "      <th>log_feature_logvol_min</th>\n",
       "      <th>log_feature_logvol_25%</th>\n",
       "      <th>log_feature_logvol_50%</th>\n",
       "      <th>log_feature_logvol_75%</th>\n",
       "      <th>log_feature_logvol_max</th>\n",
       "    </tr>\n",
       "  </thead>\n",
       "  <tbody>\n",
       "    <tr>\n",
       "      <th>2379</th>\n",
       "      <td>17078</td>\n",
       "      <td>location 12</td>\n",
       "      <td>0</td>\n",
       "      <td>12</td>\n",
       "      <td>0</td>\n",
       "      <td>1</td>\n",
       "      <td>0</td>\n",
       "      <td>0</td>\n",
       "      <td>1</td>\n",
       "      <td>0</td>\n",
       "      <td>...</td>\n",
       "      <td>NaN</td>\n",
       "      <td>NaN</td>\n",
       "      <td>NaN</td>\n",
       "      <td>NaN</td>\n",
       "      <td>NaN</td>\n",
       "      <td>NaN</td>\n",
       "      <td>NaN</td>\n",
       "      <td>NaN</td>\n",
       "      <td>NaN</td>\n",
       "      <td>NaN</td>\n",
       "    </tr>\n",
       "  </tbody>\n",
       "</table>\n",
       "<p>1 rows × 73 columns</p>\n",
       "</div>"
      ],
      "text/plain": [
       "         id     location  fault_severity  location_numeric  \\\n",
       "2379  17078  location 12               0                12   \n",
       "\n",
       "      event_type_grouped_event_type_10  event_type_grouped_event_type_11  \\\n",
       "2379                                 0                                 1   \n",
       "\n",
       "      event_type_grouped_event_type_13  event_type_grouped_event_type_14  \\\n",
       "2379                                 0                                 0   \n",
       "\n",
       "      event_type_grouped_event_type_15  event_type_grouped_event_type_18  \\\n",
       "2379                                 1                                 0   \n",
       "\n",
       "               ...            log_features_grouped_others  \\\n",
       "2379           ...                                    NaN   \n",
       "\n",
       "      number_of_log_feature  log_feature_logvol_count  \\\n",
       "2379                    NaN                       NaN   \n",
       "\n",
       "      log_feature_logvol_mean  log_feature_logvol_std  log_feature_logvol_min  \\\n",
       "2379                      NaN                     NaN                     NaN   \n",
       "\n",
       "      log_feature_logvol_25%  log_feature_logvol_50%  log_feature_logvol_75%  \\\n",
       "2379                     NaN                     NaN                     NaN   \n",
       "\n",
       "      log_feature_logvol_max  \n",
       "2379                     NaN  \n",
       "\n",
       "[1 rows x 73 columns]"
      ]
     },
     "execution_count": 157,
     "metadata": {},
     "output_type": "execute_result"
    }
   ],
   "source": [
    "# esta fila no tiene info relevante en log features, la quitare.\n",
    "df[df.log_feature_logvol_min.isnull()]"
   ]
  },
  {
   "cell_type": "code",
   "execution_count": 158,
   "metadata": {},
   "outputs": [],
   "source": [
    "df.drop(df[df.log_feature_logvol_min.isnull()].index, inplace=True)"
   ]
  },
  {
   "cell_type": "code",
   "execution_count": 160,
   "metadata": {},
   "outputs": [
    {
     "data": {
      "text/plain": [
       "log_feature_logvol_std    988\n",
       "dtype: int64"
      ]
     },
     "execution_count": 160,
     "metadata": {},
     "output_type": "execute_result"
    }
   ],
   "source": [
    "nul = df.isnull().sum()\n",
    "nul[nul !=0 ]"
   ]
  },
  {
   "cell_type": "code",
   "execution_count": 168,
   "metadata": {},
   "outputs": [
    {
     "data": {
      "text/plain": [
       "<matplotlib.collections.LineCollection at 0x7feb1517a438>"
      ]
     },
     "execution_count": 168,
     "metadata": {},
     "output_type": "execute_result"
    },
    {
     "data": {
      "image/png": "[encoded data removed]",
      "text/plain": [
       "<Figure size 432x288 with 1 Axes>"
      ]
     },
     "metadata": {
      "needs_background": "light"
     },
     "output_type": "display_data"
    }
   ],
   "source": [
    "df.log_feature_logvol_std.hist(bins=50)\n",
    "mi, ma = plt.ylim()\n",
    "plt.vlines(df.log_feature_logvol_std.mean(), mi, ma, color='orange')\n",
    "plt.vlines(df.log_feature_logvol_std.median(), mi, ma, color='blue')"
   ]
  },
  {
   "cell_type": "code",
   "execution_count": 174,
   "metadata": {},
   "outputs": [
    {
     "data": {
      "text/plain": [
       "0.000000    0.286765\n",
       "0.490129    0.055538\n",
       "0.400189    0.035670\n",
       "0.286707    0.015957\n",
       "0.346574    0.012046\n",
       "Name: log_feature_logvol_std, dtype: float64"
      ]
     },
     "execution_count": 174,
     "metadata": {},
     "output_type": "execute_result"
    }
   ],
   "source": [
    "df.log_feature_logvol_std.value_counts(normalize=True).head()"
   ]
  },
  {
   "cell_type": "markdown",
   "metadata": {},
   "source": [
    "### Se rellenara con 0's dado que son el 28 % de los datos y solo nos indicaria que no hay un cambio en el volumen en diversos eventos"
   ]
  },
  {
   "cell_type": "code",
   "execution_count": 175,
   "metadata": {},
   "outputs": [],
   "source": [
    "df.fillna(0,inplace=True)"
   ]
  },
  {
   "cell_type": "code",
   "execution_count": 176,
   "metadata": {},
   "outputs": [
    {
     "data": {
      "text/html": [
       "<div>\n",
       "<style scoped>\n",
       "    .dataframe tbody tr th:only-of-type {\n",
       "        vertical-align: middle;\n",
       "    }\n",
       "\n",
       "    .dataframe tbody tr th {\n",
       "        vertical-align: top;\n",
       "    }\n",
       "\n",
       "    .dataframe thead th {\n",
       "        text-align: right;\n",
       "    }\n",
       "</style>\n",
       "<table border=\"1\" class=\"dataframe\">\n",
       "  <thead>\n",
       "    <tr style=\"text-align: right;\">\n",
       "      <th></th>\n",
       "      <th>id</th>\n",
       "      <th>location</th>\n",
       "      <th>fault_severity</th>\n",
       "      <th>location_numeric</th>\n",
       "      <th>event_type_grouped_event_type_10</th>\n",
       "      <th>event_type_grouped_event_type_11</th>\n",
       "      <th>event_type_grouped_event_type_13</th>\n",
       "      <th>event_type_grouped_event_type_14</th>\n",
       "      <th>event_type_grouped_event_type_15</th>\n",
       "      <th>event_type_grouped_event_type_18</th>\n",
       "      <th>...</th>\n",
       "      <th>log_features_grouped_others</th>\n",
       "      <th>number_of_log_feature</th>\n",
       "      <th>log_feature_logvol_count</th>\n",
       "      <th>log_feature_logvol_mean</th>\n",
       "      <th>log_feature_logvol_std</th>\n",
       "      <th>log_feature_logvol_min</th>\n",
       "      <th>log_feature_logvol_25%</th>\n",
       "      <th>log_feature_logvol_50%</th>\n",
       "      <th>log_feature_logvol_75%</th>\n",
       "      <th>log_feature_logvol_max</th>\n",
       "    </tr>\n",
       "  </thead>\n",
       "  <tbody>\n",
       "  </tbody>\n",
       "</table>\n",
       "<p>0 rows × 73 columns</p>\n",
       "</div>"
      ],
      "text/plain": [
       "Empty DataFrame\n",
       "Columns: [id, location, fault_severity, location_numeric, event_type_grouped_event_type_10, event_type_grouped_event_type_11, event_type_grouped_event_type_13, event_type_grouped_event_type_14, event_type_grouped_event_type_15, event_type_grouped_event_type_18, event_type_grouped_event_type_20, event_type_grouped_event_type_21, event_type_grouped_event_type_22, event_type_grouped_event_type_23, event_type_grouped_event_type_26, event_type_grouped_event_type_32, event_type_grouped_event_type_34, event_type_grouped_event_type_35, event_type_grouped_event_type_42, event_type_grouped_event_type_43, event_type_grouped_event_type_44, event_type_grouped_event_type_47, event_type_grouped_event_type_50, event_type_grouped_event_type_54, event_type_grouped_others, number_of_event_types, resource_type_resource_type_1, resource_type_resource_type_10, resource_type_resource_type_2, resource_type_resource_type_3, resource_type_resource_type_4, resource_type_resource_type_5, resource_type_resource_type_6, resource_type_resource_type_7, resource_type_resource_type_8, resource_type_resource_type_9, number_of_resource_type, severety_type_ordinal, log_features_grouped_feature_134, log_features_grouped_feature_170, log_features_grouped_feature_193, log_features_grouped_feature_195, log_features_grouped_feature_201, log_features_grouped_feature_203, log_features_grouped_feature_219, log_features_grouped_feature_227, log_features_grouped_feature_232, log_features_grouped_feature_233, log_features_grouped_feature_234, log_features_grouped_feature_235, log_features_grouped_feature_301, log_features_grouped_feature_307, log_features_grouped_feature_309, log_features_grouped_feature_312, log_features_grouped_feature_313, log_features_grouped_feature_314, log_features_grouped_feature_315, log_features_grouped_feature_54, log_features_grouped_feature_68, log_features_grouped_feature_71, log_features_grouped_feature_73, log_features_grouped_feature_80, log_features_grouped_feature_82, log_features_grouped_others, number_of_log_feature, log_feature_logvol_count, log_feature_logvol_mean, log_feature_logvol_std, log_feature_logvol_min, log_feature_logvol_25%, log_feature_logvol_50%, log_feature_logvol_75%, log_feature_logvol_max]\n",
       "Index: []\n",
       "\n",
       "[0 rows x 73 columns]"
      ]
     },
     "execution_count": 176,
     "metadata": {},
     "output_type": "execute_result"
    }
   ],
   "source": [
    "df[df.isnull().any(axis=1)]"
   ]
  },
  {
   "cell_type": "markdown",
   "metadata": {},
   "source": [
    "## Analisis de variables nuevas"
   ]
  },
  {
   "cell_type": "code",
   "execution_count": 181,
   "metadata": {},
   "outputs": [
    {
     "name": "stderr",
     "output_type": "stream",
     "text": [
      "/home/serch/anaconda3/lib/python3.6/site-packages/pandas/core/frame.py:3781: SettingWithCopyWarning: \n",
      "A value is trying to be set on a copy of a slice from a DataFrame\n",
      "\n",
      "See the caveats in the documentation: http://pandas.pydata.org/pandas-docs/stable/indexing.html#indexing-view-versus-copy\n",
      "  return super(DataFrame, self).rename(**kwargs)\n"
     ]
    },
    {
     "data": {
      "text/html": [
       "\n",
       "        <iframe\n",
       "            width=\"100%\"\n",
       "            height=\"800px\"\n",
       "            src=\"ipynb_tmp/profile_7762575088.html\"\n",
       "            frameborder=\"0\"\n",
       "            allowfullscreen\n",
       "        ></iframe>\n",
       "        "
      ],
      "text/plain": [
       "<IPython.lib.display.IFrame at 0x7feb14a8e240>"
      ]
     },
     "metadata": {},
     "output_type": "display_data"
    },
    {
     "data": {
      "text/plain": []
     },
     "execution_count": 181,
     "metadata": {},
     "output_type": "execute_result"
    }
   ],
   "source": [
    "df[['id', 'location', 'fault_severity', 'location_numeric',\n",
    "        'severety_type_ordinal','number_of_event_types',\n",
    "        'number_of_log_feature', 'log_feature_logvol_count',\n",
    "       'log_feature_logvol_mean', 'log_feature_logvol_std',\n",
    "       'log_feature_logvol_min', 'log_feature_logvol_25%',\n",
    "       'log_feature_logvol_50%', 'log_feature_logvol_75%',\n",
    "       'log_feature_logvol_max']].profile_report()"
   ]
  },
  {
   "cell_type": "code",
   "execution_count": 182,
   "metadata": {},
   "outputs": [],
   "source": [
    "cols = ['id', 'location_numeric',\n",
    "        'severety_type_ordinal','number_of_event_types',\n",
    "        'number_of_log_feature', 'log_feature_logvol_count',\n",
    "       'log_feature_logvol_mean', 'log_feature_logvol_std',\n",
    "       'log_feature_logvol_min', 'log_feature_logvol_25%',\n",
    "       'log_feature_logvol_50%', 'log_feature_logvol_75%',\n",
    "       'log_feature_logvol_max']"
   ]
  },
  {
   "cell_type": "code",
   "execution_count": 191,
   "metadata": {},
   "outputs": [
    {
     "data": {
      "image/png": "[encoded data removed]",
      "text/plain": [
       "<Figure size 432x432 with 3 Axes>"
      ]
     },
     "metadata": {
      "needs_background": "light"
     },
     "output_type": "display_data"
    },
    {
     "data": {
      "image/png": "[encoded data removed]",
      "text/plain": [
       "<Figure size 432x432 with 3 Axes>"
      ]
     },
     "metadata": {
      "needs_background": "light"
     },
     "output_type": "display_data"
    },
    {
     "data": {
      "image/png": "[encoded data removed]",
      "text/plain": [
       "<Figure size 432x432 with 3 Axes>"
      ]
     },
     "metadata": {
      "needs_background": "light"
     },
     "output_type": "display_data"
    },
    {
     "data": {
      "image/png": "[encoded data removed]",
      "text/plain": [
       "<Figure size 432x432 with 3 Axes>"
      ]
     },
     "metadata": {
      "needs_background": "light"
     },
     "output_type": "display_data"
    },
    {
     "data": {
      "image/png": "[encoded data removed]",
      "text/plain": [
       "<Figure size 432x432 with 3 Axes>"
      ]
     },
     "metadata": {
      "needs_background": "light"
     },
     "output_type": "display_data"
    },
    {
     "data": {
      "image/png": "[encoded data removed]",
      "text/plain": [
       "<Figure size 432x432 with 3 Axes>"
      ]
     },
     "metadata": {
      "needs_background": "light"
     },
     "output_type": "display_data"
    },
    {
     "data": {
      "image/png": "[encoded data removed]",
      "text/plain": [
       "<Figure size 432x432 with 3 Axes>"
      ]
     },
     "metadata": {
      "needs_background": "light"
     },
     "output_type": "display_data"
    },
    {
     "data": {
      "image/png": "[encoded data removed]",
      "text/plain": [
       "<Figure size 432x432 with 3 Axes>"
      ]
     },
     "metadata": {
      "needs_background": "light"
     },
     "output_type": "display_data"
    },
    {
     "data": {
      "image/png": "[encoded data removed]",
      "text/plain": [
       "<Figure size 432x432 with 3 Axes>"
      ]
     },
     "metadata": {
      "needs_background": "light"
     },
     "output_type": "display_data"
    },
    {
     "data": {
      "image/png": "[encoded data removed]",
      "text/plain": [
       "<Figure size 432x432 with 3 Axes>"
      ]
     },
     "metadata": {
      "needs_background": "light"
     },
     "output_type": "display_data"
    },
    {
     "data": {
      "image/png": "[encoded data removed]",
      "text/plain": [
       "<Figure size 432x432 with 3 Axes>"
      ]
     },
     "metadata": {
      "needs_background": "light"
     },
     "output_type": "display_data"
    },
    {
     "data": {
      "image/png": "[encoded data removed]",
      "text/plain": [
       "<Figure size 432x432 with 3 Axes>"
      ]
     },
     "metadata": {
      "needs_background": "light"
     },
     "output_type": "display_data"
    },
    {
     "data": {
      "image/png": "[encoded data removed]",
      "text/plain": [
       "<Figure size 432x432 with 3 Axes>"
      ]
     },
     "metadata": {
      "needs_background": "light"
     },
     "output_type": "display_data"
    }
   ],
   "source": [
    "for col in cols:\n",
    "    sns.jointplot('fault_severity', col,df, kind='reg')\n",
    "    plt.title(col)\n",
    "    \n",
    "    plt.tight_layout()"
   ]
  },
  {
   "cell_type": "code",
   "execution_count": null,
   "metadata": {},
   "outputs": [],
   "source": []
  },
  {
   "cell_type": "code",
   "execution_count": 204,
   "metadata": {},
   "outputs": [
    {
     "data": {
      "text/html": [
       "<div>\n",
       "<style scoped>\n",
       "    .dataframe tbody tr th:only-of-type {\n",
       "        vertical-align: middle;\n",
       "    }\n",
       "\n",
       "    .dataframe tbody tr th {\n",
       "        vertical-align: top;\n",
       "    }\n",
       "\n",
       "    .dataframe thead th {\n",
       "        text-align: right;\n",
       "    }\n",
       "</style>\n",
       "<table border=\"1\" class=\"dataframe\">\n",
       "  <thead>\n",
       "    <tr style=\"text-align: right;\">\n",
       "      <th></th>\n",
       "      <th>id</th>\n",
       "      <th>location</th>\n",
       "      <th>location_numeric</th>\n",
       "      <th>fault_severity</th>\n",
       "      <th>severety_type_ordinal</th>\n",
       "    </tr>\n",
       "  </thead>\n",
       "  <tbody>\n",
       "    <tr>\n",
       "      <th>3616</th>\n",
       "      <td>2906</td>\n",
       "      <td>location 1</td>\n",
       "      <td>1</td>\n",
       "      <td>0</td>\n",
       "      <td>2</td>\n",
       "    </tr>\n",
       "    <tr>\n",
       "      <th>4239</th>\n",
       "      <td>1247</td>\n",
       "      <td>location 1</td>\n",
       "      <td>1</td>\n",
       "      <td>0</td>\n",
       "      <td>1</td>\n",
       "    </tr>\n",
       "    <tr>\n",
       "      <th>1148</th>\n",
       "      <td>15952</td>\n",
       "      <td>location 1</td>\n",
       "      <td>1</td>\n",
       "      <td>1</td>\n",
       "      <td>1</td>\n",
       "    </tr>\n",
       "    <tr>\n",
       "      <th>7333</th>\n",
       "      <td>1849</td>\n",
       "      <td>location 1</td>\n",
       "      <td>1</td>\n",
       "      <td>0</td>\n",
       "      <td>2</td>\n",
       "    </tr>\n",
       "    <tr>\n",
       "      <th>928</th>\n",
       "      <td>5337</td>\n",
       "      <td>location 1</td>\n",
       "      <td>1</td>\n",
       "      <td>0</td>\n",
       "      <td>1</td>\n",
       "    </tr>\n",
       "    <tr>\n",
       "      <th>919</th>\n",
       "      <td>3952</td>\n",
       "      <td>location 1</td>\n",
       "      <td>1</td>\n",
       "      <td>1</td>\n",
       "      <td>1</td>\n",
       "    </tr>\n",
       "    <tr>\n",
       "      <th>395</th>\n",
       "      <td>14595</td>\n",
       "      <td>location 1</td>\n",
       "      <td>1</td>\n",
       "      <td>1</td>\n",
       "      <td>2</td>\n",
       "    </tr>\n",
       "    <tr>\n",
       "      <th>5109</th>\n",
       "      <td>8148</td>\n",
       "      <td>location 1</td>\n",
       "      <td>1</td>\n",
       "      <td>1</td>\n",
       "      <td>1</td>\n",
       "    </tr>\n",
       "    <tr>\n",
       "      <th>6635</th>\n",
       "      <td>2250</td>\n",
       "      <td>location 1</td>\n",
       "      <td>1</td>\n",
       "      <td>0</td>\n",
       "      <td>1</td>\n",
       "    </tr>\n",
       "    <tr>\n",
       "      <th>4079</th>\n",
       "      <td>5280</td>\n",
       "      <td>location 1</td>\n",
       "      <td>1</td>\n",
       "      <td>1</td>\n",
       "      <td>1</td>\n",
       "    </tr>\n",
       "    <tr>\n",
       "      <th>144</th>\n",
       "      <td>8011</td>\n",
       "      <td>location 1</td>\n",
       "      <td>1</td>\n",
       "      <td>0</td>\n",
       "      <td>2</td>\n",
       "    </tr>\n",
       "    <tr>\n",
       "      <th>3570</th>\n",
       "      <td>16586</td>\n",
       "      <td>location 1</td>\n",
       "      <td>1</td>\n",
       "      <td>0</td>\n",
       "      <td>1</td>\n",
       "    </tr>\n",
       "    <tr>\n",
       "      <th>845</th>\n",
       "      <td>5259</td>\n",
       "      <td>location 1</td>\n",
       "      <td>1</td>\n",
       "      <td>0</td>\n",
       "      <td>1</td>\n",
       "    </tr>\n",
       "    <tr>\n",
       "      <th>4484</th>\n",
       "      <td>17595</td>\n",
       "      <td>location 1</td>\n",
       "      <td>1</td>\n",
       "      <td>2</td>\n",
       "      <td>1</td>\n",
       "    </tr>\n",
       "    <tr>\n",
       "      <th>464</th>\n",
       "      <td>4848</td>\n",
       "      <td>location 1</td>\n",
       "      <td>1</td>\n",
       "      <td>0</td>\n",
       "      <td>1</td>\n",
       "    </tr>\n",
       "    <tr>\n",
       "      <th>6017</th>\n",
       "      <td>16097</td>\n",
       "      <td>location 1</td>\n",
       "      <td>1</td>\n",
       "      <td>0</td>\n",
       "      <td>1</td>\n",
       "    </tr>\n",
       "    <tr>\n",
       "      <th>3359</th>\n",
       "      <td>1235</td>\n",
       "      <td>location 1</td>\n",
       "      <td>1</td>\n",
       "      <td>1</td>\n",
       "      <td>1</td>\n",
       "    </tr>\n",
       "    <tr>\n",
       "      <th>2192</th>\n",
       "      <td>17041</td>\n",
       "      <td>location 1</td>\n",
       "      <td>1</td>\n",
       "      <td>1</td>\n",
       "      <td>1</td>\n",
       "    </tr>\n",
       "    <tr>\n",
       "      <th>245</th>\n",
       "      <td>2588</td>\n",
       "      <td>location 1</td>\n",
       "      <td>1</td>\n",
       "      <td>0</td>\n",
       "      <td>1</td>\n",
       "    </tr>\n",
       "    <tr>\n",
       "      <th>6553</th>\n",
       "      <td>6914</td>\n",
       "      <td>location 1</td>\n",
       "      <td>1</td>\n",
       "      <td>0</td>\n",
       "      <td>1</td>\n",
       "    </tr>\n",
       "    <tr>\n",
       "      <th>4152</th>\n",
       "      <td>15494</td>\n",
       "      <td>location 1</td>\n",
       "      <td>1</td>\n",
       "      <td>0</td>\n",
       "      <td>1</td>\n",
       "    </tr>\n",
       "    <tr>\n",
       "      <th>2323</th>\n",
       "      <td>9664</td>\n",
       "      <td>location 1</td>\n",
       "      <td>1</td>\n",
       "      <td>1</td>\n",
       "      <td>2</td>\n",
       "    </tr>\n",
       "    <tr>\n",
       "      <th>1670</th>\n",
       "      <td>4703</td>\n",
       "      <td>location 1</td>\n",
       "      <td>1</td>\n",
       "      <td>2</td>\n",
       "      <td>1</td>\n",
       "    </tr>\n",
       "    <tr>\n",
       "      <th>5970</th>\n",
       "      <td>16949</td>\n",
       "      <td>location 1</td>\n",
       "      <td>1</td>\n",
       "      <td>0</td>\n",
       "      <td>2</td>\n",
       "    </tr>\n",
       "    <tr>\n",
       "      <th>6988</th>\n",
       "      <td>972</td>\n",
       "      <td>location 2</td>\n",
       "      <td>2</td>\n",
       "      <td>0</td>\n",
       "      <td>1</td>\n",
       "    </tr>\n",
       "    <tr>\n",
       "      <th>5843</th>\n",
       "      <td>2907</td>\n",
       "      <td>location 2</td>\n",
       "      <td>2</td>\n",
       "      <td>1</td>\n",
       "      <td>1</td>\n",
       "    </tr>\n",
       "    <tr>\n",
       "      <th>6782</th>\n",
       "      <td>15276</td>\n",
       "      <td>location 2</td>\n",
       "      <td>2</td>\n",
       "      <td>1</td>\n",
       "      <td>1</td>\n",
       "    </tr>\n",
       "    <tr>\n",
       "      <th>6162</th>\n",
       "      <td>12445</td>\n",
       "      <td>location 2</td>\n",
       "      <td>2</td>\n",
       "      <td>1</td>\n",
       "      <td>1</td>\n",
       "    </tr>\n",
       "    <tr>\n",
       "      <th>1552</th>\n",
       "      <td>15862</td>\n",
       "      <td>location 2</td>\n",
       "      <td>2</td>\n",
       "      <td>1</td>\n",
       "      <td>2</td>\n",
       "    </tr>\n",
       "    <tr>\n",
       "      <th>5903</th>\n",
       "      <td>9386</td>\n",
       "      <td>location 2</td>\n",
       "      <td>2</td>\n",
       "      <td>0</td>\n",
       "      <td>1</td>\n",
       "    </tr>\n",
       "    <tr>\n",
       "      <th>...</th>\n",
       "      <td>...</td>\n",
       "      <td>...</td>\n",
       "      <td>...</td>\n",
       "      <td>...</td>\n",
       "      <td>...</td>\n",
       "    </tr>\n",
       "    <tr>\n",
       "      <th>2068</th>\n",
       "      <td>14758</td>\n",
       "      <td>location 1115</td>\n",
       "      <td>1115</td>\n",
       "      <td>0</td>\n",
       "      <td>2</td>\n",
       "    </tr>\n",
       "    <tr>\n",
       "      <th>2115</th>\n",
       "      <td>3769</td>\n",
       "      <td>location 1115</td>\n",
       "      <td>1115</td>\n",
       "      <td>0</td>\n",
       "      <td>1</td>\n",
       "    </tr>\n",
       "    <tr>\n",
       "      <th>3147</th>\n",
       "      <td>4715</td>\n",
       "      <td>location 1116</td>\n",
       "      <td>1116</td>\n",
       "      <td>0</td>\n",
       "      <td>1</td>\n",
       "    </tr>\n",
       "    <tr>\n",
       "      <th>3427</th>\n",
       "      <td>10479</td>\n",
       "      <td>location 1116</td>\n",
       "      <td>1116</td>\n",
       "      <td>0</td>\n",
       "      <td>1</td>\n",
       "    </tr>\n",
       "    <tr>\n",
       "      <th>6209</th>\n",
       "      <td>3860</td>\n",
       "      <td>location 1116</td>\n",
       "      <td>1116</td>\n",
       "      <td>0</td>\n",
       "      <td>1</td>\n",
       "    </tr>\n",
       "    <tr>\n",
       "      <th>712</th>\n",
       "      <td>4969</td>\n",
       "      <td>location 1117</td>\n",
       "      <td>1117</td>\n",
       "      <td>0</td>\n",
       "      <td>2</td>\n",
       "    </tr>\n",
       "    <tr>\n",
       "      <th>1462</th>\n",
       "      <td>3199</td>\n",
       "      <td>location 1117</td>\n",
       "      <td>1117</td>\n",
       "      <td>0</td>\n",
       "      <td>1</td>\n",
       "    </tr>\n",
       "    <tr>\n",
       "      <th>1294</th>\n",
       "      <td>13803</td>\n",
       "      <td>location 1117</td>\n",
       "      <td>1117</td>\n",
       "      <td>0</td>\n",
       "      <td>2</td>\n",
       "    </tr>\n",
       "    <tr>\n",
       "      <th>6432</th>\n",
       "      <td>15370</td>\n",
       "      <td>location 1117</td>\n",
       "      <td>1117</td>\n",
       "      <td>0</td>\n",
       "      <td>1</td>\n",
       "    </tr>\n",
       "    <tr>\n",
       "      <th>904</th>\n",
       "      <td>9908</td>\n",
       "      <td>location 1117</td>\n",
       "      <td>1117</td>\n",
       "      <td>0</td>\n",
       "      <td>2</td>\n",
       "    </tr>\n",
       "    <tr>\n",
       "      <th>5360</th>\n",
       "      <td>1309</td>\n",
       "      <td>location 1117</td>\n",
       "      <td>1117</td>\n",
       "      <td>1</td>\n",
       "      <td>1</td>\n",
       "    </tr>\n",
       "    <tr>\n",
       "      <th>3654</th>\n",
       "      <td>10573</td>\n",
       "      <td>location 1117</td>\n",
       "      <td>1117</td>\n",
       "      <td>0</td>\n",
       "      <td>1</td>\n",
       "    </tr>\n",
       "    <tr>\n",
       "      <th>320</th>\n",
       "      <td>8583</td>\n",
       "      <td>location 1117</td>\n",
       "      <td>1117</td>\n",
       "      <td>0</td>\n",
       "      <td>1</td>\n",
       "    </tr>\n",
       "    <tr>\n",
       "      <th>4297</th>\n",
       "      <td>5493</td>\n",
       "      <td>location 1117</td>\n",
       "      <td>1117</td>\n",
       "      <td>0</td>\n",
       "      <td>1</td>\n",
       "    </tr>\n",
       "    <tr>\n",
       "      <th>520</th>\n",
       "      <td>6197</td>\n",
       "      <td>location 1117</td>\n",
       "      <td>1117</td>\n",
       "      <td>0</td>\n",
       "      <td>2</td>\n",
       "    </tr>\n",
       "    <tr>\n",
       "      <th>937</th>\n",
       "      <td>7657</td>\n",
       "      <td>location 1118</td>\n",
       "      <td>1118</td>\n",
       "      <td>0</td>\n",
       "      <td>1</td>\n",
       "    </tr>\n",
       "    <tr>\n",
       "      <th>3460</th>\n",
       "      <td>9470</td>\n",
       "      <td>location 1118</td>\n",
       "      <td>1118</td>\n",
       "      <td>1</td>\n",
       "      <td>1</td>\n",
       "    </tr>\n",
       "    <tr>\n",
       "      <th>5810</th>\n",
       "      <td>1005</td>\n",
       "      <td>location 1118</td>\n",
       "      <td>1118</td>\n",
       "      <td>0</td>\n",
       "      <td>1</td>\n",
       "    </tr>\n",
       "    <tr>\n",
       "      <th>3501</th>\n",
       "      <td>5587</td>\n",
       "      <td>location 1119</td>\n",
       "      <td>1119</td>\n",
       "      <td>0</td>\n",
       "      <td>1</td>\n",
       "    </tr>\n",
       "    <tr>\n",
       "      <th>708</th>\n",
       "      <td>10478</td>\n",
       "      <td>location 1119</td>\n",
       "      <td>1119</td>\n",
       "      <td>2</td>\n",
       "      <td>1</td>\n",
       "    </tr>\n",
       "    <tr>\n",
       "      <th>990</th>\n",
       "      <td>8422</td>\n",
       "      <td>location 1120</td>\n",
       "      <td>1120</td>\n",
       "      <td>1</td>\n",
       "      <td>1</td>\n",
       "    </tr>\n",
       "    <tr>\n",
       "      <th>1564</th>\n",
       "      <td>12992</td>\n",
       "      <td>location 1120</td>\n",
       "      <td>1120</td>\n",
       "      <td>0</td>\n",
       "      <td>1</td>\n",
       "    </tr>\n",
       "    <tr>\n",
       "      <th>4348</th>\n",
       "      <td>15221</td>\n",
       "      <td>location 1120</td>\n",
       "      <td>1120</td>\n",
       "      <td>1</td>\n",
       "      <td>1</td>\n",
       "    </tr>\n",
       "    <tr>\n",
       "      <th>5624</th>\n",
       "      <td>906</td>\n",
       "      <td>location 1120</td>\n",
       "      <td>1120</td>\n",
       "      <td>0</td>\n",
       "      <td>1</td>\n",
       "    </tr>\n",
       "    <tr>\n",
       "      <th>2366</th>\n",
       "      <td>7850</td>\n",
       "      <td>location 1121</td>\n",
       "      <td>1121</td>\n",
       "      <td>1</td>\n",
       "      <td>1</td>\n",
       "    </tr>\n",
       "    <tr>\n",
       "      <th>5113</th>\n",
       "      <td>3073</td>\n",
       "      <td>location 1121</td>\n",
       "      <td>1121</td>\n",
       "      <td>1</td>\n",
       "      <td>1</td>\n",
       "    </tr>\n",
       "    <tr>\n",
       "      <th>242</th>\n",
       "      <td>1697</td>\n",
       "      <td>location 1122</td>\n",
       "      <td>1122</td>\n",
       "      <td>0</td>\n",
       "      <td>1</td>\n",
       "    </tr>\n",
       "    <tr>\n",
       "      <th>522</th>\n",
       "      <td>14544</td>\n",
       "      <td>location 1125</td>\n",
       "      <td>1125</td>\n",
       "      <td>1</td>\n",
       "      <td>1</td>\n",
       "    </tr>\n",
       "    <tr>\n",
       "      <th>3503</th>\n",
       "      <td>11436</td>\n",
       "      <td>location 1126</td>\n",
       "      <td>1126</td>\n",
       "      <td>0</td>\n",
       "      <td>1</td>\n",
       "    </tr>\n",
       "    <tr>\n",
       "      <th>6347</th>\n",
       "      <td>13149</td>\n",
       "      <td>location 1126</td>\n",
       "      <td>1126</td>\n",
       "      <td>0</td>\n",
       "      <td>1</td>\n",
       "    </tr>\n",
       "  </tbody>\n",
       "</table>\n",
       "<p>7380 rows × 5 columns</p>\n",
       "</div>"
      ],
      "text/plain": [
       "         id       location  location_numeric  fault_severity  \\\n",
       "3616   2906     location 1                 1               0   \n",
       "4239   1247     location 1                 1               0   \n",
       "1148  15952     location 1                 1               1   \n",
       "7333   1849     location 1                 1               0   \n",
       "928    5337     location 1                 1               0   \n",
       "919    3952     location 1                 1               1   \n",
       "395   14595     location 1                 1               1   \n",
       "5109   8148     location 1                 1               1   \n",
       "6635   2250     location 1                 1               0   \n",
       "4079   5280     location 1                 1               1   \n",
       "144    8011     location 1                 1               0   \n",
       "3570  16586     location 1                 1               0   \n",
       "845    5259     location 1                 1               0   \n",
       "4484  17595     location 1                 1               2   \n",
       "464    4848     location 1                 1               0   \n",
       "6017  16097     location 1                 1               0   \n",
       "3359   1235     location 1                 1               1   \n",
       "2192  17041     location 1                 1               1   \n",
       "245    2588     location 1                 1               0   \n",
       "6553   6914     location 1                 1               0   \n",
       "4152  15494     location 1                 1               0   \n",
       "2323   9664     location 1                 1               1   \n",
       "1670   4703     location 1                 1               2   \n",
       "5970  16949     location 1                 1               0   \n",
       "6988    972     location 2                 2               0   \n",
       "5843   2907     location 2                 2               1   \n",
       "6782  15276     location 2                 2               1   \n",
       "6162  12445     location 2                 2               1   \n",
       "1552  15862     location 2                 2               1   \n",
       "5903   9386     location 2                 2               0   \n",
       "...     ...            ...               ...             ...   \n",
       "2068  14758  location 1115              1115               0   \n",
       "2115   3769  location 1115              1115               0   \n",
       "3147   4715  location 1116              1116               0   \n",
       "3427  10479  location 1116              1116               0   \n",
       "6209   3860  location 1116              1116               0   \n",
       "712    4969  location 1117              1117               0   \n",
       "1462   3199  location 1117              1117               0   \n",
       "1294  13803  location 1117              1117               0   \n",
       "6432  15370  location 1117              1117               0   \n",
       "904    9908  location 1117              1117               0   \n",
       "5360   1309  location 1117              1117               1   \n",
       "3654  10573  location 1117              1117               0   \n",
       "320    8583  location 1117              1117               0   \n",
       "4297   5493  location 1117              1117               0   \n",
       "520    6197  location 1117              1117               0   \n",
       "937    7657  location 1118              1118               0   \n",
       "3460   9470  location 1118              1118               1   \n",
       "5810   1005  location 1118              1118               0   \n",
       "3501   5587  location 1119              1119               0   \n",
       "708   10478  location 1119              1119               2   \n",
       "990    8422  location 1120              1120               1   \n",
       "1564  12992  location 1120              1120               0   \n",
       "4348  15221  location 1120              1120               1   \n",
       "5624    906  location 1120              1120               0   \n",
       "2366   7850  location 1121              1121               1   \n",
       "5113   3073  location 1121              1121               1   \n",
       "242    1697  location 1122              1122               0   \n",
       "522   14544  location 1125              1125               1   \n",
       "3503  11436  location 1126              1126               0   \n",
       "6347  13149  location 1126              1126               0   \n",
       "\n",
       "      severety_type_ordinal  \n",
       "3616                      2  \n",
       "4239                      1  \n",
       "1148                      1  \n",
       "7333                      2  \n",
       "928                       1  \n",
       "919                       1  \n",
       "395                       2  \n",
       "5109                      1  \n",
       "6635                      1  \n",
       "4079                      1  \n",
       "144                       2  \n",
       "3570                      1  \n",
       "845                       1  \n",
       "4484                      1  \n",
       "464                       1  \n",
       "6017                      1  \n",
       "3359                      1  \n",
       "2192                      1  \n",
       "245                       1  \n",
       "6553                      1  \n",
       "4152                      1  \n",
       "2323                      2  \n",
       "1670                      1  \n",
       "5970                      2  \n",
       "6988                      1  \n",
       "5843                      1  \n",
       "6782                      1  \n",
       "6162                      1  \n",
       "1552                      2  \n",
       "5903                      1  \n",
       "...                     ...  \n",
       "2068                      2  \n",
       "2115                      1  \n",
       "3147                      1  \n",
       "3427                      1  \n",
       "6209                      1  \n",
       "712                       2  \n",
       "1462                      1  \n",
       "1294                      2  \n",
       "6432                      1  \n",
       "904                       2  \n",
       "5360                      1  \n",
       "3654                      1  \n",
       "320                       1  \n",
       "4297                      1  \n",
       "520                       2  \n",
       "937                       1  \n",
       "3460                      1  \n",
       "5810                      1  \n",
       "3501                      1  \n",
       "708                       1  \n",
       "990                       1  \n",
       "1564                      1  \n",
       "4348                      1  \n",
       "5624                      1  \n",
       "2366                      1  \n",
       "5113                      1  \n",
       "242                       1  \n",
       "522                       1  \n",
       "3503                      1  \n",
       "6347                      1  \n",
       "\n",
       "[7380 rows x 5 columns]"
      ]
     },
     "execution_count": 204,
     "metadata": {},
     "output_type": "execute_result"
    }
   ],
   "source": [
    "df[['id','location','location_numeric','fault_severity', 'severety_type_ordinal']].sort_values('location_numeric')"
   ]
  },
  {
   "cell_type": "code",
   "execution_count": 205,
   "metadata": {},
   "outputs": [
    {
     "data": {
      "text/plain": [
       "Index(['id', 'location', 'fault_severity', 'location_numeric',\n",
       "       'event_type_grouped_event_type_10', 'event_type_grouped_event_type_11',\n",
       "       'event_type_grouped_event_type_13', 'event_type_grouped_event_type_14',\n",
       "       'event_type_grouped_event_type_15', 'event_type_grouped_event_type_18',\n",
       "       'event_type_grouped_event_type_20', 'event_type_grouped_event_type_21',\n",
       "       'event_type_grouped_event_type_22', 'event_type_grouped_event_type_23',\n",
       "       'event_type_grouped_event_type_26', 'event_type_grouped_event_type_32',\n",
       "       'event_type_grouped_event_type_34', 'event_type_grouped_event_type_35',\n",
       "       'event_type_grouped_event_type_42', 'event_type_grouped_event_type_43',\n",
       "       'event_type_grouped_event_type_44', 'event_type_grouped_event_type_47',\n",
       "       'event_type_grouped_event_type_50', 'event_type_grouped_event_type_54',\n",
       "       'event_type_grouped_others', 'number_of_event_types',\n",
       "       'resource_type_resource_type_1', 'resource_type_resource_type_10',\n",
       "       'resource_type_resource_type_2', 'resource_type_resource_type_3',\n",
       "       'resource_type_resource_type_4', 'resource_type_resource_type_5',\n",
       "       'resource_type_resource_type_6', 'resource_type_resource_type_7',\n",
       "       'resource_type_resource_type_8', 'resource_type_resource_type_9',\n",
       "       'number_of_resource_type', 'severety_type_ordinal',\n",
       "       'log_features_grouped_feature_134', 'log_features_grouped_feature_170',\n",
       "       'log_features_grouped_feature_193', 'log_features_grouped_feature_195',\n",
       "       'log_features_grouped_feature_201', 'log_features_grouped_feature_203',\n",
       "       'log_features_grouped_feature_219', 'log_features_grouped_feature_227',\n",
       "       'log_features_grouped_feature_232', 'log_features_grouped_feature_233',\n",
       "       'log_features_grouped_feature_234', 'log_features_grouped_feature_235',\n",
       "       'log_features_grouped_feature_301', 'log_features_grouped_feature_307',\n",
       "       'log_features_grouped_feature_309', 'log_features_grouped_feature_312',\n",
       "       'log_features_grouped_feature_313', 'log_features_grouped_feature_314',\n",
       "       'log_features_grouped_feature_315', 'log_features_grouped_feature_54',\n",
       "       'log_features_grouped_feature_68', 'log_features_grouped_feature_71',\n",
       "       'log_features_grouped_feature_73', 'log_features_grouped_feature_80',\n",
       "       'log_features_grouped_feature_82', 'log_features_grouped_others',\n",
       "       'number_of_log_feature', 'log_feature_logvol_count',\n",
       "       'log_feature_logvol_mean', 'log_feature_logvol_std',\n",
       "       'log_feature_logvol_min', 'log_feature_logvol_25%',\n",
       "       'log_feature_logvol_50%', 'log_feature_logvol_75%',\n",
       "       'log_feature_logvol_max'],\n",
       "      dtype='object')"
      ]
     },
     "execution_count": 205,
     "metadata": {},
     "output_type": "execute_result"
    }
   ],
   "source": [
    "df.columns"
   ]
  },
  {
   "cell_type": "markdown",
   "metadata": {},
   "source": [
    "## Hora del entrenamiento "
   ]
  },
  {
   "cell_type": "code",
   "execution_count": null,
   "metadata": {},
   "outputs": [],
   "source": []
  }
 ],
 "metadata": {
  "kernelspec": {
   "display_name": "Python 3",
   "language": "python",
   "name": "python3"
  },
  "language_info": {
   "codemirror_mode": {
    "name": "ipython",
    "version": 3
   },
   "file_extension": ".py",
   "mimetype": "text/x-python",
   "name": "python",
   "nbconvert_exporter": "python",
   "pygments_lexer": "ipython3",
   "version": "3.6.6"
  }
 },
 "nbformat": 4,
 "nbformat_minor": 2
}
